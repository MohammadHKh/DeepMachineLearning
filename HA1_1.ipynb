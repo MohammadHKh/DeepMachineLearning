{
 "cells": [
  {
   "cell_type": "markdown",
   "metadata": {
    "deletable": false,
    "editable": false,
    "nbgrader": {
     "cell_type": "markdown",
     "checksum": "5fa9f96d4ca0144b2db877078cf7b2f8",
     "grade": false,
     "grade_id": "cell-5690119ead85e67e",
     "locked": true,
     "schema_version": 3,
     "solution": false,
     "task": false
    }
   },
   "source": [
    "### Checklist for submission\n",
    "\n",
    "It is extremely important to make sure that:\n",
    "\n",
    "1. Everything runs as expected (no bugs when running cells);\n",
    "2. The output from each cell corresponds to its code (don't change any cell's contents without rerunning it afterwards);\n",
    "3. All outputs are present (don't delete any of the outputs);\n",
    "4. Fill in all the places that say `# YOUR CODE HERE`, or \"**Your answer:** (fill in here)\".\n",
    "5. Never copy/paste any notebook cells. Inserting new cells is allowed, but it should not be necessary.\n",
    "6. The notebook contains some hidden metadata which is important during our grading process. **Make sure not to corrupt any of this metadata!** The metadata may for example be corrupted if you copy/paste any notebook cells, or if you perform an unsuccessful git merge / git pull. It may also be pruned completely if using Google Colab, so watch out for this. Searching for \"nbgrader\" when opening the notebook in a text editor should take you to the important metadata entries.\n",
    "7. Although we will try our very best to avoid this, it may happen that bugs are found after an assignment is released, and that we will push an updated version of the assignment to GitHub. If this happens, it is important that you update to the new version, while making sure the notebook metadata is properly updated as well. The safest way to make sure nothing gets messed up is to start from scratch on a clean updated version of the notebook, copy/pasting your code from the cells of the previous version into the cells of the new version.\n",
    "8. If you need to have multiple parallel versions of this notebook, make sure not to move them to another directory.\n",
    "9. Although not forced to work exclusively in the course `conda` environment, you need to make sure that the notebook will run in that environment, i.e. that you have not added any additional dependencies.\n",
    "\n",
    "**FOR HA1, HA2, HA3 ONLY:** Failing to meet any of these requirements might lead to either a subtraction of POEs (at best) or a request for resubmission (at worst).\n",
    "\n",
    "We advise you to perform the following steps before submission to ensure that requirements 1, 2, and 3 are always met: **Restart the kernel** (in the menubar, select Kernel$\\rightarrow$Restart) and then **run all cells** (in the menubar, select Cell$\\rightarrow$Run All). This might require a bit of time, so plan ahead for this (and possibly use Google Cloud's GPU in HA1 and HA2 for this step). Finally press the \"Save and Checkout\" button before handing in, to make sure that all your changes are saved to this .ipynb file."
   ]
  },
  {
   "cell_type": "markdown",
   "metadata": {
    "deletable": false,
    "editable": false,
    "nbgrader": {
     "cell_type": "markdown",
     "checksum": "a6bb874a16c1ff767ac0f37ce0491265",
     "grade": false,
     "grade_id": "cell-774c93bf6433de68",
     "locked": true,
     "schema_version": 3,
     "solution": false,
     "task": false
    }
   },
   "source": [
    "### Fill in name of notebook file\n",
    "This might seem silly, but the version check below needs to know the filename of the current notebook, which is not trivial to find out programmatically.\n",
    "\n",
    "You might want to have several parallel versions of the notebook, and it is fine to rename the notebook as long as it stays in the same directory. **However**, if you do rename it, you also need to update its own filename below:"
   ]
  },
  {
   "cell_type": "code",
   "execution_count": null,
   "metadata": {},
   "outputs": [],
   "source": [
    "# nb_fname = \"XXX.ipynb\""
   ]
  },
  {
   "cell_type": "markdown",
   "metadata": {
    "deletable": false,
    "editable": false,
    "nbgrader": {
     "cell_type": "markdown",
     "checksum": "879883c2ea755808ffd00aeee5c77a00",
     "grade": false,
     "grade_id": "cell-5676bcf768a7f9be",
     "locked": true,
     "schema_version": 3,
     "solution": false,
     "task": false
    }
   },
   "source": [
    "### Fill in group number and member names (use NAME2 and GROUP only for HA1, HA2 and HA3):"
   ]
  },
  {
   "cell_type": "code",
   "execution_count": null,
   "metadata": {},
   "outputs": [],
   "source": [
    "NAME1 = \"\" \n",
    "NAME2 = \"\"\n",
    "GROUP = \"\""
   ]
  },
  {
   "cell_type": "markdown",
   "metadata": {
    "deletable": false,
    "editable": false,
    "nbgrader": {
     "cell_type": "markdown",
     "checksum": "42f960a95815e1aa3ce8132fcec59cd9",
     "grade": false,
     "grade_id": "cell-a15fe781533d9590",
     "locked": true,
     "schema_version": 3,
     "solution": false,
     "task": false
    }
   },
   "source": [
    "### Check Python version"
   ]
  },
  {
   "cell_type": "code",
   "execution_count": null,
   "metadata": {
    "deletable": false,
    "editable": false,
    "nbgrader": {
     "cell_type": "code",
     "checksum": "4a5517d7993b4b35049f0013dd6a3f55",
     "grade": false,
     "grade_id": "cell-2b9c2390ee464c39",
     "locked": true,
     "schema_version": 3,
     "solution": false,
     "task": false
    }
   },
   "outputs": [],
   "source": [
    "from platform import python_version_tuple\n",
    "assert python_version_tuple()[:2] == ('3','7'), \"You are not running Python 3.7. Make sure to run Python through the course Conda environment.\""
   ]
  },
  {
   "cell_type": "markdown",
   "metadata": {
    "deletable": false,
    "editable": false,
    "nbgrader": {
     "cell_type": "markdown",
     "checksum": "15ec4309f1e85f6e17bda73b9b6f48a2",
     "grade": false,
     "grade_id": "cell-4869b45600ce82f8",
     "locked": true,
     "schema_version": 3,
     "solution": false,
     "task": false
    }
   },
   "source": [
    "### Check that notebook server has access to all required resources, and that notebook has not moved"
   ]
  },
  {
   "cell_type": "code",
   "execution_count": null,
   "metadata": {
    "deletable": false,
    "editable": false,
    "nbgrader": {
     "cell_type": "code",
     "checksum": "a2d199303c73ec86d25177caf39e385f",
     "grade": false,
     "grade_id": "cell-122ac3d9100b8afb",
     "locked": true,
     "schema_version": 3,
     "solution": false,
     "task": false
    }
   },
   "outputs": [],
   "source": [
    "import os\n",
    "nb_dirname = os.path.abspath('')\n",
    "assignment_name = os.path.basename(nb_dirname)\n",
    "assert assignment_name in ['IHA1', 'IHA2', 'HA1', 'HA2', 'HA3'], \\\n",
    "    '[ERROR] The notebook appears to have been moved from its original directory'"
   ]
  },
  {
   "cell_type": "markdown",
   "metadata": {
    "deletable": false,
    "editable": false,
    "nbgrader": {
     "cell_type": "markdown",
     "checksum": "f09f40b5350db83232189137c550f0a1",
     "grade": false,
     "grade_id": "cell-2455deee513cd39c",
     "locked": true,
     "schema_version": 3,
     "solution": false,
     "task": false
    }
   },
   "source": [
    "### Verify correct nb_fname"
   ]
  },
  {
   "cell_type": "code",
   "execution_count": null,
   "metadata": {
    "deletable": false,
    "editable": false,
    "nbgrader": {
     "cell_type": "code",
     "checksum": "a78c7227b049bb147e6c363affb6dae8",
     "grade": false,
     "grade_id": "cell-0472e2fd710f1d72",
     "locked": true,
     "schema_version": 3,
     "solution": false,
     "task": false
    }
   },
   "outputs": [],
   "source": [
    "from IPython.display import display, HTML\n",
    "try:\n",
    "    display(HTML(r'<script>if(\"{nb_fname}\" != IPython.notebook.notebook_name) {{ alert(\"You have filled in nb_fname = \\\"{nb_fname}\\\", but this does not seem to match the notebook filename \\\"\" + IPython.notebook.notebook_name + \"\\\".\"); }}</script>'.format(nb_fname=nb_fname)))\n",
    "except NameError:\n",
    "    assert False, 'Make sure to fill in the nb_fname variable above!'"
   ]
  },
  {
   "cell_type": "markdown",
   "metadata": {
    "deletable": false,
    "editable": false,
    "nbgrader": {
     "cell_type": "markdown",
     "checksum": "98d88d8e8da19693053764f29dcc591d",
     "grade": false,
     "grade_id": "cell-ceacb1adcae4783d",
     "locked": true,
     "schema_version": 3,
     "solution": false,
     "task": false
    }
   },
   "source": [
    "### Verify that your notebook is up-to-date and not corrupted in any way"
   ]
  },
  {
   "cell_type": "code",
   "execution_count": null,
   "metadata": {
    "deletable": false,
    "editable": false,
    "nbgrader": {
     "cell_type": "code",
     "checksum": "bb700528d4644601c1a8c91ef1d84635",
     "grade": false,
     "grade_id": "cell-f5a59288e11b4aec",
     "locked": true,
     "schema_version": 3,
     "solution": false,
     "task": false
    }
   },
   "outputs": [],
   "source": [
    "import sys\n",
    "sys.path.append('..')\n",
    "from ha_utils import check_notebook_uptodate_and_not_corrupted\n",
    "check_notebook_uptodate_and_not_corrupted(nb_dirname, nb_fname)"
   ]
  },
  {
   "cell_type": "markdown",
   "metadata": {
    "deletable": false,
    "editable": false,
    "nbgrader": {
     "cell_type": "markdown",
     "checksum": "f0dd7cbad727dec0308b03071cff6d79",
     "grade": false,
     "grade_id": "cell-8092c3fd452a3245",
     "locked": true,
     "schema_version": 3,
     "solution": false
    }
   },
   "source": [
    "# HA1 - Cats and dogs"
   ]
  },
  {
   "cell_type": "markdown",
   "metadata": {
    "deletable": false,
    "editable": false,
    "nbgrader": {
     "cell_type": "markdown",
     "checksum": "a54241ea89512f794ee9e366f2ef92f3",
     "grade": false,
     "grade_id": "cell-0235e816fc98b0f6",
     "locked": true,
     "schema_version": 3,
     "solution": false
    }
   },
   "source": [
    "<img src=\"https://cdn.pixabay.com/photo/2015/05/20/10/03/cat-and-dog-775116_960_720.jpg\" alt=\"Image of cats and dogs\" style=\"width: 500px;\"/>"
   ]
  },
  {
   "cell_type": "markdown",
   "metadata": {
    "deletable": false,
    "editable": false,
    "nbgrader": {
     "cell_type": "markdown",
     "checksum": "fdc628c18fc9d6f74c31d438a71ee482",
     "grade": false,
     "grade_id": "cell-c4bb694612153106",
     "locked": true,
     "schema_version": 3,
     "solution": false
    }
   },
   "source": [
    "For this home assignment, we'll use the Kaggle dataset for the [Dogs vs. Cats competition](https://www.kaggle.com/c/dogs-vs-cats). It is comprised of 25k colour images of dogs and cats. Our goal with this dataset will be to create a classifier that can tell us if the input image is of a cat or a dog."
   ]
  },
  {
   "cell_type": "markdown",
   "metadata": {
    "deletable": false,
    "editable": false,
    "nbgrader": {
     "cell_type": "markdown",
     "checksum": "74fa6126f847f4dcd7beb20fd3883a15",
     "grade": false,
     "grade_id": "cell-ee9e2aee031325a2",
     "locked": true,
     "schema_version": 3,
     "solution": false,
     "task": false
    }
   },
   "source": [
    "## Using your cloud GPU\n",
    "As a way of helping you speed up the training process, each group gets access to a cloud instance with a GPU. Take a look at the [instructions folder](https://github.com/JulianoLagana/deep-machine-learning/blob/master/instructions/) to understand how to connect to an instance and use our tools there. You're free to use this limited resource as you see fit, but if you spend all your credits, you'll need a late day to obtain more (and you can only do this once).\n",
    "\n",
    "### Strong recommendation:\n",
    "In order to make the most out of your GPU hours, first try solving the initial part of this notebook (tasks 0-3) in your own computer (these tasks can be solved on the CPU), and leave most of the available hours for solving tasks 4-5, and refining your best model further (and, if you have the spare hours, experiment a bit!).\n",
    "\n",
    "### Working efficiently:\n",
    "Training for several epochs just to have your code break at the last validation step is incredibly frustrating and inefficient. Good practice is to first test long training runs with a much simpler dry-run: a single epoch, a few batches et c."
   ]
  },
  {
   "cell_type": "markdown",
   "metadata": {
    "deletable": false,
    "editable": false,
    "nbgrader": {
     "cell_type": "markdown",
     "checksum": "58e21e6f2c6b85e2c1f235d31baaf966",
     "grade": false,
     "grade_id": "cell-f7371c24b57c153e",
     "locked": true,
     "schema_version": 3,
     "solution": false
    }
   },
   "source": [
    "Requirements:\n",
    "- Whenever we ask you to plot anything, be sure to add a title and label the axes. If you're plotting more than one curve in the same plot, also add a legend.\n",
    "- When we ask you to train an architecture, train it for a reasonable number of epochs. \"Reasonable\" here means you should be fairly confident that training for a higher number of epochs wouldn't impact your conclusions regarding the model's performance. When experimenting, a single epoch is often enough to tell whether your model setup has improved or not.\n",
    "\n",
    "\n",
    "Hints:\n",
    "- If you get errors saying you've exhausted the GPU resources, well, then you've exhausted the GPU resources. However, sometimes that's because `pytorch` didn't release a part of the GPU's memory. If you think your CNN should fit in your memory during training, try restarting the kernel and directly training only that architecture.\n",
    "- Every group has enough cloud credits to complete this assignment. However, this statement assumes you'll use your resources judiciously (e.g. always try the code first in your machine and make sure everything works properly before starting your instances) and **won't forget to stop your instance after using it,**  otherwise you might run out of credits.\n",
    "- Before starting, take a look at the images we'll be using. This is a hard task, don't get discouraged if your first models perform poorly (several participants in the original competition didn't achieve an accuracy higher than 60%).\n",
    "- Solving the [computer labs](https://github.com/JulianoLagana/deep-machine-learning/tree/master/computer-labs) is a good way to get prepared for this assignment."
   ]
  },
  {
   "cell_type": "markdown",
   "metadata": {
    "deletable": false,
    "editable": false,
    "nbgrader": {
     "cell_type": "markdown",
     "checksum": "9f50e27a30d83bcebeb52a8ae43228e2",
     "grade": false,
     "grade_id": "cell-3ee6d24346a80d85",
     "locked": true,
     "schema_version": 3,
     "solution": false
    }
   },
   "source": [
    "---\n",
    "## 0. Imports\n",
    "\n",
    "In the following cell, add all the imports you'll use in this assignment."
   ]
  },
  {
   "cell_type": "code",
   "execution_count": 1,
   "metadata": {
    "deletable": false,
    "nbgrader": {
     "cell_type": "code",
     "checksum": "0075c816ac7a24f2287d6fa9b8a81565",
     "grade": true,
     "grade_id": "cell-464a08ede00083a4",
     "locked": false,
     "points": 0,
     "schema_version": 3,
     "solution": true
    }
   },
   "outputs": [],
   "source": [
    "# YOUR CODE HERE\n",
    "import os\n",
    "import torch\n",
    "from argparse import ArgumentParser\n",
    "#os.environ[\"CUDA_VISIBLE_DEVICES\"]=\"1\"\n",
    "#torch.cuda.set_device(0)\n",
    "#CUDA_VISIBLE_DEVICES=1\n",
    "\n",
    "from torchvision import datasets, transforms\n",
    "import matplotlib.pyplot as plt\n",
    "import pandas as pd\n",
    "import numpy as np\n",
    "import matplotlib.pyplot as plt\n",
    "import seaborn as sns\n",
    "from  torch.utils.data import random_split\n",
    "from sklearn.model_selection import train_test_split\n",
    "from torch.utils.data import TensorDataset\n",
    "from torch.utils.data import DataLoader\n",
    "from torchvision.datasets import ImageFolder\n",
    "from torch import nn\n",
    "import torch.nn.functional as F\n",
    "from torch import optim\n",
    "\n",
    "#torch.cuda.set_device(1)\n"
   ]
  },
  {
   "cell_type": "code",
   "execution_count": null,
   "metadata": {},
   "outputs": [],
   "source": [
    "print(torch.cuda.current_device())\n",
    "print(torch.cuda.device_count())\n",
    "print(torch.cuda.get_device_name(0))\n",
    "print(torch.cuda.is_available())\n",
    "print(torch.cuda.device(0))\n",
    "# parser = ArgumentParser(description=‘Example’)\n",
    "# parser.add_argument(’–gpu’, type=int, default=[0,1], nargs=’+’, help=‘used gpu’)\n",
    "\n",
    "# args = parser.parse_args()\n",
    "# os.environ[“CUDA_VISIBLE_DEVICES”] = ‘,’.join(str(x) for x in args.gpu)"
   ]
  },
  {
   "cell_type": "markdown",
   "metadata": {
    "deletable": false,
    "editable": false,
    "nbgrader": {
     "cell_type": "markdown",
     "checksum": "49bf801d5ced99ccf6f0c5cd12100230",
     "grade": false,
     "grade_id": "cell-4821dc273028d702",
     "locked": true,
     "schema_version": 3,
     "solution": false
    }
   },
   "source": [
    "---\n",
    "## 1. Loading the data and preprocessing"
   ]
  },
  {
   "cell_type": "markdown",
   "metadata": {
    "deletable": false,
    "editable": false,
    "nbgrader": {
     "cell_type": "markdown",
     "checksum": "d2cfdb936c364826fa8bc7a7adaf411c",
     "grade": false,
     "grade_id": "cell-2ea049dea4713494",
     "locked": true,
     "schema_version": 3,
     "solution": false
    }
   },
   "source": [
    "The first step is to head to the [Kaggle website for the cats and dogs competition](https://www.kaggle.com/c/dogs-vs-cats/data) and download the data from there. You should download both the test and train folders together in one zip file (there is a `Download all` button at the bottom of the page). Unfortunately, you need to create a Kaggle account for this.\n",
    "\n",
    "**Only necessary for tasks 4-6**: Downloading the data to your local computer is quite straight-forward. Sooner or later you will have to upload the data to the cloud instance and that is a bit more tricky. There are a few ways to do it:\n",
    "\n",
    " - Jupyter Notebook upload function. When starting the notebook server with the command `jupyter notebook` you are directed to a main page. In the top right corner there is an upload button.\n",
    " - Using [`scp`](https://linuxize.com/post/how-to-use-scp-command-to-securely-transfer-files/) to copy files via an ssh connection.\n",
    " - Using the [Kaggle CLI](https://github.com/Kaggle/kaggle-api). We have added it to the conda environment.\n",
    "\n",
    "For this assignment we will again need data loaders. Like before we need to create a `Dataset` to give as input to a `DataLoader`. \n",
    "Fortunately, this type of image data is quite common so we get some help from `pytorch`. We can use [`ImageFolder`](https://pytorch.org/docs/stable/torchvision/datasets.html#imagefolder) to create a `Dataset` for our images. As long as our folder structure for the data conforms to the folder structure expected by `ImageFolder`, we can use it right out of the box and the `DataLoader` class will happily accept it as input.\n",
    "\n",
    "To use `ImageFolder` you should create a folder structure that resembles the following (obviously, the folder names are up to you):\n",
    "\n",
    "\n",
    "         small_train             small_val                train                   val\n",
    "              |                      |                      |                      |\n",
    "              |                      |                      |                      |\n",
    "        -------------          -------------          -------------          -------------\n",
    "        |           |          |           |          |           |          |           |\n",
    "        |           |          |           |          |           |          |           |\n",
    "      cats        dogs       cats        dogs       cats        dogs       cats        dogs\n",
    "\n",
    "\n",
    "The `small_train` and `small_val` folders have the training and validation samples for your smaller subset of the data, while the `train` and `val` folders contain all the samples you extracted from Kaggle's `train.zip`.\n",
    "This is just a convenient way of having a smaller dataset to play with for faster prototyping.\n",
    "\n",
    "We provide you a notebook that shows how to achieve this folder structure (`create_project_notebook_structure.ipynb`), starting from the original `dogs-vs-cats.zip` file that you download from Kaggle. If you do use that notebook, we encourage you to understand how each step is being done, so you can generalize this knowledge to new datasets you'll encounter."
   ]
  },
  {
   "cell_type": "markdown",
   "metadata": {
    "deletable": false,
    "editable": false,
    "nbgrader": {
     "cell_type": "markdown",
     "checksum": "687bc3927319df0106d64054f8854128",
     "grade": false,
     "grade_id": "cell-89ba19509b952af2",
     "locked": true,
     "schema_version": 3,
     "solution": false
    }
   },
   "source": [
    "For the smaller dataset, we advise you to use 70% of the data as training data (and thereby the remaining 30% for validation data). However, for the larger dataset, you should decide how to split between training and validation.\n",
    "\n",
    "**What percentage of the larger dataset did you decide to use for training?**"
   ]
  },
  {
   "cell_type": "markdown",
   "metadata": {
    "deletable": false,
    "nbgrader": {
     "cell_type": "markdown",
     "checksum": "70ba7076cdc41aac550685544ccb0fa2",
     "grade": true,
     "grade_id": "cell-7f3b0dfbd90a14c1",
     "locked": false,
     "points": 0,
     "schema_version": 3,
     "solution": true
    }
   },
   "source": [
    "**Your answer:** Our original train dataset (train_all) have 25000 samples. We would like to choose 6% for validation set and 94% for train set. So we would have 1500 samples including 750 dogs and 750 cats for validation set (6% out of 25000 samples) and 23500 samples including 11750 dogs and 11750 for cats (94% out of 25000 samples)."
   ]
  },
  {
   "cell_type": "markdown",
   "metadata": {
    "deletable": false,
    "editable": false,
    "nbgrader": {
     "cell_type": "markdown",
     "checksum": "0a15cc209809b8aaaba643525ad54273",
     "grade": false,
     "grade_id": "cell-8964386e29e42eee",
     "locked": true,
     "schema_version": 3,
     "solution": false,
     "task": false
    }
   },
   "source": [
    "**Optional (1 POE):** Did you decide to keep the same ratio split between train and validation sets for the larger dataset? Motivate your decision!\n"
   ]
  },
  {
   "cell_type": "markdown",
   "metadata": {
    "deletable": false,
    "nbgrader": {
     "cell_type": "markdown",
     "checksum": "c3748ce886332354dee82a16ffd9a9a3",
     "grade": true,
     "grade_id": "cell-88d41e16176067ca",
     "locked": false,
     "points": 1,
     "schema_version": 3,
     "solution": true,
     "task": false
    }
   },
   "source": [
    "**Your answer:** No, We would like to choose 6% for validation set and 94% for train set. Our larger dataset has 25000 samples for training and 12500 samples for test."
   ]
  },
  {
   "cell_type": "markdown",
   "metadata": {
    "deletable": false,
    "editable": false,
    "nbgrader": {
     "cell_type": "markdown",
     "checksum": "834d9263037e9d6133fb6ca7faef761b",
     "grade": false,
     "grade_id": "cell-876ca7df88c9311f",
     "locked": true,
     "schema_version": 3,
     "solution": false
    }
   },
   "source": [
    "Fill in the dataset paths (to be used later by your data loaders):"
   ]
  },
  {
   "cell_type": "code",
   "execution_count": 2,
   "metadata": {
    "deletable": false,
    "nbgrader": {
     "cell_type": "code",
     "checksum": "977d3723abd484be4bfa4ffb4590a2d1",
     "grade": true,
     "grade_id": "cell-1b1314f2ab1b1d6b",
     "locked": false,
     "points": 0,
     "schema_version": 3,
     "solution": true
    }
   },
   "outputs": [],
   "source": [
    "# TODO: Change the directories accordingly\n",
    "# YOUR CODE HERE\n",
    "train_path = \"/train\"\n",
    "val_path = \"/val\"\n",
    "small_train_path = \"/small_train\"\n",
    "small_val_path = \"/small_val\"\n"
   ]
  },
  {
   "cell_type": "markdown",
   "metadata": {
    "deletable": false,
    "editable": false,
    "nbgrader": {
     "cell_type": "markdown",
     "checksum": "6da7e41128b82828313028806f0ff72c",
     "grade": false,
     "grade_id": "cell-1d6ea64bca94a4ef",
     "locked": true,
     "schema_version": 3,
     "solution": false
    }
   },
   "source": [
    "---\n",
    "### 1.1 Preprocessing\n",
    "**(1 POE)** \n",
    "\n",
    "Once you have the expected folder structure, create two data loaders for automatically generating batches from the images in your smaller subset of data. It is here we choose how to preprocess the input data. There are multiple reasons for why we preprocess data:\n",
    "\n",
    "- Some transformations might be needed to actually make the data work with our network (reshaping, permuting dimensions et c.).\n",
    "- Make the training more efficient by making the input dimensions smaller, e.g. resizing, cropping.\n",
    "- Artificially expanding the training data through [data augmentation](https://cartesianfaith.com/2016/10/06/what-you-need-to-know-about-data-augmentation-for-machine-learning/)\n",
    "- We have some clever idea of how to change the data to make the training process better.\n",
    "\n",
    "We do not expect you to do data augmentation, but feel free to preprocess the data as you see fit.\n",
    "Construct an `ImageFolder` dataset like this:\n",
    "\n",
    "```python\n",
    "ImageFolder(<path_to_data_folder>, transform=Compose(<list_of_transforms>))\n",
    "# example:\n",
    "ImageFolder(Path.cwd() / \"small_train\", transform=Compose([ToTensor]))\n",
    "```\n",
    "\n",
    "Hints:\n",
    "- Take a look at [`ImageFolder`](https://pytorch.org/docs/stable/torchvision/datasets.html#imagefolder) and [`DataLoader`](https://pytorch.org/docs/stable/data.html#torch.utils.data.DataLoader) from the pytorch docs.\n",
    "- To preprocess the data you can use the built-in pytorch [`Transforms`](https://pytorch.org/docs/stable/torchvision/transforms.html)\n",
    "- The `ImageFolder` dataset provides the data as a python image type. For easy conversion to a `torch.Tensor`, use the [`ToTensor`](https://pytorch.org/docs/stable/torchvision/transforms.html#torchvision.transforms.ToTensor) transformation.\n",
    "- The specified `batch_size` should be chosen so that you train fast but don't run out of memory. You need to figure this out empirically; start small and increase the batch size until you run out of memory.\n",
    "- The `DataLoader` constructor takes an optional argument `num_workers`, which defaults to `0` if not provided. Setting a higher number creates multiple threads which load batches concurrently. This can speed up training considerably.  \n",
    "- When feeding the images to your CNN, you'll probably want all of them to have the same spatial size, even though the .jpeg files differ in this. Resizing the images can be done using the previously mentioned built-in pytorch Transforms.\n",
    "- Resizing the images to a smaller size while loading them can be beneficial. The VGG network that is used later in this assignment requires that images are at least 224x224, but before that use small images to speed up training. The CNN's do surprisingly well on 64x64 or even 32x32 images. Shorter training cycles give your more time to experiment!\n",
    "\n",
    "We encourage you to explore the data and choose transformations that you believe to be useful. For exploration we provide you with some helper functions to visually compare transformations side by side:"
   ]
  },
  {
   "cell_type": "code",
   "execution_count": 3,
   "metadata": {
    "deletable": false,
    "editable": false,
    "nbgrader": {
     "cell_type": "code",
     "checksum": "6b63cfb45608fab1b1ddda42ffb5aa32",
     "grade": false,
     "grade_id": "cell-5ca8fc808d4ee65b",
     "locked": true,
     "schema_version": 3,
     "solution": false,
     "task": false
    }
   },
   "outputs": [],
   "source": [
    "def compare_transforms(transformations, index):\n",
    "    \"\"\"Visually compare transformations side by side.\n",
    "    Takes a list of ImageFolder datasets with different compositions of transformations.\n",
    "    It then display the `index`th image of the dataset for each transformed dataset in the list.\n",
    "    \n",
    "    Example usage:\n",
    "        compare_transforms([dataset_with_transform_1, dataset_with_transform_2], 0)\n",
    "    \n",
    "    Args:\n",
    "        transformations (list(ImageFolder)): list of ImageFolder instances with different transformations\n",
    "        index (int): Index of the sample in the ImageFolder you wish to compare.\n",
    "    \"\"\"\n",
    "    \n",
    "    # Here we combine two neat functions from basic python to validate the input to the function:\n",
    "    # - `all` takes an iterable (something we can loop over, like a list) of booleans\n",
    "    #    and returns True if every element is True, otherwise it returns False.\n",
    "    # - `isinstance` checks whether a variable is an instance of a particular type (class)\n",
    "    if not all(isinstance(transf, ImageFolder) for transf in transformations):\n",
    "        raise TypeError(\"All elements in the `transformations` list need to be of type ImageFolder\")\n",
    "        \n",
    "    num_transformations = len(transformations)\n",
    "    fig, axes = plt.subplots(1, num_transformations)\n",
    "    \n",
    "    # This is just a hack to make sure that `axes` is a list of the same length as `transformations`.\n",
    "    # If we only have one element in the list, `plt.subplots` will not create a list of a single axis\n",
    "    # but rather just an axis without a list.\n",
    "    if num_transformations == 1:\n",
    "        axes = [axes]\n",
    "        \n",
    "    for counter, (axis, transf) in enumerate(zip(axes, transformations)):\n",
    "        axis.set_title(\"transf: {}\".format(counter))\n",
    "        image_tensor = transf[index][0]\n",
    "        display_image(axis, image_tensor)\n",
    "\n",
    "    plt.show()\n",
    "\n",
    "def display_image(axis, image_tensor):\n",
    "    \"\"\"Display a tensor as image\n",
    "    \n",
    "    Example usage:\n",
    "        _, axis = plt.subplots()\n",
    "        some_random_index = 453\n",
    "        image_tensor, _ = train_dataset[some_random_index]\n",
    "        display_image(axis, image_tensor)\n",
    "    \n",
    "    Args:\n",
    "        axis (pyplot axis)\n",
    "        image_tensor (torch.Tensor): tensor with shape (num_channels=3, width, heigth)\n",
    "    \"\"\"\n",
    "    \n",
    "    # See hint above\n",
    "    if not isinstance(image_tensor, torch.Tensor):\n",
    "        raise TypeError(\"The `display_image` function expects a `torch.Tensor` \" +\n",
    "                        \"use the `ToTensor` transformation to convert the images to tensors.\")\n",
    "        \n",
    "    # The imshow commands expects a `numpy array` with shape (3, width, height)\n",
    "    # We rearrange the dimensions with `permute` and then convert it to `numpy`\n",
    "    image_data = image_tensor.permute(1, 2, 0).numpy()\n",
    "    height, width, _ = image_data.shape\n",
    "    axis.imshow(image_data)\n",
    "    axis.set_xlim(0, width)\n",
    "    # By convention when working with images, the origin is at the top left corner.\n",
    "    # Therefore, we switch the order of the y limits.\n",
    "    axis.set_ylim(height, 0)"
   ]
  },
  {
   "cell_type": "code",
   "execution_count": 4,
   "metadata": {},
   "outputs": [
    {
     "name": "stdout",
     "output_type": "stream",
     "text": [
      "0\n",
      "torch.Size([3500, 3, 64, 64])\n",
      "[0.48770484 0.45318767 0.41516972] [0.252033   0.24500722 0.24762712]\n",
      "0\n",
      "torch.Size([1500, 3, 64, 64])\n",
      "[0.49427933 0.45639446 0.4175132 ] [0.25301176 0.24703856 0.2492882 ]\n"
     ]
    }
   ],
   "source": [
    "TRANSFORM_IMG = transforms.Compose([\n",
    "    transforms.Resize(64),\n",
    "    transforms.CenterCrop(64),\n",
    "    \n",
    "    #transforms.ToPILImage(),\n",
    "    transforms.ToTensor(),\n",
    "  #  transforms.Normalize(mean=[0.485, 0.456, 0.406],\n",
    "  #                       std=[0.229, 0.224, 0.225] )\n",
    "    ])\n",
    "\n",
    "# TRANSFORM_IMG = transforms.Compose([\n",
    "#     transforms.Resize(68),\n",
    "#     transforms.CenterCrop(68),\n",
    "    \n",
    "#     #transforms.ToPILImage(),\n",
    "#     transforms.ToTensor(),\n",
    "#   #  transforms.Normalize(mean=[0.485, 0.456, 0.406],\n",
    "#   #                       std=[0.229, 0.224, 0.225] )\n",
    "#     ])\n",
    "\n",
    "\n",
    "\n",
    "train_dataset= ImageFolder( root=\"small_train\",transform=TRANSFORM_IMG )\n",
    "dataloader = DataLoader(train_dataset, batch_size=len(train_dataset), shuffle=False, num_workers=4)\n",
    "pop_mean = []\n",
    "pop_std0 = []\n",
    "pop_std1 = []\n",
    "for i, data in enumerate(dataloader, 0):\n",
    "    # shape (batch_size, 3, height, width)\n",
    "    print(i)\n",
    "    print(data[0].shape)\n",
    "    numpy_image = data[0].numpy()\n",
    "    \n",
    "    # shape (3,)\n",
    "    small_train_mean = np.mean(numpy_image, axis=(0,2,3))\n",
    "    small_train_std = np.std(numpy_image, axis=(0,2,3))\n",
    "  #  batch_std1 = np.std(numpy_image, axis=(0,2,3), ddof=1)\n",
    "    print(small_train_mean,small_train_std)\n",
    "#     pop_mean.append(batch_mean)\n",
    "#     pop_std0.append(batch_std0)\n",
    "#     pop_std1.append(batch_std1)\n",
    "\n",
    "#print(pop_mean)\n",
    "#print(pop_std0)\n",
    "#print(pop_std1)\n",
    "\n",
    "##################################################################################################\n",
    "val_dataset= ImageFolder( root=\"small_val\",transform=TRANSFORM_IMG )\n",
    "val_dataloader = DataLoader(val_dataset, batch_size=len(val_dataset), shuffle=False, num_workers=4)\n",
    "# pop_mean = []\n",
    "# pop_std0 = []\n",
    "# pop_std1 = []\n",
    "for i, data in enumerate(val_dataloader, 0):\n",
    "    # shape (batch_size, 3, height, width)\n",
    "    print(i)\n",
    "    print(data[0].shape)\n",
    "    numpy_image = data[0].numpy()\n",
    "    \n",
    "    # shape (3,)\n",
    "    small_val_mean = np.mean(numpy_image, axis=(0,2,3))\n",
    "    small_val_std = np.std(numpy_image, axis=(0,2,3))\n",
    "  #  batch_std1 = np.std(numpy_image, axis=(0,2,3), ddof=1)\n",
    "    print(small_val_mean,small_val_std)\n"
   ]
  },
  {
   "cell_type": "code",
   "execution_count": 5,
   "metadata": {
    "deletable": false,
    "nbgrader": {
     "cell_type": "code",
     "checksum": "493b16ca331bf9f2d42ed571caec3130",
     "grade": true,
     "grade_id": "cell-31b81f052b6e681e",
     "locked": false,
     "points": 1,
     "schema_version": 3,
     "solution": true,
     "task": false
    }
   },
   "outputs": [
    {
     "name": "stderr",
     "output_type": "stream",
     "text": [
      "Clipping input data to the valid range for imshow with RGB data ([0..1] for floats or [0..255] for integers).\n",
      "Clipping input data to the valid range for imshow with RGB data ([0..1] for floats or [0..255] for integers).\n"
     ]
    },
    {
     "name": "stdout",
     "output_type": "stream",
     "text": [
      "cuda\n"
     ]
    },
    {
     "data": {
      "image/png": "[encoded data removed]",
      "text/plain": [
       "<Figure size 432x288 with 2 Axes>"
      ]
     },
     "metadata": {
      "needs_background": "light"
     },
     "output_type": "display_data"
    },
    {
     "name": "stdout",
     "output_type": "stream",
     "text": [
      "28\n"
     ]
    }
   ],
   "source": [
    "# YOUR CODE HERE\n",
    "device = torch.device(\"cuda\" if torch.cuda.is_available() \n",
    "                                  else \"cpu\")\n",
    "    #transforms.Normalize(mean=[0.485, 0.456, 0.406],\n",
    "     #                    std=[0.229, 0.224, 0.225] )\n",
    "print(device)\n",
    "\n",
    "TRANSFORM_TRAINIMG = transforms.Compose([\n",
    "    transforms.Resize(64),    # 96 64 112  224 68   32  \n",
    "    transforms.CenterCrop(64),  # 96 64 112 224 68   32\n",
    "    \n",
    "    #transforms.ToPILImage(),\n",
    "    transforms.ToTensor(),\n",
    "    transforms.Normalize(mean=small_train_mean,\n",
    "                         std =small_train_std )\n",
    "    ])\n",
    "TRANSFORM_VALIMG = transforms.Compose([\n",
    "    transforms.Resize(64),  #224 68   32\n",
    "    transforms.CenterCrop(64),   #224 68   32\n",
    "    \n",
    "    #transforms.ToPILImage(),\n",
    "    transforms.ToTensor(),\n",
    "    transforms.Normalize(mean=small_val_std,\n",
    "                         std =small_val_std )\n",
    "    ])\n",
    "\n",
    "\n",
    "\n",
    "# TRANSFORM_IMG2 = transforms.Compose([\n",
    "#     transforms.Resize(64),\n",
    "#     transforms.CenterCrop(64),\n",
    "#     transforms.ToTensor(),\n",
    "#   #  transforms.Normalize(mean=[0.485, 0.456, 0.406],\n",
    "#   #                       std=[0.229, 0.224, 0.225])\n",
    "#     ])\n",
    "\n",
    "\n",
    "# train_dataset2= ImageFolder( root=\"small_train\", transform=transforms.Compose([transforms.ToTensor()]))\n",
    "# loader = DataLoader(train_dataset2, batch_size=len(train_dataset2), num_workers=1)\n",
    "# data = next(iter(loader))\n",
    "# print(data[0].mean(), data[0].std())\n",
    "\n",
    "# train_dataset= ImageFolder( root=\"small_train\",transform=TRANSFORM_TRAINIMG )\n",
    "# dataloader = DataLoader(train_dataset, batch_size=3500, shuffle=False, num_workers=4)\n",
    "# pop_mean = []\n",
    "# pop_std0 = []\n",
    "# pop_std1 = []\n",
    "# for i, data in enumerate(dataloader, 0):\n",
    "    # shape (batch_size, 3, height, width)\n",
    "#     print(i)\n",
    "#     print(type(data))\n",
    "#     print(len(data))\n",
    "#     arr=np.array(data[0])\n",
    "#     print(arr.shape)\n",
    "#     print(data[0].shape)\n",
    "    #print(data.size)\n",
    "#     numpy_image = data[0].numpy()\n",
    "    \n",
    "#     # shape (3,)\n",
    "#     batch_mean = np.mean(numpy_image, axis=(0,2,3))\n",
    "#     batch_std0 = np.std(numpy_image, axis=(0,2,3))\n",
    "#     batch_std1 = np.std(numpy_image, axis=(0,2,3), ddof=1)\n",
    "    \n",
    "#     pop_mean.append(batch_mean)\n",
    "#     pop_std0.append(batch_std0)\n",
    "#     pop_std1.append(batch_std1)\n",
    "\n",
    "# print(pop_mean)\n",
    "# print(pop_std0)\n",
    "# print(pop_std1)\n",
    "# shape (num_iterations, 3) -> (mean across 0th axis) -> shape (3,)\n",
    "#pop_mean = np.array(pop_mean).mean(axis=0)\n",
    "#pop_std0 = np.array(pop_std0).mean(axis=0)\n",
    "#pop_std1 = np.array(pop_std1).mean(axis=0)\n",
    "\n",
    "\n",
    "\n",
    "train_dataset= ImageFolder( root=\"small_train\", transform=TRANSFORM_TRAINIMG )\n",
    "\n",
    "train_data_loader = DataLoader(train_dataset, batch_size=128, shuffle=True, drop_last=False, num_workers=4)\n",
    "\n",
    "val_dataset= ImageFolder( root=\"small_val\", transform=TRANSFORM_VALIMG ) \n",
    "\n",
    "val_data_loader = DataLoader(val_dataset, batch_size=256, num_workers=4)\n",
    "\n",
    "#print(type(dataset_1))\n",
    "#print(type(data_loader_1))\n",
    "\n",
    "\n",
    "compare_transforms([train_dataset,train_dataset], 2500)\n",
    "j=0\n",
    "for i, (data, labels) in enumerate(train_data_loader):\n",
    "    j= j+1\n",
    "print(j)    \n",
    "   # print(type(data))\n",
    "   # print(data.shape)\n",
    "  #  print(labels.shape)\n"
   ]
  },
  {
   "cell_type": "markdown",
   "metadata": {
    "deletable": false,
    "editable": false,
    "nbgrader": {
     "cell_type": "markdown",
     "checksum": "16c576d5cad5ec453068ac139dc3f454",
     "grade": false,
     "grade_id": "cell-24463974ae20a276",
     "locked": true,
     "schema_version": 3,
     "solution": false,
     "task": false
    }
   },
   "source": [
    "**(2 POE)** How did you select transformations, if any? Briefly explain your reasoning:"
   ]
  },
  {
   "cell_type": "markdown",
   "metadata": {
    "deletable": false,
    "nbgrader": {
     "cell_type": "markdown",
     "checksum": "efec72804bea1b6cec8eba964299148a",
     "grade": true,
     "grade_id": "cell-051ee24a83af3cf8",
     "locked": false,
     "points": 2,
     "schema_version": 3,
     "solution": true,
     "task": false
    }
   },
   "source": [
    "**Your answer:** \n",
    "1- Resize (transforms.Resize) \n",
    "2- CenterCrop (transforms.CenterCrop)\n",
    "3- Normalize (transforms.Normalize)\n"
   ]
  },
  {
   "cell_type": "markdown",
   "metadata": {
    "deletable": false,
    "editable": false,
    "nbgrader": {
     "cell_type": "markdown",
     "checksum": "6f7d18f73a495811569bd83851d125b4",
     "grade": false,
     "grade_id": "cell-c0bfc1ac7fadfcc7",
     "locked": true,
     "schema_version": 3,
     "solution": false
    }
   },
   "source": [
    "---\n",
    "## 2. Training\n",
    "\n",
    "**(1 POE)**\n",
    "\n",
    "Create your first CNN architecture for this task. Start with something as simple as possible, that you're almost sure can get an accuracy better than 50% (we'll improve upon it later).\n",
    "Naturally, you must also select a loss function and an optimizer.\n",
    "\n",
    "Hints:\n",
    "\n",
    "- Training on a CPU is slow and in the beginning you just want to verify that your architecture actually produces a predicition with the correct shape. Make everything you can to speed up the prototyping phase, e.g. train only for a single epoch and make the images ridiculously small.\n",
    "- Going from the last CNN layer to the final fully connected layer is not trivial. The convolutions produces \"3D\" output which we can think of as an image with many channels, while the fully connected layer expects a row vector as input. Calculate how many output features the convolutions produce and use `.reshape` to make your tensor fit the fully connected layer. (It is also common to see the `.view` method to do the same thing. They basically do the same thing but have some differences in internal memory management.) *Hint within the hint:* remember that the fully connected layers expects a *batch* of 1D tensors. \n"
   ]
  },
  {
   "cell_type": "code",
   "execution_count": null,
   "metadata": {
    "deletable": false,
    "nbgrader": {
     "cell_type": "code",
     "checksum": "2640d61f483bd3ac9c018fd407f71ace",
     "grade": true,
     "grade_id": "cell-4c9de348cd8bc4ff",
     "locked": false,
     "points": 1,
     "schema_version": 3,
     "solution": true
    }
   },
   "outputs": [],
   "source": [
    "# YOUR CODE HERE\n",
    "class ImageClassifierNetwork(nn.Module):\n",
    "    def __init__(self):\n",
    "        super().__init__()\n",
    "        self.conv1 = nn.Conv2d(in_channels=3, out_channels=20, kernel_size=5)\n",
    "        self.conv2 = nn.Conv2d(in_channels=20, out_channels=50, kernel_size=5)\n",
    "        self.fc1 = nn.Linear(4*4*50, 150)  #4x4x50\n",
    "        self.fc2 = nn.Linear(150, 2)\n",
    "       # self.fc3 = nn.Linear(500, 2)\n",
    "        \n",
    "    def forward(self, x):\n",
    "        x = F.relu(self.conv1(x))\n",
    "        x = F.max_pool2d(x, kernel_size=2)\n",
    "        x = F.relu(self.conv2(x))\n",
    "        x = F.max_pool2d(x, kernel_size=2)\n",
    "        x = x.view(-1, 4*4*50)   #4x4x50\n",
    "        x = F.relu(self.fc1(x))\n",
    "      #  x = F.relu(self.fc2(x))\n",
    "        x = self.fc2(x)\n",
    "        return F.softmax(x, dim=1)\n",
    "        #return x"
   ]
  },
  {
   "cell_type": "code",
   "execution_count": null,
   "metadata": {},
   "outputs": [],
   "source": [
    "print(torch.cuda.is_available())"
   ]
  },
  {
   "cell_type": "markdown",
   "metadata": {
    "deletable": false,
    "editable": false,
    "nbgrader": {
     "cell_type": "markdown",
     "checksum": "8bcf22ee899c7b8a527f4d0f7e2a962d",
     "grade": false,
     "grade_id": "cell-cb6fc78116ad6b75",
     "locked": true,
     "schema_version": 3,
     "solution": false
    }
   },
   "source": [
    "Train your model using the two data loaders you created earlier. Train for a reasonable amount of epochs, so as to get a good sense of how well this architecture performs.\n",
    "\n",
    "Hints:\n",
    "- Note that you will need to plot your training and validation losses and accuracies, so make sure that you saved them during training. "
   ]
  },
  {
   "cell_type": "code",
   "execution_count": 7,
   "metadata": {
    "deletable": false,
    "nbgrader": {
     "cell_type": "code",
     "checksum": "510f9590642bc2210d710bfc6fef2b97",
     "grade": true,
     "grade_id": "cell-bb1fcd878f3bea9a",
     "locked": false,
     "points": 0,
     "schema_version": 3,
     "solution": true
    }
   },
   "outputs": [],
   "source": [
    "# Any pytorch object (e.g. model, inputs, output, etc.) can \n",
    "# be transferred to the current device by running\n",
    "#       name_of_object.to(device)\n",
    "# Example:\n",
    "#       model.to(device)\n",
    "#\n",
    "# The following line automatically figures out what device (cpu or gpu)\n",
    "# you are using and stores the result in `device`.\n",
    "# Later we can use the `.to(device)` method to move our data or model to the correct device.\n",
    "\n",
    "\n",
    "\n",
    "# YOUR CODE HERE\n",
    "model = ImageClassifierNetwork()\n",
    "model.to(device);\n",
    "#loss_fn = nn.NLLLoss()\n",
    "loss_fn = nn.CrossEntropyLoss()\n",
    "\n",
    "optimizer = optim.Adam(model.parameters(), lr=0.001)\n",
    "#optimizer = optim.SGD(model.parameters(), lr=0.0001,momentum=0.5)\n",
    "\n",
    "\n",
    "def evaluate_model(val_data_loader, model, loss_fn):\n",
    "    losses = []\n",
    "    n_correct = 0\n",
    "    with torch.no_grad():\n",
    "        for b_x, b_y in val_data_loader:\n",
    "            b_x=b_x.to(device)\n",
    "            b_y=b_y.to(device)\n",
    "            pred = model(b_x)\n",
    "            loss = loss_fn(pred, b_y)\n",
    "            losses.append(loss.item())\n",
    "            \n",
    "            hard_preds = pred.argmax(dim=1)\n",
    "            n_correct += torch.sum(pred.argmax(dim=1) == b_y).item()\n",
    "        val_accuracy = n_correct/len(val_dataset)\n",
    "        val_avg_loss = sum(losses)/len(losses)    \n",
    "    \n",
    "    return val_accuracy, val_avg_loss\n",
    "\n"
   ]
  },
  {
   "cell_type": "code",
   "execution_count": null,
   "metadata": {},
   "outputs": [],
   "source": [
    "torch.cuda.empty_cache()"
   ]
  },
  {
   "cell_type": "code",
   "execution_count": 8,
   "metadata": {},
   "outputs": [
    {
     "name": "stdout",
     "output_type": "stream",
     "text": [
      "Epoch 0 \tLoss: 0.696 \tLoss (val): 0.689\tAccuracy: 0.50 \tAccuracy (val): 0.50\n",
      "Epoch 1 \tLoss: 0.674 \tLoss (val): 0.667\tAccuracy: 0.58 \tAccuracy (val): 0.61\n",
      "Epoch 2 \tLoss: 0.643 \tLoss (val): 0.719\tAccuracy: 0.63 \tAccuracy (val): 0.55\n",
      "Epoch 3 \tLoss: 0.617 \tLoss (val): 0.658\tAccuracy: 0.66 \tAccuracy (val): 0.62\n",
      "Epoch 4 \tLoss: 0.608 \tLoss (val): 0.606\tAccuracy: 0.67 \tAccuracy (val): 0.66\n",
      "Epoch 5 \tLoss: 0.563 \tLoss (val): 0.653\tAccuracy: 0.71 \tAccuracy (val): 0.65\n",
      "Epoch 6 \tLoss: 0.554 \tLoss (val): 0.598\tAccuracy: 0.72 \tAccuracy (val): 0.66\n",
      "Epoch 7 \tLoss: 0.541 \tLoss (val): 0.587\tAccuracy: 0.72 \tAccuracy (val): 0.68\n",
      "Epoch 8 \tLoss: 0.501 \tLoss (val): 0.622\tAccuracy: 0.74 \tAccuracy (val): 0.67\n",
      "Epoch 9 \tLoss: 0.462 \tLoss (val): 0.553\tAccuracy: 0.78 \tAccuracy (val): 0.72\n",
      "Epoch 10 \tLoss: 0.427 \tLoss (val): 0.583\tAccuracy: 0.80 \tAccuracy (val): 0.73\n",
      "Epoch 11 \tLoss: 0.391 \tLoss (val): 0.616\tAccuracy: 0.82 \tAccuracy (val): 0.72\n",
      "Epoch 12 \tLoss: 0.342 \tLoss (val): 0.628\tAccuracy: 0.85 \tAccuracy (val): 0.72\n",
      "Epoch 13 \tLoss: 0.305 \tLoss (val): 0.565\tAccuracy: 0.87 \tAccuracy (val): 0.74\n",
      "Epoch 14 \tLoss: 0.271 \tLoss (val): 0.670\tAccuracy: 0.89 \tAccuracy (val): 0.73\n",
      "Epoch 15 \tLoss: 0.236 \tLoss (val): 0.677\tAccuracy: 0.91 \tAccuracy (val): 0.74\n",
      "Epoch 16 \tLoss: 0.191 \tLoss (val): 0.719\tAccuracy: 0.93 \tAccuracy (val): 0.77\n",
      "Epoch 17 \tLoss: 0.145 \tLoss (val): 0.809\tAccuracy: 0.95 \tAccuracy (val): 0.74\n",
      "Epoch 18 \tLoss: 0.084 \tLoss (val): 1.535\tAccuracy: 0.97 \tAccuracy (val): 0.68\n",
      "Epoch 19 \tLoss: 0.081 \tLoss (val): 1.149\tAccuracy: 0.97 \tAccuracy (val): 0.75\n",
      "Epoch 20 \tLoss: 0.068 \tLoss (val): 1.012\tAccuracy: 0.98 \tAccuracy (val): 0.76\n",
      "Epoch 21 \tLoss: 0.038 \tLoss (val): 1.166\tAccuracy: 0.99 \tAccuracy (val): 0.76\n",
      "Epoch 22 \tLoss: 0.025 \tLoss (val): 1.401\tAccuracy: 0.99 \tAccuracy (val): 0.75\n",
      "Epoch 23 \tLoss: 0.039 \tLoss (val): 1.257\tAccuracy: 0.99 \tAccuracy (val): 0.75\n",
      "Epoch 24 \tLoss: 0.060 \tLoss (val): 1.316\tAccuracy: 0.98 \tAccuracy (val): 0.72\n",
      "Epoch 25 \tLoss: 0.033 \tLoss (val): 1.375\tAccuracy: 0.99 \tAccuracy (val): 0.73\n",
      "Epoch 26 \tLoss: 0.013 \tLoss (val): 1.404\tAccuracy: 1.00 \tAccuracy (val): 0.75\n",
      "Epoch 27 \tLoss: 0.010 \tLoss (val): 1.795\tAccuracy: 1.00 \tAccuracy (val): 0.71\n",
      "Epoch 28 \tLoss: 0.008 \tLoss (val): 1.757\tAccuracy: 1.00 \tAccuracy (val): 0.74\n",
      "Epoch 29 \tLoss: 0.002 \tLoss (val): 1.884\tAccuracy: 1.00 \tAccuracy (val): 0.74\n",
      "Epoch 30 \tLoss: 0.001 \tLoss (val): 1.775\tAccuracy: 1.00 \tAccuracy (val): 0.75\n",
      "Epoch 31 \tLoss: 0.000 \tLoss (val): 1.902\tAccuracy: 1.00 \tAccuracy (val): 0.75\n",
      "Epoch 32 \tLoss: 0.000 \tLoss (val): 2.054\tAccuracy: 1.00 \tAccuracy (val): 0.74\n",
      "Epoch 33 \tLoss: 0.000 \tLoss (val): 2.086\tAccuracy: 1.00 \tAccuracy (val): 0.74\n",
      "Epoch 34 \tLoss: 0.000 \tLoss (val): 2.247\tAccuracy: 1.00 \tAccuracy (val): 0.74\n"
     ]
    }
   ],
   "source": [
    "for epoch in range(35):\n",
    "    losses = []\n",
    "    n_correct = 0\n",
    "    for b_x, b_y in train_data_loader:\n",
    "        b_x=b_x.to(device)\n",
    "        b_y=b_y.to(device)\n",
    "        \n",
    "        # Compute predictions and losses\n",
    "        pred = model(b_x)\n",
    "        loss = loss_fn(pred, b_y)\n",
    "        \n",
    "        losses.append(loss.item())\n",
    "        \n",
    "        # Count number of correct predictions\n",
    "        hard_preds = pred.argmax(dim=1)\n",
    "        n_correct += torch.sum(pred.argmax(dim=1) == b_y).item()\n",
    "\n",
    "        # Backpropagate\n",
    "        loss.backward()\n",
    "        optimizer.step()\n",
    "        optimizer.zero_grad()    \n",
    "        \n",
    "    # Compute accuracy and loss in the entire training set\n",
    "    train_accuracy = n_correct/len(train_dataset)\n",
    "    train_avg_loss = sum(losses)/len(losses)    \n",
    "    \n",
    "\n",
    "    # Compute accuracy and loss in the entire validation set\n",
    "   \n",
    "    val_accuracy, val_avg_loss = evaluate_model(val_data_loader, model, loss_fn)\n",
    "  \n",
    "    \n",
    "    \n",
    "    # Display metrics\n",
    "    display_str = 'Epoch {} '\n",
    "    display_str += '\\tLoss: {:.3f} '\n",
    "    display_str += '\\tLoss (val): {:.3f}'\n",
    "    display_str += '\\tAccuracy: {:.2f} '\n",
    "    display_str += '\\tAccuracy (val): {:.2f}'\n",
    "    print(display_str.format(epoch, train_avg_loss, val_avg_loss, train_accuracy, val_accuracy))"
   ]
  },
  {
   "cell_type": "markdown",
   "metadata": {
    "deletable": false,
    "editable": false,
    "nbgrader": {
     "cell_type": "markdown",
     "checksum": "da9811c873c0b5e3672930290854c501",
     "grade": false,
     "grade_id": "cell-4d42c86687697a67",
     "locked": true,
     "schema_version": 3,
     "solution": false
    }
   },
   "source": [
    "Create two plots. In one of them, plot the loss in the training and the validation datasets. In the other one, plot the accuracy in the training and validation datasets."
   ]
  },
  {
   "cell_type": "code",
   "execution_count": null,
   "metadata": {
    "deletable": false,
    "nbgrader": {
     "cell_type": "code",
     "checksum": "e71729e832321272983178b41b90f874",
     "grade": true,
     "grade_id": "cell-fa81712e1e27432a",
     "locked": false,
     "points": 0,
     "schema_version": 3,
     "solution": true
    }
   },
   "outputs": [],
   "source": [
    "# YOUR CODE HERE\n",
    "%matplotlib notebook\n",
    "\n",
    "# Create figure for plotting\n",
    "fig, ax = plt.subplots(ncols=2, figsize=(8,4))\n",
    "plt.ion()\n",
    "plot_interval = 1\n",
    "\n",
    "\n",
    "# Create arrays to save all of the metrics throughout training\n",
    "train_losses = []\n",
    "val_losses = []\n",
    "train_accs = []\n",
    "val_accs = []\n",
    "\n",
    "# Train the model\n",
    "for epoch in range(2):\n",
    "    for i, (b_x, b_y) in enumerate(train_data_loader):\n",
    "        # Compute predictions and loss\n",
    "        b_x=b_x.to(device)\n",
    "        b_y=b_y.to(device)\n",
    "        pred = model(b_x)\n",
    "        loss = loss_fn(pred, b_y)\n",
    "    \n",
    "        # Back-propagation\n",
    "        loss.backward()\n",
    "        optimizer.step()\n",
    "        optimizer.zero_grad()\n",
    "\n",
    "        # Compute metrics\n",
    "        hard_preds = pred.argmax(dim=1)\n",
    "        n_correct = torch.sum(pred.argmax(dim=1) == b_y).item()\n",
    "        val_accuracy, val_avg_loss = evaluate_model(val_data_loader, model, loss_fn)\n",
    "        \n",
    "        # Save them in the arrays\n",
    "        train_losses.append(loss.item())\n",
    "        val_losses.append(val_avg_loss)\n",
    "        train_accs.append(n_correct/len(b_x))\n",
    "        val_accs.append(val_accuracy)\n",
    "        \n",
    "        if i % plot_interval == 0:\n",
    "            # Update plots\n",
    "            ax[0].clear()\n",
    "            ax[0].plot(train_losses)\n",
    "            ax[0].plot(val_losses)\n",
    "\n",
    "            ax[1].clear()\n",
    "            ax[1].plot(train_accs)\n",
    "            ax[1].plot(val_accs)\n",
    "\n",
    "            # Add legends and labels\n",
    "            ax[0].set_title('Loss')\n",
    "            ax[0].set_xlabel('Number of batches')\n",
    "            ax[0].legend(['Train', 'Validation'])\n",
    "\n",
    "            ax[1].set_title('Accuracy')\n",
    "            ax[1].set_xlabel('Number of batches')\n",
    "            ax[1].legend(['Train', 'Validation'])\n",
    "            ax[1].set_ylim([0,1])\n",
    "\n",
    "            # Draw the figure on the screen\n",
    "            fig.canvas.draw()"
   ]
  },
  {
   "cell_type": "markdown",
   "metadata": {
    "deletable": false,
    "editable": false,
    "nbgrader": {
     "cell_type": "markdown",
     "checksum": "7acc519e5a759ed1c886e05ff54eced1",
     "grade": false,
     "grade_id": "cell-f2fc166890962bcf",
     "locked": true,
     "schema_version": 3,
     "solution": false
    }
   },
   "source": [
    "**(2 POE)** Based on these, what would you suggest for improving your model? Why?"
   ]
  },
  {
   "cell_type": "markdown",
   "metadata": {
    "deletable": false,
    "nbgrader": {
     "cell_type": "markdown",
     "checksum": "2b42c08ae7bcb61726d89b8dd46922d6",
     "grade": true,
     "grade_id": "cell-506e21ce469b67f5",
     "locked": false,
     "points": 2,
     "schema_version": 3,
     "solution": true
    }
   },
   "source": [
    "**Your answer:** \n",
    "1- Adding more convolutional layer\n",
    "2- using smaller filters   deeper, more non-linearities and fewer parameters \n",
    "3- increase size of input image"
   ]
  },
  {
   "cell_type": "markdown",
   "metadata": {
    "deletable": false,
    "editable": false,
    "nbgrader": {
     "cell_type": "markdown",
     "checksum": "afa8e2c066a79d25a5ad58e8095cbfac",
     "grade": false,
     "grade_id": "cell-ee79a83a62b70a8f",
     "locked": true,
     "schema_version": 3,
     "solution": false
    }
   },
   "source": [
    "---\n",
    "## 3. Improving your model"
   ]
  },
  {
   "cell_type": "markdown",
   "metadata": {
    "deletable": false,
    "editable": false,
    "nbgrader": {
     "cell_type": "markdown",
     "checksum": "0b093333dbbf35daf4261a0acdaec5a4",
     "grade": false,
     "grade_id": "cell-5314d286e79e0377",
     "locked": true,
     "schema_version": 3,
     "solution": false
    }
   },
   "source": [
    "**(1 POE)** Continue to improve your model architecture by comparing the value of the metrics you're interested in for both the training and validation set. Try different ideas! When you're happy with one architecture, copy it in the cell below and train it here. Save the training and validation losses and accuracies. You'll use this later to compare your best model with the one using transfer learning.\n",
    "\n",
    "**Note**: When trying different ideas, you'll end up with several different models. However, when submitting your solutions to Canvas, the cell below must contain only the definition and training of *one* model. Remove all code related to the models that were not chosen."
   ]
  },
  {
   "cell_type": "code",
   "execution_count": null,
   "metadata": {},
   "outputs": [],
   "source": [
    "#input 96x96x3\n",
    "class ImageClassifierNetwork(nn.Module):\n",
    "    def __init__(self):\n",
    "        super().__init__()\n",
    "        self.conv1 = nn.Conv2d(in_channels=3, out_channels=64, kernel_size=3,padding=1)\n",
    "        self.conv2 = nn.Conv2d(in_channels=64, out_channels=64, kernel_size=3,padding=1)\n",
    "        #\n",
    "        self.conv3 = nn.Conv2d(in_channels=64, out_channels=128, kernel_size=3,padding=1)\n",
    "        self.conv4 = nn.Conv2d(in_channels=128, out_channels=128, kernel_size=3,padding=1)\n",
    "        #\n",
    "        self.conv5 = nn.Conv2d(in_channels=128, out_channels=256, kernel_size=3,padding=1)\n",
    "        self.conv6 = nn.Conv2d(in_channels=256, out_channels=256, kernel_size=3,padding=1)\n",
    "       # self.conv7 = nn.Conv2d(in_channels=128, out_channels=128, kernel_size=3,padding=1)\n",
    "        \n",
    "        \n",
    "      #  self.conv8 = nn.Conv2d(in_channels=256, out_channels=256, kernel_size=3,padding=1)\n",
    "     #   self.conv9 = nn.Conv2d(in_channels=256, out_channels=256, kernel_size=3,padding=1)\n",
    "#         self.conv10 = nn.Conv2d(in_channels=512, out_channels=512, kernel_size=3,padding=1)\n",
    "        \n",
    "#         self.conv11 = nn.Conv2d(in_channels=256, out_channels=256, kernel_size=3,padding=1)\n",
    "     #   self.conv10_drop = nn.Dropout2d()\n",
    "    \n",
    "        self.fc1 = nn.Linear(12*12*256, 2)\n",
    "    #    self.fc2 = nn.Linear(150, 2)\n",
    "#         self.fc3 = nn.Linear(150, 2)\n",
    "        \n",
    "    def forward(self, x):\n",
    "        x = F.relu(self.conv1(x))\n",
    "        x = F.relu(self.conv2(x))\n",
    "        x = F.max_pool2d(x, kernel_size=2) #48  #56   #32\n",
    "              \n",
    "        x = F.relu(self.conv3(x))\n",
    "        x = F.relu(self.conv4(x))\n",
    "        x = F.max_pool2d(x, kernel_size=2) #24 #28   #16\n",
    "        \n",
    "        x = F.relu(self.conv5(x))\n",
    "        x = F.relu(self.conv6(x))\n",
    "      #  x = F.relu(self.conv7(x))     \n",
    "        x = F.max_pool2d(x, kernel_size=2) #12 #14   #8\n",
    "        \n",
    "#         x = F.relu(self.conv11(x)) \n",
    "#         x = F.max_pool2d(x, kernel_size=2) #14   #4\n",
    "        \n",
    "      #  x = F.relu(self.conv8(x))   \n",
    "     #   x = F.relu(self.conv9(x))   \n",
    "#         x = F.relu(self.conv10(x)) \n",
    "#         x = F.relu(self.conv10_drop(x))\n",
    "      #  x = F.max_pool2d(x, kernel_size=2) #6    #[14x14x512] if i=224x224    7x7x512 if i=112\n",
    "        \n",
    "   #     x = F.relu(self.conv11(x))\n",
    "   #     x = F.max_pool2d(x, kernel_size=2) #[7x7x512]\n",
    "        \n",
    "        \n",
    "        \n",
    "        \n",
    "        x = x.view(-1, 12*12*256)\n",
    "      #  x = F.relu(self.fc1(x))\n",
    "#         x = F.relu(self.fc2(x))\n",
    "       # x = F.dropout(x, training=self.training)\n",
    "        x = self.fc1(x)\n",
    "     #   return F.softmax(x, dim=1)\n",
    "        return x\n",
    "    \n",
    "# Epoch 0 \tLoss: 0.699 \tLoss (val): 0.693\tAccuracy: 0.51 \tAccuracy (val): 0.50\n",
    "# Epoch 1 \tLoss: 0.684 \tLoss (val): 0.672\tAccuracy: 0.55 \tAccuracy (val): 0.56\n",
    "# Epoch 2 \tLoss: 0.651 \tLoss (val): 0.652\tAccuracy: 0.62 \tAccuracy (val): 0.62\n",
    "# Epoch 3 \tLoss: 0.609 \tLoss (val): 0.641\tAccuracy: 0.67 \tAccuracy (val): 0.63\n",
    "# Epoch 4 \tLoss: 0.604 \tLoss (val): 0.638\tAccuracy: 0.67 \tAccuracy (val): 0.62\n",
    "# Epoch 5 \tLoss: 0.589 \tLoss (val): 0.617\tAccuracy: 0.69 \tAccuracy (val): 0.66\n",
    "# Epoch 6 \tLoss: 0.568 \tLoss (val): 0.639\tAccuracy: 0.71 \tAccuracy (val): 0.65\n",
    "# Epoch 7 \tLoss: 0.548 \tLoss (val): 0.691\tAccuracy: 0.73 \tAccuracy (val): 0.64\n",
    "# Epoch 8 \tLoss: 0.521 \tLoss (val): 0.623\tAccuracy: 0.74 \tAccuracy (val): 0.67\n",
    "# Epoch 9 \tLoss: 0.498 \tLoss (val): 0.592\tAccuracy: 0.76 \tAccuracy (val): 0.71\n",
    "# Epoch 10 \tLoss: 0.470 \tLoss (val): 0.577\tAccuracy: 0.77 \tAccuracy (val): 0.71\n",
    "# Epoch 11 \tLoss: 0.437 \tLoss (val): 0.578\tAccuracy: 0.79 \tAccuracy (val): 0.71\n",
    "# Epoch 12 \tLoss: 0.377 \tLoss (val): 0.665\tAccuracy: 0.83 \tAccuracy (val): 0.71\n",
    "# Epoch 13 \tLoss: 0.370 \tLoss (val): 0.640\tAccuracy: 0.83 \tAccuracy (val): 0.71\n",
    "# Epoch 14 \tLoss: 0.289 \tLoss (val): 0.631\tAccuracy: 0.88 \tAccuracy (val): 0.75\n",
    "# Epoch 15 \tLoss: 0.267 \tLoss (val): 0.723\tAccuracy: 0.89 \tAccuracy (val): 0.72\n",
    "# Epoch 16 \tLoss: 0.193 \tLoss (val): 0.767\tAccuracy: 0.92 \tAccuracy (val): 0.74\n",
    "# Epoch 17 \tLoss: 0.138 \tLoss (val): 0.934\tAccuracy: 0.95 \tAccuracy (val): 0.75\n",
    "# Epoch 18 \tLoss: 0.116 \tLoss (val): 0.964\tAccuracy: 0.96 \tAccuracy (val): 0.75\n",
    "# Epoch 19 \tLoss: 0.068 \tLoss (val): 1.231\tAccuracy: 0.98 \tAccuracy (val): 0.74\n",
    "# Epoch 20 \tLoss: 0.052 \tLoss (val): 1.523\tAccuracy: 0.98 \tAccuracy (val): 0.74\n",
    "# Epoch 21 \tLoss: 0.081 \tLoss (val): 1.382\tAccuracy: 0.97 \tAccuracy (val): 0.73\n",
    "# Epoch 22 \tLoss: 0.051 \tLoss (val): 1.633\tAccuracy: 0.98 \tAccuracy (val): 0.74\n",
    "# Epoch 23 \tLoss: 0.035 \tLoss (val): 1.534\tAccuracy: 0.99 \tAccuracy (val): 0.73\n",
    "# Epoch 24 \tLoss: 0.024 \tLoss (val): 1.875\tAccuracy: 0.99 \tAccuracy (val): 0.74\n",
    "# Epoch 25 \tLoss: 0.014 \tLoss (val): 1.821\tAccuracy: 1.00 \tAccuracy (val): 0.73\n",
    "# Epoch 26 \tLoss: 0.006 \tLoss (val): 2.076\tAccuracy: 1.00 \tAccuracy (val): 0.73\n",
    "# Epoch 27 \tLoss: 0.003 \tLoss (val): 2.032\tAccuracy: 1.00 \tAccuracy (val): 0.74\n",
    "# Epoch 28 \tLoss: 0.001 \tLoss (val): 2.245\tAccuracy: 1.00 \tAccuracy (val): 0.74\n",
    "# Epoch 29 \tLoss: 0.001 \tLoss (val): 2.193\tAccuracy: 1.00 \tAccuracy (val): 0.74\n",
    "# Epoch 30 \tLoss: 0.000 \tLoss (val): 2.252\tAccuracy: 1.00 \tAccuracy (val): 0.74\n",
    "# Epoch 31 \tLoss: 0.000 \tLoss (val): 2.297\tAccuracy: 1.00 \tAccuracy (val): 0.74\n",
    "# Epoch 32 \tLoss: 0.000 \tLoss (val): 2.337\tAccuracy: 1.00 \tAccuracy (val): 0.74\n",
    "# Epoch 33 \tLoss: 0.000 \tLoss (val): 2.370\tAccuracy: 1.00 \tAccuracy (val): 0.74\n",
    "# Epoch 34 \tLoss: 0.000 \tLoss (val): 2.401\tAccuracy: 1.00 \tAccuracy (val): 0.74"
   ]
  },
  {
   "cell_type": "code",
   "execution_count": null,
   "metadata": {},
   "outputs": [],
   "source": [
    "#input 96x96x3\n",
    "class ImageClassifierNetwork(nn.Module):\n",
    "    def __init__(self):\n",
    "        super().__init__()\n",
    "        self.conv1 = nn.Conv2d(in_channels=3, out_channels=64, kernel_size=3,padding=1)\n",
    "        self.conv2 = nn.Conv2d(in_channels=64, out_channels=64, kernel_size=3,padding=1)\n",
    "        #\n",
    "        self.conv3 = nn.Conv2d(in_channels=64, out_channels=128, kernel_size=3,padding=1)\n",
    "        self.conv4 = nn.Conv2d(in_channels=128, out_channels=128, kernel_size=3,padding=1)\n",
    "        #\n",
    "        self.conv5 = nn.Conv2d(in_channels=128, out_channels=256, kernel_size=3,padding=1)\n",
    "        self.conv6 = nn.Conv2d(in_channels=256, out_channels=256, kernel_size=3,padding=1)\n",
    "       # self.conv7 = nn.Conv2d(in_channels=128, out_channels=128, kernel_size=3,padding=1)\n",
    "        \n",
    "        \n",
    "        self.conv8 = nn.Conv2d(in_channels=256, out_channels=256, kernel_size=3,padding=1)\n",
    "        self.conv9 = nn.Conv2d(in_channels=256, out_channels=256, kernel_size=3,padding=1)\n",
    "#         self.conv10 = nn.Conv2d(in_channels=512, out_channels=512, kernel_size=3,padding=1)\n",
    "        \n",
    "#         self.conv11 = nn.Conv2d(in_channels=256, out_channels=256, kernel_size=3,padding=1)\n",
    "     #   self.conv10_drop = nn.Dropout2d()\n",
    "    \n",
    "        self.fc1 = nn.Linear(6*6*256, 2)\n",
    "    #    self.fc2 = nn.Linear(150, 2)\n",
    "#         self.fc3 = nn.Linear(150, 2)\n",
    "        \n",
    "    def forward(self, x):\n",
    "        x = F.relu(self.conv1(x))\n",
    "        x = F.relu(self.conv2(x))\n",
    "        x = F.max_pool2d(x, kernel_size=2) #48  #56   #32\n",
    "              \n",
    "        x = F.relu(self.conv3(x))\n",
    "        x = F.relu(self.conv4(x))\n",
    "        x = F.max_pool2d(x, kernel_size=2) #24 #28   #16\n",
    "        \n",
    "        x = F.relu(self.conv5(x))\n",
    "        x = F.relu(self.conv6(x))\n",
    "      #  x = F.relu(self.conv7(x))     \n",
    "        x = F.max_pool2d(x, kernel_size=2) #12 #14   #8\n",
    "        \n",
    "#         x = F.relu(self.conv11(x)) \n",
    "#         x = F.max_pool2d(x, kernel_size=2) #14   #4\n",
    "        \n",
    "        x = F.relu(self.conv8(x))   \n",
    "        x = F.relu(self.conv9(x))   \n",
    "#         x = F.relu(self.conv10(x)) \n",
    "#         x = F.relu(self.conv10_drop(x))\n",
    "        x = F.max_pool2d(x, kernel_size=2) #6    #[14x14x512] if i=224x224    7x7x512 if i=112\n",
    "        \n",
    "   #     x = F.relu(self.conv11(x))\n",
    "   #     x = F.max_pool2d(x, kernel_size=2) #[7x7x512]\n",
    "        \n",
    "        \n",
    "        \n",
    "        \n",
    "        x = x.view(-1, 6*6*256)\n",
    "      #  x = F.relu(self.fc1(x))\n",
    "#         x = F.relu(self.fc2(x))\n",
    "       # x = F.dropout(x, training=self.training)\n",
    "        x = self.fc1(x)\n",
    "     #   return F.softmax(x, dim=1)\n",
    "        return x\n",
    "# Epoch 0 \tLoss: 0.696 \tLoss (val): 0.693\tAccuracy: 0.50 \tAccuracy (val): 0.50\n",
    "# Epoch 1 \tLoss: 0.693 \tLoss (val): 0.691\tAccuracy: 0.51 \tAccuracy (val): 0.51\n",
    "# Epoch 2 \tLoss: 0.687 \tLoss (val): 0.693\tAccuracy: 0.56 \tAccuracy (val): 0.50\n",
    "# Epoch 3 \tLoss: 0.683 \tLoss (val): 0.712\tAccuracy: 0.54 \tAccuracy (val): 0.55\n",
    "# Epoch 4 \tLoss: 0.671 \tLoss (val): 0.677\tAccuracy: 0.60 \tAccuracy (val): 0.60\n",
    "# Epoch 5 \tLoss: 0.669 \tLoss (val): 0.715\tAccuracy: 0.60 \tAccuracy (val): 0.59\n",
    "# Epoch 6 \tLoss: 0.645 \tLoss (val): 0.705\tAccuracy: 0.63 \tAccuracy (val): 0.58\n",
    "# Epoch 7 \tLoss: 0.619 \tLoss (val): 0.676\tAccuracy: 0.66 \tAccuracy (val): 0.61\n",
    "# Epoch 8 \tLoss: 0.607 \tLoss (val): 0.622\tAccuracy: 0.67 \tAccuracy (val): 0.64\n",
    "# Epoch 9 \tLoss: 0.582 \tLoss (val): 0.659\tAccuracy: 0.70 \tAccuracy (val): 0.63\n",
    "# Epoch 10 \tLoss: 0.590 \tLoss (val): 0.632\tAccuracy: 0.69 \tAccuracy (val): 0.65\n",
    "# Epoch 11 \tLoss: 0.566 \tLoss (val): 0.623\tAccuracy: 0.72 \tAccuracy (val): 0.65\n",
    "# Epoch 12 \tLoss: 0.562 \tLoss (val): 0.613\tAccuracy: 0.72 \tAccuracy (val): 0.68\n",
    "# Epoch 13 \tLoss: 0.552 \tLoss (val): 0.708\tAccuracy: 0.73 \tAccuracy (val): 0.60\n",
    "# Epoch 14 \tLoss: 0.537 \tLoss (val): 0.578\tAccuracy: 0.74 \tAccuracy (val): 0.69\n",
    "# Epoch 15 \tLoss: 0.514 \tLoss (val): 0.588\tAccuracy: 0.74 \tAccuracy (val): 0.70\n",
    "# Epoch 16 \tLoss: 0.501 \tLoss (val): 0.588\tAccuracy: 0.76 \tAccuracy (val): 0.69\n",
    "# Epoch 17 \tLoss: 0.477 \tLoss (val): 0.607\tAccuracy: 0.78 \tAccuracy (val): 0.70\n",
    "# Epoch 18 \tLoss: 0.468 \tLoss (val): 0.697\tAccuracy: 0.78 \tAccuracy (val): 0.67\n",
    "# Epoch 19 \tLoss: 0.447 \tLoss (val): 0.598\tAccuracy: 0.79 \tAccuracy (val): 0.70\n",
    "# Epoch 20 \tLoss: 0.395 \tLoss (val): 0.588\tAccuracy: 0.83 \tAccuracy (val): 0.71\n",
    "# Epoch 21 \tLoss: 0.374 \tLoss (val): 0.614\tAccuracy: 0.84 \tAccuracy (val): 0.71\n",
    "# Epoch 22 \tLoss: 0.328 \tLoss (val): 0.662\tAccuracy: 0.86 \tAccuracy (val): 0.72\n",
    "# Epoch 23 \tLoss: 0.290 \tLoss (val): 0.688\tAccuracy: 0.88 \tAccuracy (val): 0.73\n",
    "# Epoch 24 \tLoss: 0.234 \tLoss (val): 0.693\tAccuracy: 0.90 \tAccuracy (val): 0.75\n",
    "# Epoch 25 \tLoss: 0.234 \tLoss (val): 0.762\tAccuracy: 0.91 \tAccuracy (val): 0.73\n",
    "# Epoch 26 \tLoss: 0.166 \tLoss (val): 0.945\tAccuracy: 0.93 \tAccuracy (val): 0.73\n",
    "# Epoch 27 \tLoss: 0.125 \tLoss (val): 1.202\tAccuracy: 0.96 \tAccuracy (val): 0.72\n",
    "# Epoch 28 \tLoss: 0.141 \tLoss (val): 0.968\tAccuracy: 0.94 \tAccuracy (val): 0.72\n",
    "# Epoch 29 \tLoss: 0.088 \tLoss (val): 1.162\tAccuracy: 0.97 \tAccuracy (val): 0.73\n",
    "# Epoch 0 \tLoss: 0.042 \tLoss (val): 1.622\tAccuracy: 0.99 \tAccuracy (val): 0.73\n",
    "# Epoch 1 \tLoss: 0.058 \tLoss (val): 1.725\tAccuracy: 0.98 \tAccuracy (val): 0.72\n",
    "# Epoch 2 \tLoss: 0.079 \tLoss (val): 1.250\tAccuracy: 0.98 \tAccuracy (val): 0.74\n",
    "# Epoch 3 \tLoss: 0.031 \tLoss (val): 1.508\tAccuracy: 0.99 \tAccuracy (val): 0.74\n",
    "# Epoch 4 \tLoss: 0.019 \tLoss (val): 1.837\tAccuracy: 0.99 \tAccuracy (val): 0.75\n",
    "# Epoch 5 \tLoss: 0.016 \tLoss (val): 1.502\tAccuracy: 1.00 \tAccuracy (val): 0.75\n",
    "# Epoch 6 \tLoss: 0.010 \tLoss (val): 1.917\tAccuracy: 1.00 \tAccuracy (val): 0.74\n",
    "# Epoch 7 \tLoss: 0.012 \tLoss (val): 2.114\tAccuracy: 1.00 \tAccuracy (val): 0.73\n",
    "# Epoch 8 \tLoss: 0.023 \tLoss (val): 1.930\tAccuracy: 0.99 \tAccuracy (val): 0.74\n",
    "# Epoch 9 \tLoss: 0.026 \tLoss (val): 1.862\tAccuracy: 0.99 \tAccuracy (val): 0.73\n",
    "# Epoch 10 \tLoss: 0.014 \tLoss (val): 2.444\tAccuracy: 0.99 \tAccuracy (val): 0.72\n",
    "# Epoch 11 \tLoss: 0.023 \tLoss (val): 2.080\tAccuracy: 0.99 \tAccuracy (val): 0.72\n",
    "# Epoch 12 \tLoss: 0.019 \tLoss (val): 1.901\tAccuracy: 0.99 \tAccuracy (val): 0.73\n"
   ]
  },
  {
   "cell_type": "code",
   "execution_count": null,
   "metadata": {},
   "outputs": [],
   "source": [
    "# YOUR CODE HERE\n",
    "#input 64x64x3\n",
    "class ImageClassifierNetwork(nn.Module):\n",
    "    def __init__(self):\n",
    "        super().__init__()\n",
    "        self.conv1 = nn.Conv2d(in_channels=3, out_channels=64, kernel_size=3,padding=1)\n",
    "        self.conv2 = nn.Conv2d(in_channels=64, out_channels=64, kernel_size=3,padding=1)\n",
    "        #\n",
    "        self.conv3 = nn.Conv2d(in_channels=64, out_channels=128, kernel_size=3,padding=1)\n",
    "        self.conv4 = nn.Conv2d(in_channels=128, out_channels=128, kernel_size=3,padding=1)\n",
    "        #\n",
    "        self.conv5 = nn.Conv2d(in_channels=128, out_channels=256, kernel_size=3,padding=1)\n",
    "        self.conv6 = nn.Conv2d(in_channels=256, out_channels=256, kernel_size=3,padding=1)\n",
    "       # self.conv7 = nn.Conv2d(in_channels=128, out_channels=128, kernel_size=3,padding=1)\n",
    "        \n",
    "        \n",
    "        self.conv8 = nn.Conv2d(in_channels=256, out_channels=512, kernel_size=3,padding=1)\n",
    "        self.conv9 = nn.Conv2d(in_channels=512, out_channels=512, kernel_size=3,padding=1)\n",
    "#         self.conv10 = nn.Conv2d(in_channels=512, out_channels=512, kernel_size=3,padding=1)\n",
    "        \n",
    "#         self.conv11 = nn.Conv2d(in_channels=256, out_channels=256, kernel_size=3,padding=1)\n",
    "     #   self.conv10_drop = nn.Dropout2d()\n",
    "    \n",
    "        self.fc1 = nn.Linear(4*4*512, 2)\n",
    "    #    self.fc2 = nn.Linear(150, 2)\n",
    "#         self.fc3 = nn.Linear(150, 2)\n",
    "        \n",
    "    def forward(self, x):\n",
    "        x = F.relu(self.conv1(x))\n",
    "        x = F.relu(self.conv2(x))\n",
    "        x = F.max_pool2d(x, kernel_size=2) #56   #32\n",
    "              \n",
    "        x = F.relu(self.conv3(x))\n",
    "        x = F.relu(self.conv4(x))\n",
    "        x = F.max_pool2d(x, kernel_size=2) #28   #16\n",
    "        \n",
    "        x = F.relu(self.conv5(x))\n",
    "        x = F.relu(self.conv6(x))\n",
    "      #  x = F.relu(self.conv7(x))     \n",
    "        x = F.max_pool2d(x, kernel_size=2) #14   #8\n",
    "        \n",
    "#         x = F.relu(self.conv11(x)) \n",
    "#         x = F.max_pool2d(x, kernel_size=2) #14   #4\n",
    "        \n",
    "        x = F.relu(self.conv8(x))\n",
    "        x = F.relu(self.conv9(x))\n",
    "\n",
    "#         x = F.relu(self.conv10(x)) \n",
    "#         x = F.relu(self.conv10_drop(x))\n",
    "        x = F.max_pool2d(x, kernel_size=2) #4    #[14x14x512] if i=224x224    7x7x512 if i=112\n",
    "        \n",
    "   #     x = F.relu(self.conv11(x))\n",
    "   #     x = F.max_pool2d(x, kernel_size=2) #[7x7x512]\n",
    "        \n",
    "        \n",
    "        \n",
    "        \n",
    "        x = x.view(-1, 4*4*512)\n",
    "      #  x = F.relu(self.fc1(x))\n",
    "#         x = F.relu(self.fc2(x))\n",
    "       # x = F.dropout(x, training=self.training)\n",
    "        x = self.fc1(x)\n",
    "     #   return F.softmax(x, dim=1)\n",
    "        return x\n",
    "# Epoch 0 \tLoss: 0.695 \tLoss (val): 0.693\tAccuracy: 0.49 \tAccuracy (val): 0.50\n",
    "# Epoch 1 \tLoss: 0.693 \tLoss (val): 0.692\tAccuracy: 0.51 \tAccuracy (val): 0.50\n",
    "# Epoch 2 \tLoss: 0.680 \tLoss (val): 0.686\tAccuracy: 0.57 \tAccuracy (val): 0.57\n",
    "# Epoch 3 \tLoss: 0.661 \tLoss (val): 0.661\tAccuracy: 0.60 \tAccuracy (val): 0.61\n",
    "# Epoch 4 \tLoss: 0.621 \tLoss (val): 0.634\tAccuracy: 0.65 \tAccuracy (val): 0.65\n",
    "# Epoch 5 \tLoss: 0.588 \tLoss (val): 0.620\tAccuracy: 0.69 \tAccuracy (val): 0.64\n",
    "# Epoch 6 \tLoss: 0.586 \tLoss (val): 0.602\tAccuracy: 0.69 \tAccuracy (val): 0.67\n",
    "# Epoch 7 \tLoss: 0.576 \tLoss (val): 0.609\tAccuracy: 0.70 \tAccuracy (val): 0.67\n",
    "# Epoch 8 \tLoss: 0.567 \tLoss (val): 0.674\tAccuracy: 0.71 \tAccuracy (val): 0.63\n",
    "# Epoch 9 \tLoss: 0.552 \tLoss (val): 0.651\tAccuracy: 0.72 \tAccuracy (val): 0.64\n",
    "# Epoch 10 \tLoss: 0.552 \tLoss (val): 0.589\tAccuracy: 0.72 \tAccuracy (val): 0.67\n",
    "# Epoch 11 \tLoss: 0.517 \tLoss (val): 0.555\tAccuracy: 0.75 \tAccuracy (val): 0.71\n",
    "# Epoch 12 \tLoss: 0.501 \tLoss (val): 0.567\tAccuracy: 0.76 \tAccuracy (val): 0.69\n",
    "# Epoch 13 \tLoss: 0.486 \tLoss (val): 0.568\tAccuracy: 0.77 \tAccuracy (val): 0.70\n",
    "# Epoch 14 \tLoss: 0.482 \tLoss (val): 0.566\tAccuracy: 0.77 \tAccuracy (val): 0.72\n",
    "# Epoch 15 \tLoss: 0.456 \tLoss (val): 0.642\tAccuracy: 0.79 \tAccuracy (val): 0.66\n",
    "# Epoch 16 \tLoss: 0.438 \tLoss (val): 0.540\tAccuracy: 0.80 \tAccuracy (val): 0.75\n",
    "# Epoch 17 \tLoss: 0.415 \tLoss (val): 0.729\tAccuracy: 0.82 \tAccuracy (val): 0.67\n",
    "# Epoch 18 \tLoss: 0.395 \tLoss (val): 0.596\tAccuracy: 0.82 \tAccuracy (val): 0.73\n",
    "# Epoch 19 \tLoss: 0.352 \tLoss (val): 0.599\tAccuracy: 0.84 \tAccuracy (val): 0.74\n",
    "# Epoch 20 \tLoss: 0.301 \tLoss (val): 0.640\tAccuracy: 0.87 \tAccuracy (val): 0.74\n",
    "# Epoch 21 \tLoss: 0.263 \tLoss (val): 0.641\tAccuracy: 0.89 \tAccuracy (val): 0.74\n",
    "# Epoch 22 \tLoss: 0.232 \tLoss (val): 0.664\tAccuracy: 0.91 \tAccuracy (val): 0.72\n",
    "# Epoch 23 \tLoss: 0.183 \tLoss (val): 0.837\tAccuracy: 0.93 \tAccuracy (val): 0.73\n",
    "# Epoch 24 \tLoss: 0.151 \tLoss (val): 1.007\tAccuracy: 0.94 \tAccuracy (val): 0.72\n",
    "# Epoch 25 \tLoss: 0.119 \tLoss (val): 0.848\tAccuracy: 0.95 \tAccuracy (val): 0.73\n",
    "# Epoch 26 \tLoss: 0.118 \tLoss (val): 1.137\tAccuracy: 0.96 \tAccuracy (val): 0.71\n",
    "# Epoch 27 \tLoss: 0.136 \tLoss (val): 0.846\tAccuracy: 0.95 \tAccuracy (val): 0.76\n",
    "# Epoch 28 \tLoss: 0.064 \tLoss (val): 1.060\tAccuracy: 0.98 \tAccuracy (val): 0.75\n",
    "# Epoch 29 \tLoss: 0.077 \tLoss (val): 1.059\tAccuracy: 0.97 \tAccuracy (val): 0.75\n",
    "# Epoch 30 \tLoss: 0.076 \tLoss (val): 1.046\tAccuracy: 0.97 \tAccuracy (val): 0.76\n",
    "# Epoch 31 \tLoss: 0.028 \tLoss (val): 1.489\tAccuracy: 0.99 \tAccuracy (val): 0.75\n",
    "# Epoch 32 \tLoss: 0.030 \tLoss (val): 1.515\tAccuracy: 0.99 \tAccuracy (val): 0.76\n",
    "# Epoch 33 \tLoss: 0.048 \tLoss (val): 1.334\tAccuracy: 0.98 \tAccuracy (val): 0.74\n",
    "# Epoch 34 \tLoss: 0.039 \tLoss (val): 1.377\tAccuracy: 0.99 \tAccuracy (val): 0.75    "
   ]
  },
  {
   "cell_type": "code",
   "execution_count": null,
   "metadata": {},
   "outputs": [],
   "source": [
    "# YOUR CODE HERE\n",
    "class ImageClassifierNetwork(nn.Module):\n",
    "    def __init__(self):\n",
    "        super().__init__()\n",
    "        self.conv1 = nn.Conv2d(in_channels=3, out_channels=32, kernel_size=3,padding=1)\n",
    "        #self.norm1 = nn.BatchNorm2d(64)\n",
    "        self.conv2 = nn.Conv2d(in_channels=32, out_channels=32, kernel_size=3,padding=1)\n",
    "       # self.norm2 = nn.BatchNorm2d(64)\n",
    "        #\n",
    "        self.conv3 = nn.Conv2d(in_channels=32, out_channels=64, kernel_size=3,padding=1)\n",
    "     #   self.norm3 = nn.BatchNorm2d(128)\n",
    "        self.conv4 = nn.Conv2d(in_channels=64, out_channels=64, kernel_size=3,padding=1)\n",
    "     #   self.norm4 = nn.BatchNorm2d(128)\n",
    "        #\n",
    "        self.conv5 = nn.Conv2d(in_channels=64, out_channels=128, kernel_size=3,padding=1)\n",
    "      #  self.norm5 = nn.BatchNorm2d(256)\n",
    "        self.conv6 = nn.Conv2d(in_channels=128, out_channels=128, kernel_size=3,padding=1)\n",
    "      #  self.norm6 = nn.BatchNorm2d(256)\n",
    "\n",
    "        \n",
    "        self.fc1 = nn.Linear(8*8*128, 2)\n",
    "    \n",
    "    def forward(self, x):\n",
    "        x = F.relu(self.conv1(x))\n",
    "        x = F.relu(self.conv2(x))\n",
    "        x = F.max_pool2d(x, kernel_size=2) #56   #32\n",
    "              \n",
    "        x = F.relu(self.conv3(x))\n",
    "        x = F.relu(self.conv4(x))\n",
    "        x = F.max_pool2d(x, kernel_size=2) #28   #16\n",
    "        \n",
    "        x = F.relu(self.conv5(x))\n",
    "        x = F.relu(self.conv6(x)) \n",
    "        x = F.max_pool2d(x, kernel_size=2) #14   #8      \n",
    "        \n",
    "        x = x.view(-1, 8*8*128)\n",
    "        x = self.fc1(x)\n",
    "\n",
    "        return x\n",
    "# Epoch 0 \tLoss: 0.695 \tLoss (val): 0.693\tAccuracy: 0.50 \tAccuracy (val): 0.50\n",
    "# Epoch 1 \tLoss: 0.692 \tLoss (val): 0.690\tAccuracy: 0.52 \tAccuracy (val): 0.55\n",
    "# Epoch 2 \tLoss: 0.675 \tLoss (val): 0.669\tAccuracy: 0.59 \tAccuracy (val): 0.59\n",
    "# Epoch 3 \tLoss: 0.660 \tLoss (val): 0.666\tAccuracy: 0.60 \tAccuracy (val): 0.59\n",
    "# Epoch 4 \tLoss: 0.632 \tLoss (val): 0.638\tAccuracy: 0.65 \tAccuracy (val): 0.63\n",
    "# Epoch 5 \tLoss: 0.606 \tLoss (val): 0.672\tAccuracy: 0.68 \tAccuracy (val): 0.64\n",
    "# Epoch 6 \tLoss: 0.591 \tLoss (val): 0.644\tAccuracy: 0.69 \tAccuracy (val): 0.64\n",
    "# Epoch 7 \tLoss: 0.562 \tLoss (val): 0.603\tAccuracy: 0.72 \tAccuracy (val): 0.68\n",
    "# Epoch 8 \tLoss: 0.529 \tLoss (val): 0.590\tAccuracy: 0.74 \tAccuracy (val): 0.68\n",
    "# Epoch 9 \tLoss: 0.500 \tLoss (val): 0.592\tAccuracy: 0.75 \tAccuracy (val): 0.71\n",
    "# Epoch 10 \tLoss: 0.477 \tLoss (val): 0.696\tAccuracy: 0.78 \tAccuracy (val): 0.67\n",
    "# Epoch 11 \tLoss: 0.468 \tLoss (val): 0.621\tAccuracy: 0.78 \tAccuracy (val): 0.69\n",
    "# Epoch 12 \tLoss: 0.435 \tLoss (val): 0.717\tAccuracy: 0.80 \tAccuracy (val): 0.67\n",
    "# Epoch 13 \tLoss: 0.415 \tLoss (val): 0.637\tAccuracy: 0.81 \tAccuracy (val): 0.71\n",
    "# Epoch 14 \tLoss: 0.365 \tLoss (val): 0.783\tAccuracy: 0.84 \tAccuracy (val): 0.68\n",
    "# Epoch 15 \tLoss: 0.345 \tLoss (val): 0.595\tAccuracy: 0.85 \tAccuracy (val): 0.72\n",
    "# Epoch 16 \tLoss: 0.304 \tLoss (val): 0.647\tAccuracy: 0.87 \tAccuracy (val): 0.72\n",
    "# Epoch 17 \tLoss: 0.255 \tLoss (val): 0.686\tAccuracy: 0.89 \tAccuracy (val): 0.73\n",
    "# Epoch 18 \tLoss: 0.205 \tLoss (val): 0.945\tAccuracy: 0.92 \tAccuracy (val): 0.70\n",
    "# Epoch 19 \tLoss: 0.168 \tLoss (val): 1.145\tAccuracy: 0.93 \tAccuracy (val): 0.69\n",
    "# Epoch 20 \tLoss: 0.129 \tLoss (val): 1.066\tAccuracy: 0.95 \tAccuracy (val): 0.72\n",
    "# Epoch 21 \tLoss: 0.099 \tLoss (val): 1.116\tAccuracy: 0.96 \tAccuracy (val): 0.73\n",
    "# Epoch 22 \tLoss: 0.066 \tLoss (val): 1.359\tAccuracy: 0.98 \tAccuracy (val): 0.72\n",
    "# Epoch 23 \tLoss: 0.066 \tLoss (val): 1.548\tAccuracy: 0.98 \tAccuracy (val): 0.69\n",
    "# Epoch 24 \tLoss: 0.057 \tLoss (val): 1.439\tAccuracy: 0.98 \tAccuracy (val): 0.72\n",
    "# Epoch 25 \tLoss: 0.048 \tLoss (val): 1.737\tAccuracy: 0.99 \tAccuracy (val): 0.71\n",
    "# Epoch 26 \tLoss: 0.023 \tLoss (val): 1.744\tAccuracy: 0.99 \tAccuracy (val): 0.73\n",
    "# Epoch 27 \tLoss: 0.013 \tLoss (val): 2.089\tAccuracy: 1.00 \tAccuracy (val): 0.71\n",
    "# Epoch 28 \tLoss: 0.007 \tLoss (val): 2.135\tAccuracy: 1.00 \tAccuracy (val): 0.71\n",
    "# Epoch 29 \tLoss: 0.003 \tLoss (val): 2.221\tAccuracy: 1.00 \tAccuracy (val): 0.72\n",
    "# Epoch 30 \tLoss: 0.001 \tLoss (val): 2.326\tAccuracy: 1.00 \tAccuracy (val): 0.72\n",
    "# Epoch 31 \tLoss: 0.001 \tLoss (val): 2.452\tAccuracy: 1.00 \tAccuracy (val): 0.72\n",
    "# Epoch 32 \tLoss: 0.000 \tLoss (val): 2.496\tAccuracy: 1.00 \tAccuracy (val): 0.72\n",
    "# Epoch 33 \tLoss: 0.000 \tLoss (val): 2.528\tAccuracy: 1.00 \tAccuracy (val): 0.72\n",
    "# Epoch 34 \tLoss: 0.000 \tLoss (val): 2.606\tAccuracy: 1.00 \tAccuracy (val): 0.72"
   ]
  },
  {
   "cell_type": "code",
   "execution_count": null,
   "metadata": {},
   "outputs": [],
   "source": [
    "# YOUR CODE HERE\n",
    "class ImageClassifierNetwork(nn.Module):\n",
    "    def __init__(self):\n",
    "        super().__init__()\n",
    "        self.conv1 = nn.Conv2d(in_channels=3, out_channels=64, kernel_size=3,padding=1)\n",
    "        #self.norm1 = nn.BatchNorm2d(64)\n",
    "        self.conv2 = nn.Conv2d(in_channels=64, out_channels=64, kernel_size=3,padding=1)\n",
    "       # self.norm2 = nn.BatchNorm2d(64)\n",
    "        #\n",
    "        self.conv3 = nn.Conv2d(in_channels=64, out_channels=128, kernel_size=3,padding=1)\n",
    "     #   self.norm3 = nn.BatchNorm2d(128)\n",
    "        self.conv4 = nn.Conv2d(in_channels=128, out_channels=128, kernel_size=3,padding=1)\n",
    "     #   self.norm4 = nn.BatchNorm2d(128)\n",
    "        #\n",
    "        self.conv5 = nn.Conv2d(in_channels=128, out_channels=256, kernel_size=3,padding=1)\n",
    "      #  self.norm5 = nn.BatchNorm2d(256)\n",
    "        self.conv6 = nn.Conv2d(in_channels=256, out_channels=512, kernel_size=3,padding=1)\n",
    "      #  self.norm6 = nn.BatchNorm2d(256)\n",
    "\n",
    "        \n",
    "        self.fc1 = nn.Linear(8*8*512, 2)\n",
    "    \n",
    "    def forward(self, x):\n",
    "        x = F.relu(self.conv1(x))\n",
    "        x = F.relu(self.conv2(x))\n",
    "        x = F.max_pool2d(x, kernel_size=2) #56   #32\n",
    "              \n",
    "        x = F.relu(self.conv3(x))\n",
    "        x = F.relu(self.conv4(x))\n",
    "        x = F.max_pool2d(x, kernel_size=2) #28   #16\n",
    "        \n",
    "        x = F.relu(self.conv5(x))\n",
    "        x = F.relu(self.conv6(x)) \n",
    "        x = F.max_pool2d(x, kernel_size=2) #14   #8\n",
    "        \n",
    "\n",
    "        \n",
    "        \n",
    "        \n",
    "        x = x.view(-1, 8*8*512)\n",
    "        x = self.fc1(x)\n",
    "\n",
    "        return x\n",
    "    \n",
    "# Epoch 0 \tLoss: 0.696 \tLoss (val): 0.693\tAccuracy: 0.51 \tAccuracy (val): 0.49\n",
    "# Epoch 1 \tLoss: 0.681 \tLoss (val): 0.678\tAccuracy: 0.57 \tAccuracy (val): 0.56\n",
    "# Epoch 2 \tLoss: 0.652 \tLoss (val): 0.697\tAccuracy: 0.62 \tAccuracy (val): 0.57\n",
    "# Epoch 3 \tLoss: 0.613 \tLoss (val): 0.657\tAccuracy: 0.68 \tAccuracy (val): 0.60\n",
    "# Epoch 4 \tLoss: 0.575 \tLoss (val): 0.655\tAccuracy: 0.71 \tAccuracy (val): 0.62\n",
    "# Epoch 5 \tLoss: 0.544 \tLoss (val): 0.709\tAccuracy: 0.73 \tAccuracy (val): 0.64\n",
    "# Epoch 6 \tLoss: 0.515 \tLoss (val): 0.638\tAccuracy: 0.75 \tAccuracy (val): 0.68\n",
    "# Epoch 7 \tLoss: 0.541 \tLoss (val): 0.606\tAccuracy: 0.73 \tAccuracy (val): 0.68\n",
    "# Epoch 8 \tLoss: 0.473 \tLoss (val): 0.627\tAccuracy: 0.77 \tAccuracy (val): 0.68\n",
    "# Epoch 9 \tLoss: 0.438 \tLoss (val): 0.586\tAccuracy: 0.80 \tAccuracy (val): 0.70\n",
    "# Epoch 10 \tLoss: 0.398 \tLoss (val): 0.612\tAccuracy: 0.82 \tAccuracy (val): 0.71\n",
    "# Epoch 11 \tLoss: 0.382 \tLoss (val): 0.601\tAccuracy: 0.83 \tAccuracy (val): 0.73\n",
    "# Epoch 12 \tLoss: 0.329 \tLoss (val): 0.593\tAccuracy: 0.86 \tAccuracy (val): 0.75\n",
    "# Epoch 13 \tLoss: 0.297 \tLoss (val): 0.581\tAccuracy: 0.88 \tAccuracy (val): 0.75\n",
    "# Epoch 14 \tLoss: 0.249 \tLoss (val): 0.764\tAccuracy: 0.90 \tAccuracy (val): 0.68\n",
    "# Epoch 15 \tLoss: 0.213 \tLoss (val): 0.640\tAccuracy: 0.92 \tAccuracy (val): 0.75\n",
    "# Epoch 16 \tLoss: 0.149 \tLoss (val): 0.810\tAccuracy: 0.94 \tAccuracy (val): 0.74\n",
    "# Epoch 17 \tLoss: 0.107 \tLoss (val): 1.156\tAccuracy: 0.96 \tAccuracy (val): 0.70\n",
    "# Epoch 18 \tLoss: 0.114 \tLoss (val): 1.125\tAccuracy: 0.96 \tAccuracy (val): 0.70\n",
    "# Epoch 19 \tLoss: 0.060 \tLoss (val): 1.356\tAccuracy: 0.98 \tAccuracy (val): 0.71\n",
    "# Epoch 20 \tLoss: 0.041 \tLoss (val): 1.170\tAccuracy: 0.99 \tAccuracy (val): 0.74\n",
    "# Epoch 21 \tLoss: 0.030 \tLoss (val): 1.506\tAccuracy: 0.99 \tAccuracy (val): 0.73\n",
    "# Epoch 22 \tLoss: 0.025 \tLoss (val): 1.352\tAccuracy: 0.99 \tAccuracy (val): 0.75\n",
    "# Epoch 23 \tLoss: 0.040 \tLoss (val): 1.683\tAccuracy: 0.99 \tAccuracy (val): 0.69\n",
    "# Epoch 24 \tLoss: 0.024 \tLoss (val): 1.598\tAccuracy: 0.99 \tAccuracy (val): 0.71\n",
    "# Epoch 25 \tLoss: 0.011 \tLoss (val): 1.861\tAccuracy: 1.00 \tAccuracy (val): 0.72\n",
    "# Epoch 26 \tLoss: 0.007 \tLoss (val): 1.989\tAccuracy: 1.00 \tAccuracy (val): 0.72\n",
    "# Epoch 27 \tLoss: 0.002 \tLoss (val): 2.087\tAccuracy: 1.00 \tAccuracy (val): 0.72\n",
    "# Epoch 28 \tLoss: 0.001 \tLoss (val): 2.098\tAccuracy: 1.00 \tAccuracy (val): 0.72\n",
    "# Epoch 29 \tLoss: 0.000 \tLoss (val): 2.190\tAccuracy: 1.00 \tAccuracy (val): 0.72\n",
    "# Epoch 30 \tLoss: 0.000 \tLoss (val): 2.216\tAccuracy: 1.00 \tAccuracy (val): 0.72\n",
    "# Epoch 31 \tLoss: 0.000 \tLoss (val): 2.305\tAccuracy: 1.00 \tAccuracy (val): 0.72\n",
    "# Epoch 32 \tLoss: 0.000 \tLoss (val): 2.420\tAccuracy: 1.00 \tAccuracy (val): 0.72\n",
    "# Epoch 33 \tLoss: 0.000 \tLoss (val): 2.440\tAccuracy: 1.00 \tAccuracy (val): 0.72\n",
    "# Epoch 34 \tLoss: 0.000 \tLoss (val): 2.519\tAccuracy: 1.00 \tAccuracy (val): 0.72"
   ]
  },
  {
   "cell_type": "code",
   "execution_count": null,
   "metadata": {},
   "outputs": [],
   "source": [
    "# YOUR CODE HERE\n",
    "class ImageClassifierNetwork(nn.Module):\n",
    "    def __init__(self):\n",
    "        super().__init__()\n",
    "        self.conv1 = nn.Conv2d(in_channels=3, out_channels=64, kernel_size=3,padding=1)\n",
    "        self.norm1 = nn.BatchNorm2d(64)\n",
    "        self.conv2 = nn.Conv2d(in_channels=64, out_channels=64, kernel_size=3,padding=1)\n",
    "        self.norm2 = nn.BatchNorm2d(64)\n",
    "        #\n",
    "        self.conv3 = nn.Conv2d(in_channels=64, out_channels=128, kernel_size=3,padding=1)\n",
    "        self.norm3 = nn.BatchNorm2d(128)\n",
    "        self.conv4 = nn.Conv2d(in_channels=128, out_channels=128, kernel_size=3,padding=1)\n",
    "        self.norm4 = nn.BatchNorm2d(128)\n",
    "        #\n",
    "        self.conv5 = nn.Conv2d(in_channels=128, out_channels=256, kernel_size=3,padding=1)\n",
    "        self.norm5 = nn.BatchNorm2d(256)\n",
    "        self.conv6 = nn.Conv2d(in_channels=256, out_channels=256, kernel_size=3,padding=1)\n",
    "        self.norm6 = nn.BatchNorm2d(256)\n",
    "\n",
    "        \n",
    "        self.fc1 = nn.Linear(8*8*256, 2)\n",
    "    \n",
    "    def forward(self, x):\n",
    "        x = F.relu(self.norm1(self.conv1(x)))\n",
    "        x = F.relu(self.norm2(self.conv2(x)))\n",
    "        x = F.max_pool2d(x, kernel_size=2) #56   #32\n",
    "              \n",
    "        x = F.relu(self.norm3(self.conv3(x)))\n",
    "        x = F.relu(self.norm4(self.conv4(x)))\n",
    "        x = F.max_pool2d(x, kernel_size=2) #28   #16\n",
    "        \n",
    "        x = F.relu(self.norm5(self.conv5(x)))\n",
    "        x = F.relu(self.norm6(self.conv6(x))) \n",
    "        x = F.max_pool2d(x, kernel_size=2) #14   #8\n",
    "        \n",
    "\n",
    "        \n",
    "        \n",
    "        \n",
    "        x = x.view(-1, 8*8*256)\n",
    "        x = self.fc1(x)\n",
    "\n",
    "        return x\n",
    "# Epoch 0 \tLoss: 1.352 \tLoss (val): 0.795\tAccuracy: 0.55 \tAccuracy (val): 0.58\n",
    "# Epoch 1 \tLoss: 0.947 \tLoss (val): 0.826\tAccuracy: 0.60 \tAccuracy (val): 0.57\n",
    "# Epoch 2 \tLoss: 0.877 \tLoss (val): 0.868\tAccuracy: 0.60 \tAccuracy (val): 0.56\n",
    "# Epoch 3 \tLoss: 0.708 \tLoss (val): 0.829\tAccuracy: 0.66 \tAccuracy (val): 0.57\n",
    "# Epoch 4 \tLoss: 0.737 \tLoss (val): 0.802\tAccuracy: 0.69 \tAccuracy (val): 0.61\n",
    "# Epoch 5 \tLoss: 0.599 \tLoss (val): 0.711\tAccuracy: 0.70 \tAccuracy (val): 0.62\n",
    "# Epoch 6 \tLoss: 0.600 \tLoss (val): 0.864\tAccuracy: 0.73 \tAccuracy (val): 0.59\n",
    "# Epoch 7 \tLoss: 0.616 \tLoss (val): 0.823\tAccuracy: 0.71 \tAccuracy (val): 0.62\n",
    "# Epoch 8 \tLoss: 0.562 \tLoss (val): 0.716\tAccuracy: 0.75 \tAccuracy (val): 0.63\n",
    "# Epoch 9 \tLoss: 0.534 \tLoss (val): 0.738\tAccuracy: 0.75 \tAccuracy (val): 0.64\n",
    "# Epoch 10 \tLoss: 0.497 \tLoss (val): 0.743\tAccuracy: 0.77 \tAccuracy (val): 0.64\n",
    "# Epoch 11 \tLoss: 0.474 \tLoss (val): 0.672\tAccuracy: 0.79 \tAccuracy (val): 0.67\n",
    "# Epoch 12 \tLoss: 0.460 \tLoss (val): 0.719\tAccuracy: 0.79 \tAccuracy (val): 0.64\n",
    "# Epoch 13 \tLoss: 0.423 \tLoss (val): 0.739\tAccuracy: 0.81 \tAccuracy (val): 0.66\n",
    "# Epoch 14 \tLoss: 0.364 \tLoss (val): 0.794\tAccuracy: 0.83 \tAccuracy (val): 0.66\n",
    "# Epoch 15 \tLoss: 0.375 \tLoss (val): 0.708\tAccuracy: 0.84 \tAccuracy (val): 0.68\n",
    "# Epoch 16 \tLoss: 0.319 \tLoss (val): 0.888\tAccuracy: 0.86 \tAccuracy (val): 0.65\n",
    "# Epoch 17 \tLoss: 0.354 \tLoss (val): 0.776\tAccuracy: 0.84 \tAccuracy (val): 0.67\n",
    "# Epoch 18 \tLoss: 0.333 \tLoss (val): 0.926\tAccuracy: 0.86 \tAccuracy (val): 0.67\n",
    "# Epoch 19 \tLoss: 0.303 \tLoss (val): 0.798\tAccuracy: 0.88 \tAccuracy (val): 0.70\n",
    "# Epoch 20 \tLoss: 0.258 \tLoss (val): 0.878\tAccuracy: 0.88 \tAccuracy (val): 0.68\n",
    "# Epoch 21 \tLoss: 0.243 \tLoss (val): 0.851\tAccuracy: 0.90 \tAccuracy (val): 0.69\n",
    "# Epoch 22 \tLoss: 0.273 \tLoss (val): 1.079\tAccuracy: 0.88 \tAccuracy (val): 0.66\n",
    "# Epoch 23 \tLoss: 0.183 \tLoss (val): 1.087\tAccuracy: 0.92 \tAccuracy (val): 0.68\n",
    "# Epoch 24 \tLoss: 0.140 \tLoss (val): 1.125\tAccuracy: 0.94 \tAccuracy (val): 0.67\n",
    "# Epoch 25 \tLoss: 0.150 \tLoss (val): 1.232\tAccuracy: 0.94 \tAccuracy (val): 0.68\n",
    "# Epoch 26 \tLoss: 0.147 \tLoss (val): 1.141\tAccuracy: 0.94 \tAccuracy (val): 0.68\n",
    "# Epoch 27 \tLoss: 0.113 \tLoss (val): 1.408\tAccuracy: 0.96 \tAccuracy (val): 0.67\n",
    "# Epoch 28 \tLoss: 0.115 \tLoss (val): 1.166\tAccuracy: 0.95 \tAccuracy (val): 0.70\n",
    "# Epoch 29 \tLoss: 0.057 \tLoss (val): 1.392\tAccuracy: 0.98 \tAccuracy (val): 0.69\n",
    "# Epoch 30 \tLoss: 0.042 \tLoss (val): 1.301\tAccuracy: 0.99 \tAccuracy (val): 0.69\n",
    "# Epoch 31 \tLoss: 0.030 \tLoss (val): 1.433\tAccuracy: 0.99 \tAccuracy (val): 0.71\n",
    "# Epoch 32 \tLoss: 0.029 \tLoss (val): 1.520\tAccuracy: 0.99 \tAccuracy (val): 0.70\n",
    "# Epoch 33 \tLoss: 0.032 \tLoss (val): 1.414\tAccuracy: 0.99 \tAccuracy (val): 0.70\n",
    "# Epoch 34 \tLoss: 0.029 \tLoss (val): 1.432\tAccuracy: 0.99 \tAccuracy (val): 0.69"
   ]
  },
  {
   "cell_type": "code",
   "execution_count": null,
   "metadata": {},
   "outputs": [],
   "source": [
    "# YOUR CODE HERE\n",
    "class ImageClassifierNetwork(nn.Module):\n",
    "    def __init__(self):\n",
    "        super().__init__()\n",
    "        self.conv1 = nn.Conv2d(in_channels=3, out_channels=64, kernel_size=3,padding=1)\n",
    "        self.conv2 = nn.Conv2d(in_channels=64, out_channels=64, kernel_size=3,padding=1)\n",
    "        #\n",
    "        self.conv3 = nn.Conv2d(in_channels=64, out_channels=128, kernel_size=3,padding=1)\n",
    "        self.conv4 = nn.Conv2d(in_channels=128, out_channels=128, kernel_size=3,padding=1)\n",
    "        #\n",
    "        self.conv5 = nn.Conv2d(in_channels=128, out_channels=256, kernel_size=3,padding=1)\n",
    "        self.conv6 = nn.Conv2d(in_channels=256, out_channels=256, kernel_size=3,padding=1)\n",
    "        self.conv7 = nn.Conv2d(in_channels=256, out_channels=256, kernel_size=3,padding=1)\n",
    "        \n",
    "        self.fc1 = nn.Linear(8*8*256, 150)\n",
    "        self.fc2 = nn.Linear(150, 2)\n",
    "      #  self.fc3 = nn.Linear(150, 2)\n",
    "        \n",
    "    def forward(self, x):\n",
    "        x = F.relu(self.conv1(x))\n",
    "        x = F.relu(self.conv2(x))\n",
    "        x = F.max_pool2d(x, kernel_size=2) #56   #32\n",
    "              \n",
    "        x = F.relu(self.conv3(x))\n",
    "        x = F.relu(self.conv4(x))\n",
    "        x = F.max_pool2d(x, kernel_size=2) #28   #16\n",
    "        \n",
    "        x = F.relu(self.conv5(x))\n",
    "        x = F.relu(self.conv6(x))\n",
    "        x = F.relu(self.conv7(x))     \n",
    "        x = F.max_pool2d(x, kernel_size=2) #14   #8\n",
    "        \n",
    "       \n",
    "        x = x.view(-1, 8*8*256)\n",
    "        x = F.relu(self.fc1(x))\n",
    "       # x = F.relu(self.fc2(x))\n",
    "      #  x = F.dropout(x, training=self.training)\n",
    "        x = self.fc2(x)\n",
    "     #   return F.softmax(x, dim=1)\n",
    "        return x\n",
    "    \n",
    "# Epoch 0 \tLoss: 0.695 \tLoss (val): 0.693\tAccuracy: 0.50 \tAccuracy (val): 0.50\n",
    "# Epoch 1 \tLoss: 0.693 \tLoss (val): 0.691\tAccuracy: 0.51 \tAccuracy (val): 0.52\n",
    "# Epoch 2 \tLoss: 0.691 \tLoss (val): 0.690\tAccuracy: 0.54 \tAccuracy (val): 0.54\n",
    "# Epoch 3 \tLoss: 0.676 \tLoss (val): 0.682\tAccuracy: 0.58 \tAccuracy (val): 0.56\n",
    "# Epoch 4 \tLoss: 0.645 \tLoss (val): 0.664\tAccuracy: 0.62 \tAccuracy (val): 0.58\n",
    "# Epoch 5 \tLoss: 0.614 \tLoss (val): 0.635\tAccuracy: 0.66 \tAccuracy (val): 0.63\n",
    "# Epoch 6 \tLoss: 0.610 \tLoss (val): 0.631\tAccuracy: 0.68 \tAccuracy (val): 0.63\n",
    "# Epoch 7 \tLoss: 0.561 \tLoss (val): 0.626\tAccuracy: 0.71 \tAccuracy (val): 0.66\n",
    "# Epoch 8 \tLoss: 0.531 \tLoss (val): 0.605\tAccuracy: 0.73 \tAccuracy (val): 0.68\n",
    "# Epoch 9 \tLoss: 0.493 \tLoss (val): 0.604\tAccuracy: 0.76 \tAccuracy (val): 0.69\n",
    "# Epoch 10 \tLoss: 0.484 \tLoss (val): 0.582\tAccuracy: 0.77 \tAccuracy (val): 0.70\n",
    "# Epoch 11 \tLoss: 0.427 \tLoss (val): 0.665\tAccuracy: 0.81 \tAccuracy (val): 0.70\n",
    "# Epoch 12 \tLoss: 0.397 \tLoss (val): 0.579\tAccuracy: 0.81 \tAccuracy (val): 0.72\n",
    "# Epoch 13 \tLoss: 0.337 \tLoss (val): 0.591\tAccuracy: 0.85 \tAccuracy (val): 0.72\n",
    "# Epoch 14 \tLoss: 0.314 \tLoss (val): 0.620\tAccuracy: 0.86 \tAccuracy (val): 0.70\n",
    "# Epoch 15 \tLoss: 0.265 \tLoss (val): 0.655\tAccuracy: 0.89 \tAccuracy (val): 0.71\n",
    "# Epoch 16 \tLoss: 0.226 \tLoss (val): 0.815\tAccuracy: 0.91 \tAccuracy (val): 0.73\n",
    "# Epoch 17 \tLoss: 0.185 \tLoss (val): 0.935\tAccuracy: 0.92 \tAccuracy (val): 0.73\n",
    "# Epoch 18 \tLoss: 0.132 \tLoss (val): 1.121\tAccuracy: 0.95 \tAccuracy (val): 0.70\n",
    "# Epoch 19 \tLoss: 0.136 \tLoss (val): 1.048\tAccuracy: 0.95 \tAccuracy (val): 0.72\n",
    "# Epoch 20 \tLoss: 0.066 \tLoss (val): 1.563\tAccuracy: 0.98 \tAccuracy (val): 0.71\n",
    "# Epoch 21 \tLoss: 0.093 \tLoss (val): 1.456\tAccuracy: 0.97 \tAccuracy (val): 0.71\n",
    "# Epoch 22 \tLoss: 0.077 \tLoss (val): 1.791\tAccuracy: 0.97 \tAccuracy (val): 0.68\n",
    "# Epoch 23 \tLoss: 0.070 \tLoss (val): 1.805\tAccuracy: 0.98 \tAccuracy (val): 0.70\n",
    "# Epoch 24 \tLoss: 0.028 \tLoss (val): 2.163\tAccuracy: 0.99 \tAccuracy (val): 0.72\n",
    "# Epoch 25 \tLoss: 0.035 \tLoss (val): 1.731\tAccuracy: 0.99 \tAccuracy (val): 0.72\n",
    "# Epoch 26 \tLoss: 0.042 \tLoss (val): 1.908\tAccuracy: 0.98 \tAccuracy (val): 0.71\n",
    "# Epoch 27 \tLoss: 0.038 \tLoss (val): 1.878\tAccuracy: 0.99 \tAccuracy (val): 0.71\n",
    "# Epoch 28 \tLoss: 0.025 \tLoss (val): 1.846\tAccuracy: 0.99 \tAccuracy (val): 0.73\n",
    "# Epoch 29 \tLoss: 0.010 \tLoss (val): 2.827\tAccuracy: 1.00 \tAccuracy (val): 0.72\n",
    "# Epoch 30 \tLoss: 0.026 \tLoss (val): 3.072\tAccuracy: 0.99 \tAccuracy (val): 0.69\n",
    "# Epoch 31 \tLoss: 0.043 \tLoss (val): 2.138\tAccuracy: 0.98 \tAccuracy (val): 0.70\n",
    "# Epoch 32 \tLoss: 0.019 \tLoss (val): 2.058\tAccuracy: 0.99 \tAccuracy (val): 0.74\n",
    "# Epoch 33 \tLoss: 0.008 \tLoss (val): 2.608\tAccuracy: 1.00 \tAccuracy (val): 0.71\n",
    "# Epoch 34 \tLoss: 0.001 \tLoss (val): 2.496\tAccuracy: 1.00 \tAccuracy (val): 0.72"
   ]
  },
  {
   "cell_type": "code",
   "execution_count": null,
   "metadata": {},
   "outputs": [],
   "source": [
    "# YOUR CODE HERE\n",
    "class ImageClassifierNetwork(nn.Module):\n",
    "    def __init__(self):\n",
    "        super().__init__()\n",
    "        self.conv1 = nn.Conv2d(in_channels=3, out_channels=64, kernel_size=3,padding=1)\n",
    "        self.conv2 = nn.Conv2d(in_channels=64, out_channels=64, kernel_size=3,padding=1)\n",
    "        #\n",
    "        self.conv3 = nn.Conv2d(in_channels=64, out_channels=128, kernel_size=3,padding=1)\n",
    "        self.conv4 = nn.Conv2d(in_channels=128, out_channels=128, kernel_size=3,padding=1)\n",
    "        #\n",
    "        self.conv5 = nn.Conv2d(in_channels=128, out_channels=256, kernel_size=3,padding=1)\n",
    "        self.conv6 = nn.Conv2d(in_channels=256, out_channels=256, kernel_size=3,padding=1)\n",
    "        self.conv7 = nn.Conv2d(in_channels=256, out_channels=256, kernel_size=3,padding=1)\n",
    "        \n",
    "        \n",
    "        self.conv8 = nn.Conv2d(in_channels=256, out_channels=512, kernel_size=3,padding=1)\n",
    "        self.conv9 = nn.Conv2d(in_channels=512, out_channels=512, kernel_size=3,padding=1)\n",
    "        self.conv10 = nn.Conv2d(in_channels=512, out_channels=512, kernel_size=3,padding=1)\n",
    "        \n",
    "#         self.conv11 = nn.Conv2d(in_channels=512, out_channels=512, kernel_size=3,padding=1)\n",
    "      #  self.conv10_drop = nn.Dropout2d()\n",
    "    \n",
    "        self.fc1 = nn.Linear(4*4*512, 150)\n",
    "        self.fc2 = nn.Linear(150, 2)\n",
    "      #  self.fc3 = nn.Linear(150, 2)\n",
    "        \n",
    "    def forward(self, x):\n",
    "        x = F.relu(self.conv1(x))\n",
    "        x = F.relu(self.conv2(x))\n",
    "        x = F.max_pool2d(x, kernel_size=2) #56   #32\n",
    "              \n",
    "        x = F.relu(self.conv3(x))\n",
    "        x = F.relu(self.conv4(x))\n",
    "        x = F.max_pool2d(x, kernel_size=2) #28   #16\n",
    "        \n",
    "        x = F.relu(self.conv5(x))\n",
    "        x = F.relu(self.conv6(x))\n",
    "        x = F.relu(self.conv7(x))     \n",
    "        x = F.max_pool2d(x, kernel_size=2) #14   #8\n",
    "        \n",
    "        \n",
    "        x = F.relu(self.conv8(x))\n",
    "        x = F.relu(self.conv9(x))\n",
    "        x = F.relu(self.conv10(x)) \n",
    "    #    x = F.relu(self.conv10_drop(x))\n",
    "        x = F.max_pool2d(x, kernel_size=2) #4    #[14x14x512] if i=224x224    7x7x512 if i=112\n",
    "        \n",
    "   #     x = F.relu(self.conv11(x))\n",
    "   #     x = F.max_pool2d(x, kernel_size=2) #[7x7x512]\n",
    "        \n",
    "        x = x.view(-1, 4*4*512)\n",
    "        x = F.relu(self.fc1(x))\n",
    "       # x = F.relu(self.fc2(x))\n",
    "      #  x = F.dropout(x, training=self.training)\n",
    "        x = self.fc2(x)\n",
    "     #   return F.softmax(x, dim=1)\n",
    "        return x\n",
    "    \n",
    "# Epoch 0 \tLoss: 0.694 \tLoss (val): 0.693\tAccuracy: 0.50 \tAccuracy (val): 0.50\n",
    "# Epoch 1 \tLoss: 0.693 \tLoss (val): 0.693\tAccuracy: 0.50 \tAccuracy (val): 0.50\n",
    "# Epoch 2 \tLoss: 0.693 \tLoss (val): 0.693\tAccuracy: 0.50 \tAccuracy (val): 0.50\n",
    "# Epoch 3 \tLoss: 0.693 \tLoss (val): 0.693\tAccuracy: 0.50 \tAccuracy (val): 0.50\n",
    "# Epoch 4 \tLoss: 0.697 \tLoss (val): 0.693\tAccuracy: 0.51 \tAccuracy (val): 0.50\n",
    "# Epoch 5 \tLoss: 0.693 \tLoss (val): 0.693\tAccuracy: 0.50 \tAccuracy (val): 0.50\n",
    "# Epoch 6 \tLoss: 0.693 \tLoss (val): 0.693\tAccuracy: 0.50 \tAccuracy (val): 0.50\n",
    "# Epoch 7 \tLoss: 0.693 \tLoss (val): 0.693\tAccuracy: 0.50 \tAccuracy (val): 0.50    "
   ]
  },
  {
   "cell_type": "code",
   "execution_count": null,
   "metadata": {},
   "outputs": [],
   "source": [
    "class ImageClassifierNetwork(nn.Module):\n",
    "    def __init__(self):\n",
    "        super().__init__()\n",
    "        self.conv1 = nn.Conv2d(in_channels=3, out_channels=64, kernel_size=3,padding=1)\n",
    "        self.conv2 = nn.Conv2d(in_channels=64, out_channels=64, kernel_size=3,padding=1)\n",
    "        #\n",
    "        self.conv3 = nn.Conv2d(in_channels=64, out_channels=128, kernel_size=3,padding=1)\n",
    "        self.conv4 = nn.Conv2d(in_channels=128, out_channels=128, kernel_size=3,padding=1)\n",
    "        #\n",
    "        self.conv5 = nn.Conv2d(in_channels=128, out_channels=256, kernel_size=3,padding=1)\n",
    "        self.conv6 = nn.Conv2d(in_channels=256, out_channels=256, kernel_size=3,padding=1)\n",
    "    \n",
    "        self.conv7 = nn.Conv2d(in_channels=256, out_channels=256, kernel_size=3,padding=1)\n",
    "        self.conv8 = nn.Conv2d(in_channels=256, out_channels=256, kernel_size=3,padding=1)\n",
    "        \n",
    "        \n",
    "        self.fc1 = nn.Linear(4*4*256, 2)\n",
    "   #     self.fc2 = nn.Linear(150, 2)\n",
    "        \n",
    "    def forward(self, x):\n",
    "        x = F.relu(self.conv1(x))\n",
    "        x = F.relu(self.conv2(x))\n",
    "        x = F.max_pool2d(x, kernel_size=2) #56   #32\n",
    "              \n",
    "        x = F.relu(self.conv3(x))\n",
    "        x = F.relu(self.conv4(x))\n",
    "        x = F.max_pool2d(x, kernel_size=2) #28   #16\n",
    "        \n",
    "        x = F.relu(self.conv5(x))\n",
    "        x = F.relu(self.conv6(x))\n",
    "        x = F.max_pool2d(x, kernel_size=2) #14   #8\n",
    "       \n",
    "        x = F.relu(self.conv7(x))\n",
    "        x = F.relu(self.conv8(x))\n",
    "        x = F.max_pool2d(x, kernel_size=2) #14   #4\n",
    "    \n",
    "        \n",
    "        x = x.view(-1, 4*4*256)\n",
    "        x = self.fc1(x)\n",
    "    #    x = self.fc2(x)\n",
    "        return x\n",
    "# Epoch 0 \tLoss: 0.694 \tLoss (val): 0.692\tAccuracy: 0.50 \tAccuracy (val): 0.53\n",
    "# Epoch 1 \tLoss: 0.692 \tLoss (val): 0.693\tAccuracy: 0.53 \tAccuracy (val): 0.51\n",
    "# Epoch 2 \tLoss: 0.689 \tLoss (val): 0.691\tAccuracy: 0.53 \tAccuracy (val): 0.54\n",
    "# Epoch 3 \tLoss: 0.682 \tLoss (val): 0.691\tAccuracy: 0.55 \tAccuracy (val): 0.52\n",
    "# Epoch 4 \tLoss: 0.668 \tLoss (val): 0.661\tAccuracy: 0.60 \tAccuracy (val): 0.59\n",
    "# Epoch 5 \tLoss: 0.637 \tLoss (val): 0.652\tAccuracy: 0.64 \tAccuracy (val): 0.61\n",
    "# Epoch 6 \tLoss: 0.610 \tLoss (val): 0.686\tAccuracy: 0.67 \tAccuracy (val): 0.61\n",
    "# Epoch 7 \tLoss: 0.585 \tLoss (val): 0.598\tAccuracy: 0.69 \tAccuracy (val): 0.67\n",
    "# Epoch 8 \tLoss: 0.564 \tLoss (val): 0.651\tAccuracy: 0.71 \tAccuracy (val): 0.64\n",
    "# Epoch 9 \tLoss: 0.556 \tLoss (val): 0.579\tAccuracy: 0.72 \tAccuracy (val): 0.70\n",
    "# Epoch 10 \tLoss: 0.532 \tLoss (val): 0.629\tAccuracy: 0.73 \tAccuracy (val): 0.69\n",
    "# Epoch 11 \tLoss: 0.500 \tLoss (val): 0.557\tAccuracy: 0.76 \tAccuracy (val): 0.71\n",
    "# Epoch 12 \tLoss: 0.474 \tLoss (val): 0.564\tAccuracy: 0.78 \tAccuracy (val): 0.72\n",
    "# Epoch 13 \tLoss: 0.446 \tLoss (val): 0.584\tAccuracy: 0.80 \tAccuracy (val): 0.71\n",
    "# Epoch 14 \tLoss: 0.404 \tLoss (val): 0.702\tAccuracy: 0.82 \tAccuracy (val): 0.69\n",
    "# Epoch 15 \tLoss: 0.382 \tLoss (val): 0.660\tAccuracy: 0.83 \tAccuracy (val): 0.70\n",
    "# Epoch 16 \tLoss: 0.348 \tLoss (val): 0.513\tAccuracy: 0.85 \tAccuracy (val): 0.75\n",
    "# Epoch 17 \tLoss: 0.310 \tLoss (val): 0.574\tAccuracy: 0.87 \tAccuracy (val): 0.75\n",
    "# Epoch 18 \tLoss: 0.265 \tLoss (val): 1.013\tAccuracy: 0.89 \tAccuracy (val): 0.67\n",
    "# Epoch 19 \tLoss: 0.235 \tLoss (val): 1.022\tAccuracy: 0.90 \tAccuracy (val): 0.69\n",
    "# Epoch 20 \tLoss: 0.179 \tLoss (val): 0.955\tAccuracy: 0.93 \tAccuracy (val): 0.71\n",
    "# Epoch 21 \tLoss: 0.122 \tLoss (val): 0.859\tAccuracy: 0.95 \tAccuracy (val): 0.76\n",
    "# Epoch 22 \tLoss: 0.129 \tLoss (val): 0.925\tAccuracy: 0.95 \tAccuracy (val): 0.75\n",
    "# Epoch 23 \tLoss: 0.080 \tLoss (val): 1.147\tAccuracy: 0.97 \tAccuracy (val): 0.74\n",
    "# Epoch 24 \tLoss: 0.064 \tLoss (val): 1.083\tAccuracy: 0.98 \tAccuracy (val): 0.72\n",
    "# Epoch 25 \tLoss: 0.088 \tLoss (val): 0.944\tAccuracy: 0.97 \tAccuracy (val): 0.76\n",
    "# Epoch 26 \tLoss: 0.045 \tLoss (val): 1.338\tAccuracy: 0.98 \tAccuracy (val): 0.73\n",
    "# Epoch 27 \tLoss: 0.050 \tLoss (val): 1.459\tAccuracy: 0.98 \tAccuracy (val): 0.74\n",
    "# Epoch 28 \tLoss: 0.031 \tLoss (val): 1.541\tAccuracy: 0.99 \tAccuracy (val): 0.74\n",
    "# Epoch 29 \tLoss: 0.015 \tLoss (val): 1.583\tAccuracy: 0.99 \tAccuracy (val): 0.74\n",
    "# Epoch 30 \tLoss: 0.011 \tLoss (val): 1.800\tAccuracy: 1.00 \tAccuracy (val): 0.76\n",
    "# Epoch 31 \tLoss: 0.015 \tLoss (val): 1.715\tAccuracy: 0.99 \tAccuracy (val): 0.73\n",
    "# Epoch 32 \tLoss: 0.040 \tLoss (val): 1.490\tAccuracy: 0.99 \tAccuracy (val): 0.73\n",
    "# Epoch 33 \tLoss: 0.041 \tLoss (val): 2.140\tAccuracy: 0.98 \tAccuracy (val): 0.70\n",
    "# Epoch 34 \tLoss: 0.065 \tLoss (val): 1.465\tAccuracy: 0.98 \tAccuracy (val): 0.71"
   ]
  },
  {
   "cell_type": "code",
   "execution_count": null,
   "metadata": {},
   "outputs": [],
   "source": [
    "class ImageClassifierNetwork(nn.Module):\n",
    "    def __init__(self):\n",
    "        super().__init__()\n",
    "        self.conv1 = nn.Conv2d(in_channels=3, out_channels=64, kernel_size=3,padding=1)\n",
    "        self.conv2 = nn.Conv2d(in_channels=64, out_channels=64, kernel_size=3,padding=1)\n",
    "        #\n",
    "        self.conv3 = nn.Conv2d(in_channels=64, out_channels=128, kernel_size=3,padding=1)\n",
    "        self.conv4 = nn.Conv2d(in_channels=128, out_channels=128, kernel_size=3,padding=1)\n",
    "        #\n",
    "        self.conv5 = nn.Conv2d(in_channels=128, out_channels=256, kernel_size=3,padding=1)\n",
    "        self.conv6 = nn.Conv2d(in_channels=256, out_channels=256, kernel_size=3,padding=1)\n",
    "    \n",
    "        self.conv7 = nn.Conv2d(in_channels=256, out_channels=256, kernel_size=3,padding=1)\n",
    "        self.conv8 = nn.Conv2d(in_channels=256, out_channels=256, kernel_size=3,padding=1)\n",
    "        \n",
    "        \n",
    "        self.fc1 = nn.Linear(4*4*256, 150)\n",
    "        self.fc2 = nn.Linear(150, 2)\n",
    "        \n",
    "    def forward(self, x):\n",
    "        x = F.relu(self.conv1(x))\n",
    "        x = F.relu(self.conv2(x))\n",
    "        x = F.max_pool2d(x, kernel_size=2) #56   #32\n",
    "              \n",
    "        x = F.relu(self.conv3(x))\n",
    "        x = F.relu(self.conv4(x))\n",
    "        x = F.max_pool2d(x, kernel_size=2) #28   #16\n",
    "        \n",
    "        x = F.relu(self.conv5(x))\n",
    "        x = F.relu(self.conv6(x))\n",
    "        x = F.max_pool2d(x, kernel_size=2) #14   #8\n",
    "       \n",
    "        x = F.relu(self.conv7(x))\n",
    "        x = F.relu(self.conv8(x))\n",
    "        x = F.max_pool2d(x, kernel_size=2) #14   #4\n",
    "    \n",
    "        \n",
    "        x = x.view(-1, 4*4*256)\n",
    "        x = F.relu(self.fc1(x))\n",
    "        x = self.fc2(x)\n",
    "        return x\n",
    "# Epoch 0 \tLoss: 0.698 \tLoss (val): 0.693\tAccuracy: 0.50 \tAccuracy (val): 0.50\n",
    "# Epoch 1 \tLoss: 0.692 \tLoss (val): 0.697\tAccuracy: 0.54 \tAccuracy (val): 0.49\n",
    "# Epoch 2 \tLoss: 0.683 \tLoss (val): 0.695\tAccuracy: 0.55 \tAccuracy (val): 0.50\n",
    "# Epoch 3 \tLoss: 0.672 \tLoss (val): 0.692\tAccuracy: 0.58 \tAccuracy (val): 0.54\n",
    "# Epoch 4 \tLoss: 0.650 \tLoss (val): 0.695\tAccuracy: 0.62 \tAccuracy (val): 0.57\n",
    "# Epoch 5 \tLoss: 0.624 \tLoss (val): 0.658\tAccuracy: 0.65 \tAccuracy (val): 0.58\n",
    "# Epoch 6 \tLoss: 0.621 \tLoss (val): 0.650\tAccuracy: 0.66 \tAccuracy (val): 0.62\n",
    "# Epoch 7 \tLoss: 0.596 \tLoss (val): 0.653\tAccuracy: 0.68 \tAccuracy (val): 0.63\n",
    "# Epoch 8 \tLoss: 0.587 \tLoss (val): 0.617\tAccuracy: 0.69 \tAccuracy (val): 0.65\n",
    "# Epoch 9 \tLoss: 0.560 \tLoss (val): 0.633\tAccuracy: 0.72 \tAccuracy (val): 0.64\n",
    "# Epoch 10 \tLoss: 0.563 \tLoss (val): 0.596\tAccuracy: 0.70 \tAccuracy (val): 0.68\n",
    "# Epoch 11 \tLoss: 0.544 \tLoss (val): 0.659\tAccuracy: 0.72 \tAccuracy (val): 0.65\n",
    "# Epoch 12 \tLoss: 0.554 \tLoss (val): 0.591\tAccuracy: 0.72 \tAccuracy (val): 0.69\n",
    "# Epoch 13 \tLoss: 0.516 \tLoss (val): 0.560\tAccuracy: 0.75 \tAccuracy (val): 0.73\n",
    "# Epoch 14 \tLoss: 0.494 \tLoss (val): 0.641\tAccuracy: 0.76 \tAccuracy (val): 0.67\n",
    "# Epoch 15 \tLoss: 0.470 \tLoss (val): 0.634\tAccuracy: 0.78 \tAccuracy (val): 0.68\n",
    "# Epoch 16 \tLoss: 0.452 \tLoss (val): 0.585\tAccuracy: 0.79 \tAccuracy (val): 0.71\n",
    "# Epoch 17 \tLoss: 0.406 \tLoss (val): 0.611\tAccuracy: 0.82 \tAccuracy (val): 0.71\n",
    "# Epoch 18 \tLoss: 0.395 \tLoss (val): 0.641\tAccuracy: 0.83 \tAccuracy (val): 0.72\n",
    "# Epoch 19 \tLoss: 0.376 \tLoss (val): 0.649\tAccuracy: 0.84 \tAccuracy (val): 0.71\n",
    "# Epoch 20 \tLoss: 0.307 \tLoss (val): 0.774\tAccuracy: 0.86 \tAccuracy (val): 0.71\n",
    "# Epoch 21 \tLoss: 0.271 \tLoss (val): 0.730\tAccuracy: 0.89 \tAccuracy (val): 0.72\n",
    "# Epoch 22 \tLoss: 0.214 \tLoss (val): 0.831\tAccuracy: 0.91 \tAccuracy (val): 0.73\n",
    "# Epoch 23 \tLoss: 0.212 \tLoss (val): 0.786\tAccuracy: 0.91 \tAccuracy (val): 0.72\n",
    "# Epoch 24 \tLoss: 0.152 \tLoss (val): 0.913\tAccuracy: 0.94 \tAccuracy (val): 0.73\n",
    "# Epoch 25 \tLoss: 0.098 \tLoss (val): 1.110\tAccuracy: 0.96 \tAccuracy (val): 0.72\n",
    "# Epoch 26 \tLoss: 0.094 \tLoss (val): 1.145\tAccuracy: 0.96 \tAccuracy (val): 0.71\n",
    "# Epoch 27 \tLoss: 0.055 \tLoss (val): 1.323\tAccuracy: 0.98 \tAccuracy (val): 0.73\n",
    "# Epoch 28 \tLoss: 0.053 \tLoss (val): 1.680\tAccuracy: 0.98 \tAccuracy (val): 0.71\n",
    "# Epoch 29 \tLoss: 0.085 \tLoss (val): 1.433\tAccuracy: 0.97 \tAccuracy (val): 0.68\n",
    "# Epoch 30 \tLoss: 0.073 \tLoss (val): 1.505\tAccuracy: 0.97 \tAccuracy (val): 0.72\n",
    "# Epoch 31 \tLoss: 0.051 \tLoss (val): 1.589\tAccuracy: 0.98 \tAccuracy (val): 0.72\n",
    "# Epoch 32 \tLoss: 0.054 \tLoss (val): 1.460\tAccuracy: 0.98 \tAccuracy (val): 0.73\n",
    "# Epoch 33 \tLoss: 0.039 \tLoss (val): 1.627\tAccuracy: 0.98 \tAccuracy (val): 0.72\n",
    "# Epoch 34 \tLoss: 0.025 \tLoss (val): 1.955\tAccuracy: 0.99 \tAccuracy (val): 0.73    "
   ]
  },
  {
   "cell_type": "code",
   "execution_count": null,
   "metadata": {},
   "outputs": [],
   "source": [
    "class ImageClassifierNetwork(nn.Module):\n",
    "    def __init__(self):\n",
    "        super().__init__()\n",
    "        self.conv1 = nn.Conv2d(in_channels=3, out_channels=64, kernel_size=3,padding=1)\n",
    "        self.conv2 = nn.Conv2d(in_channels=64, out_channels=64, kernel_size=3,padding=1)\n",
    "        #\n",
    "        self.conv3 = nn.Conv2d(in_channels=64, out_channels=128, kernel_size=3,padding=1)\n",
    "        self.conv4 = nn.Conv2d(in_channels=128, out_channels=128, kernel_size=3,padding=1)\n",
    "        #\n",
    "        self.conv5 = nn.Conv2d(in_channels=128, out_channels=256, kernel_size=3,padding=1)\n",
    "        self.conv6 = nn.Conv2d(in_channels=256, out_channels=256, kernel_size=3,padding=1)\n",
    "    \n",
    "        self.fc1 = nn.Linear(8*8*256, 150)\n",
    "        self.fc2 = nn.Linear(150, 2)\n",
    "        \n",
    "    def forward(self, x):\n",
    "        x = F.relu(self.conv1(x))\n",
    "        x = F.relu(self.conv2(x))\n",
    "        x = F.max_pool2d(x, kernel_size=2) #56   #32\n",
    "              \n",
    "        x = F.relu(self.conv3(x))\n",
    "        x = F.relu(self.conv4(x))\n",
    "        x = F.max_pool2d(x, kernel_size=2) #28   #16\n",
    "        \n",
    "        x = F.relu(self.conv5(x))\n",
    "        x = F.relu(self.conv6(x))\n",
    "        x = F.max_pool2d(x, kernel_size=2) #14   #8\n",
    "       \n",
    "        \n",
    "        x = x.view(-1, 8*8*256)\n",
    "        x = F.relu(self.fc1(x))\n",
    "        x = self.fc2(x)\n",
    "        return x\n",
    "    \n",
    "# Epoch 0 \tLoss: 0.690 \tLoss (val): 0.705\tAccuracy: 0.53 \tAccuracy (val): 0.52\n",
    "# Epoch 1 \tLoss: 0.693 \tLoss (val): 0.692\tAccuracy: 0.53 \tAccuracy (val): 0.51\n",
    "# Epoch 2 \tLoss: 0.674 \tLoss (val): 0.678\tAccuracy: 0.57 \tAccuracy (val): 0.58\n",
    "# Epoch 3 \tLoss: 0.657 \tLoss (val): 0.673\tAccuracy: 0.63 \tAccuracy (val): 0.60\n",
    "# Epoch 4 \tLoss: 0.664 \tLoss (val): 0.729\tAccuracy: 0.58 \tAccuracy (val): 0.62\n",
    "# Epoch 5 \tLoss: 0.621 \tLoss (val): 0.641\tAccuracy: 0.65 \tAccuracy (val): 0.61\n",
    "# Epoch 6 \tLoss: 0.601 \tLoss (val): 0.648\tAccuracy: 0.68 \tAccuracy (val): 0.61\n",
    "# Epoch 7 \tLoss: 0.594 \tLoss (val): 0.618\tAccuracy: 0.69 \tAccuracy (val): 0.65\n",
    "# Epoch 8 \tLoss: 0.575 \tLoss (val): 0.612\tAccuracy: 0.70 \tAccuracy (val): 0.66\n",
    "# Epoch 9 \tLoss: 0.564 \tLoss (val): 0.609\tAccuracy: 0.71 \tAccuracy (val): 0.67\n",
    "# Epoch 10 \tLoss: 0.539 \tLoss (val): 0.653\tAccuracy: 0.72 \tAccuracy (val): 0.66\n",
    "# Epoch 11 \tLoss: 0.520 \tLoss (val): 0.591\tAccuracy: 0.74 \tAccuracy (val): 0.69\n",
    "# Epoch 12 \tLoss: 0.497 \tLoss (val): 0.574\tAccuracy: 0.76 \tAccuracy (val): 0.70\n",
    "# Epoch 13 \tLoss: 0.477 \tLoss (val): 0.632\tAccuracy: 0.77 \tAccuracy (val): 0.69\n",
    "# Epoch 14 \tLoss: 0.459 \tLoss (val): 0.645\tAccuracy: 0.78 \tAccuracy (val): 0.67\n",
    "# Epoch 15 \tLoss: 0.435 \tLoss (val): 0.579\tAccuracy: 0.79 \tAccuracy (val): 0.72\n",
    "# Epoch 16 \tLoss: 0.365 \tLoss (val): 0.617\tAccuracy: 0.84 \tAccuracy (val): 0.71\n",
    "# Epoch 17 \tLoss: 0.343 \tLoss (val): 0.630\tAccuracy: 0.85 \tAccuracy (val): 0.71\n",
    "# Epoch 18 \tLoss: 0.295 \tLoss (val): 0.720\tAccuracy: 0.87 \tAccuracy (val): 0.69\n",
    "# Epoch 19 \tLoss: 0.221 \tLoss (val): 0.736\tAccuracy: 0.91 \tAccuracy (val): 0.72\n",
    "# Epoch 20 \tLoss: 0.177 \tLoss (val): 0.779\tAccuracy: 0.93 \tAccuracy (val): 0.71\n",
    "# Epoch 21 \tLoss: 0.157 \tLoss (val): 0.926\tAccuracy: 0.94 \tAccuracy (val): 0.71\n",
    "# Epoch 22 \tLoss: 0.108 \tLoss (val): 1.157\tAccuracy: 0.96 \tAccuracy (val): 0.73\n",
    "# Epoch 23 \tLoss: 0.064 \tLoss (val): 1.618\tAccuracy: 0.98 \tAccuracy (val): 0.70\n",
    "# Epoch 24 \tLoss: 0.102 \tLoss (val): 1.270\tAccuracy: 0.96 \tAccuracy (val): 0.72\n",
    "# Epoch 25 \tLoss: 0.052 \tLoss (val): 1.396\tAccuracy: 0.98 \tAccuracy (val): 0.72\n",
    "# Epoch 26 \tLoss: 0.045 \tLoss (val): 1.512\tAccuracy: 0.98 \tAccuracy (val): 0.73\n",
    "# Epoch 27 \tLoss: 0.041 \tLoss (val): 1.711\tAccuracy: 0.99 \tAccuracy (val): 0.70\n",
    "# Epoch 28 \tLoss: 0.046 \tLoss (val): 1.416\tAccuracy: 0.99 \tAccuracy (val): 0.71\n",
    "# Epoch 29 \tLoss: 0.092 \tLoss (val): 1.305\tAccuracy: 0.97 \tAccuracy (val): 0.73\n",
    "# Epoch 30 \tLoss: 0.022 \tLoss (val): 1.674\tAccuracy: 0.99 \tAccuracy (val): 0.71    "
   ]
  },
  {
   "cell_type": "code",
   "execution_count": null,
   "metadata": {},
   "outputs": [],
   "source": []
  },
  {
   "cell_type": "code",
   "execution_count": 6,
   "metadata": {},
   "outputs": [],
   "source": [
    "#input 64x64x3\n",
    "# YOUR CODE HERE\n",
    "class ImageClassifierNetwork(nn.Module):\n",
    "    def __init__(self):\n",
    "        super().__init__()\n",
    "        self.conv1 = nn.Conv2d(in_channels=3, out_channels=64, kernel_size=3,padding=1)\n",
    "        self.conv2 = nn.Conv2d(in_channels=64, out_channels=64, kernel_size=3,padding=1)\n",
    "        #\n",
    "        self.conv3 = nn.Conv2d(in_channels=64, out_channels=128, kernel_size=3,padding=1)\n",
    "        self.conv4 = nn.Conv2d(in_channels=128, out_channels=128, kernel_size=3,padding=1)\n",
    "        #\n",
    "        self.conv5 = nn.Conv2d(in_channels=128, out_channels=256, kernel_size=3,padding=1)\n",
    "        self.conv6 = nn.Conv2d(in_channels=256, out_channels=256, kernel_size=3,padding=1)\n",
    "       # self.conv7 = nn.Conv2d(in_channels=128, out_channels=128, kernel_size=3,padding=1)\n",
    "        \n",
    "        \n",
    "#         self.conv8 = nn.Conv2d(in_channels=256, out_channels=512, kernel_size=3,padding=1)\n",
    "#         self.conv9 = nn.Conv2d(in_channels=512, out_channels=512, kernel_size=3,padding=1)\n",
    "#         self.conv10 = nn.Conv2d(in_channels=512, out_channels=512, kernel_size=3,padding=1)\n",
    "        \n",
    "#         self.conv11 = nn.Conv2d(in_channels=256, out_channels=256, kernel_size=3,padding=1)\n",
    "     #   self.conv10_drop = nn.Dropout2d()\n",
    "    \n",
    "        self.fc1 = nn.Linear(8*8*256, 2)\n",
    "    #    self.fc2 = nn.Linear(150, 2)\n",
    "#         self.fc3 = nn.Linear(150, 2)\n",
    "        \n",
    "    def forward(self, x):\n",
    "        x = F.relu(self.conv1(x))\n",
    "        x = F.relu(self.conv2(x))\n",
    "        x = F.max_pool2d(x, kernel_size=2) #56   #32\n",
    "              \n",
    "        x = F.relu(self.conv3(x))\n",
    "        x = F.relu(self.conv4(x))\n",
    "        x = F.max_pool2d(x, kernel_size=2) #28   #16\n",
    "        \n",
    "        x = F.relu(self.conv5(x))\n",
    "        x = F.relu(self.conv6(x))\n",
    "      #  x = F.relu(self.conv7(x))     \n",
    "        x = F.max_pool2d(x, kernel_size=2) #14   #8\n",
    "        \n",
    "#         x = F.relu(self.conv11(x)) \n",
    "#         x = F.max_pool2d(x, kernel_size=2) #14   #4\n",
    "        \n",
    "#         x = F.relu(self.conv8(x))\n",
    "#         x = F.relu(self.conv9(x))\n",
    "#         x = F.relu(self.conv10(x)) \n",
    "#         x = F.relu(self.conv10_drop(x))\n",
    "#         x = F.max_pool2d(x, kernel_size=2) #4    #[14x14x512] if i=224x224    7x7x512 if i=112\n",
    "        \n",
    "   #     x = F.relu(self.conv11(x))\n",
    "   #     x = F.max_pool2d(x, kernel_size=2) #[7x7x512]\n",
    "        \n",
    "        \n",
    "        \n",
    "        \n",
    "        x = x.view(-1, 8*8*256)\n",
    "      #  x = F.relu(self.fc1(x))\n",
    "#         x = F.relu(self.fc2(x))\n",
    "       # x = F.dropout(x, training=self.training)\n",
    "        x = self.fc1(x)\n",
    "     #   return F.softmax(x, dim=1)\n",
    "        return x\n",
    "# Epoch 0 \tLoss: 0.692 \tLoss (val): 0.688\tAccuracy: 0.52 \tAccuracy (val): 0.53\n",
    "# Epoch 1 \tLoss: 0.688 \tLoss (val): 0.689\tAccuracy: 0.55 \tAccuracy (val): 0.52\n",
    "# Epoch 2 \tLoss: 0.680 \tLoss (val): 0.674\tAccuracy: 0.56 \tAccuracy (val): 0.58\n",
    "# Epoch 3 \tLoss: 0.650 \tLoss (val): 0.660\tAccuracy: 0.61 \tAccuracy (val): 0.62\n",
    "# Epoch 4 \tLoss: 0.617 \tLoss (val): 0.624\tAccuracy: 0.66 \tAccuracy (val): 0.65\n",
    "# Epoch 5 \tLoss: 0.580 \tLoss (val): 0.640\tAccuracy: 0.70 \tAccuracy (val): 0.63\n",
    "# Epoch 6 \tLoss: 0.561 \tLoss (val): 0.638\tAccuracy: 0.72 \tAccuracy (val): 0.63\n",
    "# Epoch 7 \tLoss: 0.513 \tLoss (val): 0.541\tAccuracy: 0.75 \tAccuracy (val): 0.71\n",
    "# Epoch 8 \tLoss: 0.473 \tLoss (val): 0.574\tAccuracy: 0.77 \tAccuracy (val): 0.69\n",
    "# Epoch 9 \tLoss: 0.445 \tLoss (val): 0.672\tAccuracy: 0.79 \tAccuracy (val): 0.68\n",
    "# Epoch 10 \tLoss: 0.423 \tLoss (val): 0.782\tAccuracy: 0.80 \tAccuracy (val): 0.66\n",
    "# Epoch 11 \tLoss: 0.394 \tLoss (val): 0.628\tAccuracy: 0.82 \tAccuracy (val): 0.70\n",
    "# Epoch 12 \tLoss: 0.346 \tLoss (val): 0.545\tAccuracy: 0.85 \tAccuracy (val): 0.74\n",
    "# Epoch 13 \tLoss: 0.336 \tLoss (val): 0.584\tAccuracy: 0.86 \tAccuracy (val): 0.73\n",
    "# Epoch 14 \tLoss: 0.279 \tLoss (val): 0.539\tAccuracy: 0.88 \tAccuracy (val): 0.76\n",
    "# Epoch 15 \tLoss: 0.237 \tLoss (val): 0.675\tAccuracy: 0.91 \tAccuracy (val): 0.74\n",
    "# Epoch 16 \tLoss: 0.193 \tLoss (val): 0.713\tAccuracy: 0.92 \tAccuracy (val): 0.73\n",
    "# Epoch 17 \tLoss: 0.148 \tLoss (val): 0.698\tAccuracy: 0.94 \tAccuracy (val): 0.74\n",
    "# Epoch 18 \tLoss: 0.108 \tLoss (val): 0.755\tAccuracy: 0.96 \tAccuracy (val): 0.76\n",
    "# Epoch 19 \tLoss: 0.089 \tLoss (val): 0.925\tAccuracy: 0.97 \tAccuracy (val): 0.75\n",
    "# Epoch 20 \tLoss: 0.053 \tLoss (val): 1.172\tAccuracy: 0.98 \tAccuracy (val): 0.75\n",
    "# Epoch 21 \tLoss: 0.047 \tLoss (val): 1.120\tAccuracy: 0.98 \tAccuracy (val): 0.75\n",
    "# Epoch 22 \tLoss: 0.023 \tLoss (val): 1.194\tAccuracy: 0.99 \tAccuracy (val): 0.74\n",
    "# Epoch 23 \tLoss: 0.013 \tLoss (val): 1.362\tAccuracy: 1.00 \tAccuracy (val): 0.74\n",
    "# Epoch 24 \tLoss: 0.008 \tLoss (val): 1.391\tAccuracy: 1.00 \tAccuracy (val): 0.76\n",
    "# Epoch 25 \tLoss: 0.021 \tLoss (val): 1.519\tAccuracy: 0.99 \tAccuracy (val): 0.72\n",
    "# Epoch 26 \tLoss: 0.097 \tLoss (val): 1.261\tAccuracy: 0.97 \tAccuracy (val): 0.72\n",
    "# Epoch 27 \tLoss: 0.080 \tLoss (val): 1.031\tAccuracy: 0.97 \tAccuracy (val): 0.75\n",
    "# Epoch 28 \tLoss: 0.027 \tLoss (val): 1.184\tAccuracy: 0.99 \tAccuracy (val): 0.76\n",
    "# Epoch 29 \tLoss: 0.010 \tLoss (val): 1.407\tAccuracy: 1.00 \tAccuracy (val): 0.76\n",
    "# Epoch 30 \tLoss: 0.003 \tLoss (val): 1.502\tAccuracy: 1.00 \tAccuracy (val): 0.76\n",
    "# Epoch 31 \tLoss: 0.001 \tLoss (val): 1.576\tAccuracy: 1.00 \tAccuracy (val): 0.76\n",
    "# Epoch 32 \tLoss: 0.000 \tLoss (val): 1.615\tAccuracy: 1.00 \tAccuracy (val): 0.76\n",
    "# Epoch 33 \tLoss: 0.000 \tLoss (val): 1.670\tAccuracy: 1.00 \tAccuracy (val): 0.76\n",
    "# Epoch 34 \tLoss: 0.000 \tLoss (val): 1.704\tAccuracy: 1.00 \tAccuracy (val): 0.76    \n",
    "\n",
    "\n",
    "\n",
    "# Epoch 0 \tLoss: 0.692 \tLoss (val): 0.692\tAccuracy: 0.52 \tAccuracy (val): 0.53\n",
    "# Epoch 1 \tLoss: 0.654 \tLoss (val): 0.666\tAccuracy: 0.61 \tAccuracy (val): 0.56\n",
    "# Epoch 2 \tLoss: 0.623 \tLoss (val): 0.670\tAccuracy: 0.65 \tAccuracy (val): 0.55\n",
    "# Epoch 3 \tLoss: 0.595 \tLoss (val): 0.643\tAccuracy: 0.68 \tAccuracy (val): 0.62\n",
    "# Epoch 4 \tLoss: 0.566 \tLoss (val): 0.629\tAccuracy: 0.71 \tAccuracy (val): 0.63\n",
    "# Epoch 5 \tLoss: 0.549 \tLoss (val): 0.617\tAccuracy: 0.71 \tAccuracy (val): 0.66\n",
    "# Epoch 6 \tLoss: 0.523 \tLoss (val): 0.590\tAccuracy: 0.75 \tAccuracy (val): 0.68\n",
    "# Epoch 7 \tLoss: 0.498 \tLoss (val): 0.647\tAccuracy: 0.76 \tAccuracy (val): 0.65\n",
    "# Epoch 8 \tLoss: 0.471 \tLoss (val): 0.607\tAccuracy: 0.78 \tAccuracy (val): 0.69\n",
    "# Epoch 9 \tLoss: 0.426 \tLoss (val): 0.578\tAccuracy: 0.80 \tAccuracy (val): 0.70\n",
    "# Epoch 10 \tLoss: 0.405 \tLoss (val): 0.588\tAccuracy: 0.82 \tAccuracy (val): 0.72\n",
    "# Epoch 11 \tLoss: 0.360 \tLoss (val): 0.586\tAccuracy: 0.85 \tAccuracy (val): 0.73\n",
    "# Epoch 12 \tLoss: 0.340 \tLoss (val): 0.581\tAccuracy: 0.86 \tAccuracy (val): 0.75\n",
    "# Epoch 13 \tLoss: 0.295 \tLoss (val): 0.619\tAccuracy: 0.88 \tAccuracy (val): 0.71\n",
    "# Epoch 14 \tLoss: 0.257 \tLoss (val): 0.575\tAccuracy: 0.89 \tAccuracy (val): 0.75\n",
    "# Epoch 15 \tLoss: 0.227 \tLoss (val): 0.851\tAccuracy: 0.91 \tAccuracy (val): 0.70\n",
    "# Epoch 16 \tLoss: 0.174 \tLoss (val): 0.705\tAccuracy: 0.93 \tAccuracy (val): 0.76\n",
    "# Epoch 17 \tLoss: 0.111 \tLoss (val): 0.846\tAccuracy: 0.96 \tAccuracy (val): 0.74\n",
    "# Epoch 18 \tLoss: 0.152 \tLoss (val): 0.886\tAccuracy: 0.93 \tAccuracy (val): 0.71\n",
    "# Epoch 19 \tLoss: 0.109 \tLoss (val): 1.138\tAccuracy: 0.96 \tAccuracy (val): 0.72\n",
    "# Epoch 20 \tLoss: 0.055 \tLoss (val): 1.162\tAccuracy: 0.98 \tAccuracy (val): 0.72\n",
    "# Epoch 21 \tLoss: 0.025 \tLoss (val): 1.156\tAccuracy: 0.99 \tAccuracy (val): 0.75\n",
    "# Epoch 22 \tLoss: 0.016 \tLoss (val): 1.689\tAccuracy: 1.00 \tAccuracy (val): 0.73\n",
    "# Epoch 23 \tLoss: 0.010 \tLoss (val): 1.870\tAccuracy: 1.00 \tAccuracy (val): 0.73\n",
    "# Epoch 24 \tLoss: 0.005 \tLoss (val): 1.697\tAccuracy: 1.00 \tAccuracy (val): 0.73\n",
    "# Epoch 25 \tLoss: 0.003 \tLoss (val): 1.988\tAccuracy: 1.00 \tAccuracy (val): 0.74\n",
    "# Epoch 26 \tLoss: 0.001 \tLoss (val): 2.085\tAccuracy: 1.00 \tAccuracy (val): 0.73\n",
    "# Epoch 27 \tLoss: 0.000 \tLoss (val): 2.104\tAccuracy: 1.00 \tAccuracy (val): 0.74\n",
    "# Epoch 28 \tLoss: 0.000 \tLoss (val): 2.128\tAccuracy: 1.00 \tAccuracy (val): 0.74\n",
    "# Epoch 29 \tLoss: 0.000 \tLoss (val): 2.185\tAccuracy: 1.00 \tAccuracy (val): 0.74\n",
    "# Epoch 30 \tLoss: 0.000 \tLoss (val): 2.205\tAccuracy: 1.00 \tAccuracy (val): 0.74\n",
    "# Epoch 31 \tLoss: 0.000 \tLoss (val): 2.259\tAccuracy: 1.00 \tAccuracy (val): 0.74\n",
    "# Epoch 32 \tLoss: 0.000 \tLoss (val): 2.283\tAccuracy: 1.00 \tAccuracy (val): 0.74\n",
    "# Epoch 33 \tLoss: 0.000 \tLoss (val): 2.311\tAccuracy: 1.00 \tAccuracy (val): 0.74\n",
    "# Epoch 34 \tLoss: 0.000 \tLoss (val): 2.342\tAccuracy: 1.00 \tAccuracy (val): 0.74\n",
    "\n",
    "\n",
    "# Epoch 0 \tLoss: 0.696 \tLoss (val): 0.689\tAccuracy: 0.50 \tAccuracy (val): 0.50\n",
    "# Epoch 1 \tLoss: 0.674 \tLoss (val): 0.667\tAccuracy: 0.58 \tAccuracy (val): 0.61\n",
    "# Epoch 2 \tLoss: 0.643 \tLoss (val): 0.719\tAccuracy: 0.63 \tAccuracy (val): 0.55\n",
    "# Epoch 3 \tLoss: 0.617 \tLoss (val): 0.658\tAccuracy: 0.66 \tAccuracy (val): 0.62\n",
    "# Epoch 4 \tLoss: 0.608 \tLoss (val): 0.606\tAccuracy: 0.67 \tAccuracy (val): 0.66\n",
    "# Epoch 5 \tLoss: 0.563 \tLoss (val): 0.653\tAccuracy: 0.71 \tAccuracy (val): 0.65\n",
    "# Epoch 6 \tLoss: 0.554 \tLoss (val): 0.598\tAccuracy: 0.72 \tAccuracy (val): 0.66\n",
    "# Epoch 7 \tLoss: 0.541 \tLoss (val): 0.587\tAccuracy: 0.72 \tAccuracy (val): 0.68\n",
    "# Epoch 8 \tLoss: 0.501 \tLoss (val): 0.622\tAccuracy: 0.74 \tAccuracy (val): 0.67\n",
    "# Epoch 9 \tLoss: 0.462 \tLoss (val): 0.553\tAccuracy: 0.78 \tAccuracy (val): 0.72\n",
    "# Epoch 10 \tLoss: 0.427 \tLoss (val): 0.583\tAccuracy: 0.80 \tAccuracy (val): 0.73\n",
    "# Epoch 11 \tLoss: 0.391 \tLoss (val): 0.616\tAccuracy: 0.82 \tAccuracy (val): 0.72\n",
    "# Epoch 12 \tLoss: 0.342 \tLoss (val): 0.628\tAccuracy: 0.85 \tAccuracy (val): 0.72\n",
    "# Epoch 13 \tLoss: 0.305 \tLoss (val): 0.565\tAccuracy: 0.87 \tAccuracy (val): 0.74\n",
    "# Epoch 14 \tLoss: 0.271 \tLoss (val): 0.670\tAccuracy: 0.89 \tAccuracy (val): 0.73\n",
    "# Epoch 15 \tLoss: 0.236 \tLoss (val): 0.677\tAccuracy: 0.91 \tAccuracy (val): 0.74\n",
    "# Epoch 16 \tLoss: 0.191 \tLoss (val): 0.719\tAccuracy: 0.93 \tAccuracy (val): 0.77\n",
    "# Epoch 17 \tLoss: 0.145 \tLoss (val): 0.809\tAccuracy: 0.95 \tAccuracy (val): 0.74\n",
    "# Epoch 18 \tLoss: 0.084 \tLoss (val): 1.535\tAccuracy: 0.97 \tAccuracy (val): 0.68\n",
    "# Epoch 19 \tLoss: 0.081 \tLoss (val): 1.149\tAccuracy: 0.97 \tAccuracy (val): 0.75\n",
    "# Epoch 20 \tLoss: 0.068 \tLoss (val): 1.012\tAccuracy: 0.98 \tAccuracy (val): 0.76\n",
    "# Epoch 21 \tLoss: 0.038 \tLoss (val): 1.166\tAccuracy: 0.99 \tAccuracy (val): 0.76\n",
    "# Epoch 22 \tLoss: 0.025 \tLoss (val): 1.401\tAccuracy: 0.99 \tAccuracy (val): 0.75\n",
    "# Epoch 23 \tLoss: 0.039 \tLoss (val): 1.257\tAccuracy: 0.99 \tAccuracy (val): 0.75\n",
    "# Epoch 24 \tLoss: 0.060 \tLoss (val): 1.316\tAccuracy: 0.98 \tAccuracy (val): 0.72\n",
    "# Epoch 25 \tLoss: 0.033 \tLoss (val): 1.375\tAccuracy: 0.99 \tAccuracy (val): 0.73\n",
    "# Epoch 26 \tLoss: 0.013 \tLoss (val): 1.404\tAccuracy: 1.00 \tAccuracy (val): 0.75\n",
    "# Epoch 27 \tLoss: 0.010 \tLoss (val): 1.795\tAccuracy: 1.00 \tAccuracy (val): 0.71\n",
    "# Epoch 28 \tLoss: 0.008 \tLoss (val): 1.757\tAccuracy: 1.00 \tAccuracy (val): 0.74\n",
    "# Epoch 29 \tLoss: 0.002 \tLoss (val): 1.884\tAccuracy: 1.00 \tAccuracy (val): 0.74\n",
    "# Epoch 30 \tLoss: 0.001 \tLoss (val): 1.775\tAccuracy: 1.00 \tAccuracy (val): 0.75\n",
    "# Epoch 31 \tLoss: 0.000 \tLoss (val): 1.902\tAccuracy: 1.00 \tAccuracy (val): 0.75\n",
    "# Epoch 32 \tLoss: 0.000 \tLoss (val): 2.054\tAccuracy: 1.00 \tAccuracy (val): 0.74\n",
    "# Epoch 33 \tLoss: 0.000 \tLoss (val): 2.086\tAccuracy: 1.00 \tAccuracy (val): 0.74\n",
    "# Epoch 34 \tLoss: 0.000 \tLoss (val): 2.247\tAccuracy: 1.00 \tAccuracy (val): 0.74\n"
   ]
  },
  {
   "cell_type": "code",
   "execution_count": null,
   "metadata": {},
   "outputs": [],
   "source": [
    "# YOUR CODE HERE\n",
    "class ImageClassifierNetwork(nn.Module):\n",
    "    def __init__(self):\n",
    "        super().__init__()\n",
    "        self.conv1 = nn.Conv2d(in_channels=3, out_channels=64, kernel_size=3,padding=1)\n",
    "        self.conv2 = nn.Conv2d(in_channels=64, out_channels=64, kernel_size=3,padding=1)\n",
    "        #\n",
    "        self.conv3 = nn.Conv2d(in_channels=64, out_channels=128, kernel_size=3,padding=1)\n",
    "        self.conv4 = nn.Conv2d(in_channels=128, out_channels=128, kernel_size=3,padding=1)\n",
    "        #\n",
    "        self.conv5 = nn.Conv2d(in_channels=128, out_channels=128, kernel_size=3,padding=1)\n",
    "        self.conv6 = nn.Conv2d(in_channels=128, out_channels=128, kernel_size=3,padding=1)\n",
    "        self.conv7 = nn.Conv2d(in_channels=128, out_channels=128, kernel_size=3,padding=1)\n",
    "        \n",
    "        \n",
    "#         self.conv8 = nn.Conv2d(in_channels=256, out_channels=512, kernel_size=3,padding=1)\n",
    "#         self.conv9 = nn.Conv2d(in_channels=512, out_channels=512, kernel_size=3,padding=1)\n",
    "#         self.conv10 = nn.Conv2d(in_channels=512, out_channels=512, kernel_size=3,padding=1)\n",
    "        \n",
    "#         self.conv11 = nn.Conv2d(in_channels=256, out_channels=256, kernel_size=3,padding=1)\n",
    "     #   self.conv10_drop = nn.Dropout2d()\n",
    "    \n",
    "        self.fc1 = nn.Linear(8*8*128, 150)\n",
    "        self.fc2 = nn.Linear(150, 2)\n",
    "#         self.fc3 = nn.Linear(150, 2)\n",
    "        \n",
    "    def forward(self, x):\n",
    "        x = F.relu(self.conv1(x))\n",
    "        x = F.relu(self.conv2(x))\n",
    "        x = F.max_pool2d(x, kernel_size=2) #56   #32\n",
    "              \n",
    "        x = F.relu(self.conv3(x))\n",
    "        x = F.relu(self.conv4(x))\n",
    "        x = F.max_pool2d(x, kernel_size=2) #28   #16\n",
    "        \n",
    "        x = F.relu(self.conv5(x))\n",
    "        x = F.relu(self.conv6(x))\n",
    "        x = F.relu(self.conv7(x))     \n",
    "        x = F.max_pool2d(x, kernel_size=2) #14   #8\n",
    "        \n",
    "#         x = F.relu(self.conv11(x)) \n",
    "#         x = F.max_pool2d(x, kernel_size=2) #14   #4\n",
    "        \n",
    "#         x = F.relu(self.conv8(x))\n",
    "#         x = F.relu(self.conv9(x))\n",
    "#         x = F.relu(self.conv10(x)) \n",
    "#         x = F.relu(self.conv10_drop(x))\n",
    "#         x = F.max_pool2d(x, kernel_size=2) #4    #[14x14x512] if i=224x224    7x7x512 if i=112\n",
    "        \n",
    "   #     x = F.relu(self.conv11(x))\n",
    "   #     x = F.max_pool2d(x, kernel_size=2) #[7x7x512]\n",
    "        \n",
    "        \n",
    "        \n",
    "        \n",
    "        x = x.view(-1, 8*8*128)\n",
    "        x = F.relu(self.fc1(x))\n",
    "#         x = F.relu(self.fc2(x))\n",
    "       # x = F.dropout(x, training=self.training)\n",
    "        x = self.fc2(x)\n",
    "     #   return F.softmax(x, dim=1)\n",
    "        return x\n",
    "    \n",
    "    \n",
    "# Epoch 0 \tLoss: 0.704 \tLoss (val): 0.693\tAccuracy: 0.50 \tAccuracy (val): 0.50\n",
    "# Epoch 1 \tLoss: 0.693 \tLoss (val): 0.693\tAccuracy: 0.50 \tAccuracy (val): 0.50\n",
    "# Epoch 2 \tLoss: 0.691 \tLoss (val): 0.749\tAccuracy: 0.53 \tAccuracy (val): 0.50\n",
    "# Epoch 3 \tLoss: 0.678 \tLoss (val): 0.672\tAccuracy: 0.57 \tAccuracy (val): 0.61\n",
    "# Epoch 4 \tLoss: 0.658 \tLoss (val): 0.689\tAccuracy: 0.61 \tAccuracy (val): 0.57\n",
    "# Epoch 5 \tLoss: 0.637 \tLoss (val): 0.667\tAccuracy: 0.64 \tAccuracy (val): 0.59\n",
    "# Epoch 6 \tLoss: 0.617 \tLoss (val): 0.654\tAccuracy: 0.66 \tAccuracy (val): 0.60\n",
    "# Epoch 7 \tLoss: 0.608 \tLoss (val): 0.652\tAccuracy: 0.68 \tAccuracy (val): 0.63\n",
    "# Epoch 8 \tLoss: 0.581 \tLoss (val): 0.690\tAccuracy: 0.69 \tAccuracy (val): 0.63\n",
    "# Epoch 9 \tLoss: 0.581 \tLoss (val): 0.668\tAccuracy: 0.69 \tAccuracy (val): 0.64\n",
    "# Epoch 10 \tLoss: 0.582 \tLoss (val): 0.615\tAccuracy: 0.69 \tAccuracy (val): 0.66\n",
    "# Epoch 11 \tLoss: 0.548 \tLoss (val): 0.596\tAccuracy: 0.72 \tAccuracy (val): 0.67\n",
    "# Epoch 12 \tLoss: 0.519 \tLoss (val): 0.589\tAccuracy: 0.75 \tAccuracy (val): 0.69\n",
    "# Epoch 13 \tLoss: 0.504 \tLoss (val): 0.594\tAccuracy: 0.76 \tAccuracy (val): 0.69\n",
    "# Epoch 14 \tLoss: 0.493 \tLoss (val): 0.549\tAccuracy: 0.77 \tAccuracy (val): 0.72\n",
    "# Epoch 15 \tLoss: 0.475 \tLoss (val): 0.561\tAccuracy: 0.77 \tAccuracy (val): 0.72\n",
    "# Epoch 16 \tLoss: 0.432 \tLoss (val): 0.564\tAccuracy: 0.80 \tAccuracy (val): 0.74\n",
    "# Epoch 17 \tLoss: 0.418 \tLoss (val): 0.614\tAccuracy: 0.80 \tAccuracy (val): 0.70\n",
    "# Epoch 18 \tLoss: 0.385 \tLoss (val): 0.667\tAccuracy: 0.82 \tAccuracy (val): 0.66\n",
    "# Epoch 19 \tLoss: 0.370 \tLoss (val): 0.618\tAccuracy: 0.83 \tAccuracy (val): 0.75\n",
    "# Epoch 20 \tLoss: 0.324 \tLoss (val): 0.665\tAccuracy: 0.86 \tAccuracy (val): 0.72\n",
    "# Epoch 21 \tLoss: 0.284 \tLoss (val): 0.739\tAccuracy: 0.88 \tAccuracy (val): 0.73\n",
    "# Epoch 22 \tLoss: 0.232 \tLoss (val): 0.741\tAccuracy: 0.90 \tAccuracy (val): 0.75\n",
    "# Epoch 23 \tLoss: 0.171 \tLoss (val): 0.872\tAccuracy: 0.93 \tAccuracy (val): 0.74\n",
    "# Epoch 24 \tLoss: 0.192 \tLoss (val): 0.982\tAccuracy: 0.93 \tAccuracy (val): 0.67\n",
    "# Epoch 25 \tLoss: 0.146 \tLoss (val): 0.988\tAccuracy: 0.95 \tAccuracy (val): 0.75\n",
    "# Epoch 26 \tLoss: 0.089 \tLoss (val): 1.107\tAccuracy: 0.97 \tAccuracy (val): 0.75\n",
    "# Epoch 27 \tLoss: 0.152 \tLoss (val): 0.850\tAccuracy: 0.94 \tAccuracy (val): 0.75\n",
    "# Epoch 28 \tLoss: 0.083 \tLoss (val): 1.227\tAccuracy: 0.97 \tAccuracy (val): 0.73\n",
    "# Epoch 29 \tLoss: 0.066 \tLoss (val): 1.340\tAccuracy: 0.98 \tAccuracy (val): 0.74\n",
    "# Epoch 30 \tLoss: 0.064 \tLoss (val): 1.118\tAccuracy: 0.97 \tAccuracy (val): 0.74\n",
    "# Epoch 31 \tLoss: 0.080 \tLoss (val): 1.167\tAccuracy: 0.97 \tAccuracy (val): 0.75\n",
    "# Epoch 32 \tLoss: 0.025 \tLoss (val): 1.632\tAccuracy: 0.99 \tAccuracy (val): 0.75\n",
    "# Epoch 33 \tLoss: 0.017 \tLoss (val): 1.905\tAccuracy: 1.00 \tAccuracy (val): 0.74\n",
    "# Epoch 34 \tLoss: 0.012 \tLoss (val): 1.885\tAccuracy: 1.00 \tAccuracy (val): 0.76"
   ]
  },
  {
   "cell_type": "code",
   "execution_count": null,
   "metadata": {},
   "outputs": [],
   "source": [
    "# YOUR CODE HERE\n",
    "class ImageClassifierNetwork(nn.Module):\n",
    "    def __init__(self):\n",
    "        super().__init__()\n",
    "        self.conv1 = nn.Conv2d(in_channels=3, out_channels=64, kernel_size=3,padding=1)\n",
    "        self.conv2 = nn.Conv2d(in_channels=64, out_channels=64, kernel_size=3,padding=1)\n",
    "        #\n",
    "        self.conv3 = nn.Conv2d(in_channels=64, out_channels=128, kernel_size=3,padding=1)\n",
    "        self.conv4 = nn.Conv2d(in_channels=128, out_channels=128, kernel_size=3,padding=1)\n",
    "        #\n",
    "        self.conv5 = nn.Conv2d(in_channels=128, out_channels=256, kernel_size=3,padding=1)\n",
    "        self.conv6 = nn.Conv2d(in_channels=256, out_channels=256, kernel_size=3,padding=1)\n",
    "        self.conv7 = nn.Conv2d(in_channels=256, out_channels=256, kernel_size=3,padding=1)\n",
    "        \n",
    "        \n",
    "#         self.conv8 = nn.Conv2d(in_channels=256, out_channels=512, kernel_size=3,padding=1)\n",
    "#         self.conv9 = nn.Conv2d(in_channels=512, out_channels=512, kernel_size=3,padding=1)\n",
    "#         self.conv10 = nn.Conv2d(in_channels=512, out_channels=512, kernel_size=3,padding=1)\n",
    "        \n",
    "#         self.conv11 = nn.Conv2d(in_channels=256, out_channels=256, kernel_size=3,padding=1)\n",
    "     #   self.conv10_drop = nn.Dropout2d()\n",
    "    \n",
    "        self.fc1 = nn.Linear(8*8*256, 150)\n",
    "        self.fc2 = nn.Linear(150, 2)\n",
    "#         self.fc3 = nn.Linear(150, 2)\n",
    "        \n",
    "    def forward(self, x):\n",
    "        x = F.relu(self.conv1(x))\n",
    "        x = F.relu(self.conv2(x))\n",
    "        x = F.max_pool2d(x, kernel_size=2) #56   #32\n",
    "              \n",
    "        x = F.relu(self.conv3(x))\n",
    "        x = F.relu(self.conv4(x))\n",
    "        x = F.max_pool2d(x, kernel_size=2) #28   #16\n",
    "        \n",
    "        x = F.relu(self.conv5(x))\n",
    "        x = F.relu(self.conv6(x))\n",
    "        x = F.relu(self.conv7(x))     \n",
    "        x = F.max_pool2d(x, kernel_size=2) #14   #8\n",
    "        \n",
    "#         x = F.relu(self.conv11(x)) \n",
    "#         x = F.max_pool2d(x, kernel_size=2) #14   #4\n",
    "        \n",
    "#         x = F.relu(self.conv8(x))\n",
    "#         x = F.relu(self.conv9(x))\n",
    "#         x = F.relu(self.conv10(x)) \n",
    "#         x = F.relu(self.conv10_drop(x))\n",
    "#         x = F.max_pool2d(x, kernel_size=2) #4    #[14x14x512] if i=224x224    7x7x512 if i=112\n",
    "        \n",
    "   #     x = F.relu(self.conv11(x))\n",
    "   #     x = F.max_pool2d(x, kernel_size=2) #[7x7x512]\n",
    "        \n",
    "        \n",
    "        \n",
    "        \n",
    "        x = x.view(-1, 8*8*256)\n",
    "        x = F.relu(self.fc1(x))\n",
    "#         x = F.relu(self.fc2(x))\n",
    "       # x = F.dropout(x, training=self.training)\n",
    "        x = self.fc2(x)\n",
    "     #   return F.softmax(x, dim=1)\n",
    "        return x"
   ]
  },
  {
   "cell_type": "code",
   "execution_count": null,
   "metadata": {},
   "outputs": [],
   "source": [
    "# YOUR CODE HERE\n",
    "class ImageClassifierNetwork(nn.Module):\n",
    "    def __init__(self):\n",
    "        super().__init__()\n",
    "        self.conv1 = nn.Conv2d(in_channels=3, out_channels=64, kernel_size=3,padding=1)\n",
    "        self.conv2 = nn.Conv2d(in_channels=64, out_channels=64, kernel_size=3,padding=1)\n",
    "        #\n",
    "        self.conv3 = nn.Conv2d(in_channels=64, out_channels=128, kernel_size=3,padding=1)\n",
    "        self.conv4 = nn.Conv2d(in_channels=128, out_channels=128, kernel_size=3,padding=1)\n",
    "        #\n",
    "        self.conv5 = nn.Conv2d(in_channels=128, out_channels=256, kernel_size=3,padding=1)\n",
    "        self.conv6 = nn.Conv2d(in_channels=256, out_channels=256, kernel_size=3,padding=1)\n",
    "        self.conv7 = nn.Conv2d(in_channels=256, out_channels=256, kernel_size=3,padding=1)\n",
    "        \n",
    "        \n",
    "        self.conv8 = nn.Conv2d(in_channels=256, out_channels=512, kernel_size=3,padding=1)\n",
    "        self.conv9 = nn.Conv2d(in_channels=512, out_channels=512, kernel_size=3,padding=1)\n",
    "        self.conv10 = nn.Conv2d(in_channels=512, out_channels=512, kernel_size=3,padding=1)\n",
    "        \n",
    "#         self.conv11 = nn.Conv2d(in_channels=512, out_channels=512, kernel_size=3,padding=1)\n",
    "        self.conv10_drop = nn.Dropout2d()\n",
    "    \n",
    "        self.fc1 = nn.Linear(4*4*512, 150)\n",
    "        self.fc2 = nn.Linear(150, 150)\n",
    "        self.fc3 = nn.Linear(150, 2)\n",
    "        \n",
    "    def forward(self, x):\n",
    "        x = F.relu(self.conv1(x))\n",
    "        x = F.relu(self.conv2(x))\n",
    "        x = F.max_pool2d(x, kernel_size=2) #56   #32\n",
    "              \n",
    "        x = F.relu(self.conv3(x))\n",
    "        x = F.relu(self.conv4(x))\n",
    "        x = F.max_pool2d(x, kernel_size=2) #28   #16\n",
    "        \n",
    "        x = F.relu(self.conv5(x))\n",
    "        x = F.relu(self.conv6(x))\n",
    "        x = F.relu(self.conv7(x))     \n",
    "        x = F.max_pool2d(x, kernel_size=2) #14   #8\n",
    "        \n",
    "        \n",
    "        x = F.relu(self.conv8(x))\n",
    "        x = F.relu(self.conv9(x))\n",
    "        x = F.relu(self.conv10(x)) \n",
    "        x = F.relu(self.conv10_drop(x))\n",
    "        x = F.max_pool2d(x, kernel_size=2) #4    #[14x14x512] if i=224x224    7x7x512 if i=112\n",
    "        \n",
    "   #     x = F.relu(self.conv11(x))\n",
    "   #     x = F.max_pool2d(x, kernel_size=2) #[7x7x512]\n",
    "        \n",
    "        x = x.view(-1, 4*4*512)\n",
    "        x = F.relu(self.fc1(x))\n",
    "        x = F.relu(self.fc2(x))\n",
    "        x = F.dropout(x, training=self.training)\n",
    "        x = self.fc3(x)\n",
    "     #   return F.softmax(x, dim=1)\n",
    "        return x"
   ]
  },
  {
   "cell_type": "code",
   "execution_count": null,
   "metadata": {},
   "outputs": [],
   "source": [
    "# YOUR CODE HERE\n",
    "class ImageClassifierNetwork(nn.Module):\n",
    "    def __init__(self):\n",
    "        super().__init__()\n",
    "        self.conv1 = nn.Conv2d(in_channels=3, out_channels=64, kernel_size=3,padding=1)\n",
    "        self.conv2 = nn.Conv2d(in_channels=64, out_channels=64, kernel_size=3,padding=1)\n",
    "        \n",
    "        self.conv3 = nn.Conv2d(in_channels=64, out_channels=128, kernel_size=3,padding=1)\n",
    "        self.conv4 = nn.Conv2d(in_channels=128, out_channels=128, kernel_size=3,padding=1)\n",
    "        \n",
    "        self.conv5 = nn.Conv2d(in_channels=128, out_channels=256, kernel_size=3,padding=1)\n",
    "        self.conv6 = nn.Conv2d(in_channels=256, out_channels=256, kernel_size=3,padding=1)\n",
    "        self.conv7 = nn.Conv2d(in_channels=256, out_channels=256, kernel_size=3,padding=1)\n",
    "        \n",
    "        \n",
    "        self.conv8 = nn.Conv2d(in_channels=256, out_channels=512, kernel_size=3,padding=1)\n",
    "        self.conv9 = nn.Conv2d(in_channels=512, out_channels=512, kernel_size=3,padding=1)\n",
    "        self.conv10 = nn.Conv2d(in_channels=512, out_channels=512, kernel_size=3,padding=1)\n",
    "        \n",
    "     #   self.conv11 = nn.Conv2d(in_channels=512, out_channels=512, kernel_size=3,padding=1)\n",
    "        \n",
    "        self.fc1 = nn.Linear(4*4*512, 150)\n",
    "        self.fc2 = nn.Linear(150, 2)\n",
    "       # self.fc3 = nn.Linear(500, 2)\n",
    "        \n",
    "    def forward(self, x):\n",
    "        x = F.relu(self.conv1(x))\n",
    "        x = F.relu(self.conv2(x))\n",
    "        x = F.max_pool2d(x, kernel_size=2)  #32\n",
    "              \n",
    "        x = F.relu(self.conv3(x))\n",
    "        x = F.relu(self.conv4(x))\n",
    "        x = F.max_pool2d(x, kernel_size=2)  #16\n",
    "        \n",
    "        x = F.relu(self.conv5(x))\n",
    "        x = F.relu(self.conv6(x))\n",
    "        x = F.relu(self.conv7(x))     \n",
    "        x = F.max_pool2d(x, kernel_size=2)  #8\n",
    "        \n",
    "        \n",
    "        x = F.relu(self.conv8(x))\n",
    "        x = F.relu(self.conv9(x))\n",
    "        x = F.relu(self.conv10(x))     \n",
    "        x = F.max_pool2d(x, kernel_size=2)  #4  #[14x14x512] if i=224x224    7x7x512 if i=112\n",
    "        \n",
    "   #     x = F.relu(self.conv11(x))\n",
    "   #     x = F.max_pool2d(x, kernel_size=2) #[7x7x512]\n",
    "        \n",
    "        x = x.view(-1, 4*4*512)\n",
    "        x = F.relu(self.fc1(x))\n",
    "      #  x = F.relu(self.fc2(x))\n",
    "        x = self.fc2(x)\n",
    "     #   return F.softmax(x, dim=1)\n",
    "        return x\n",
    "    \n",
    "# Epoch 0 \tLoss: 0.696 \tLoss (val): 0.693\tAccuracy: 0.50 \tAccuracy (val): 0.50\n",
    "# Epoch 1 \tLoss: 0.693 \tLoss (val): 0.693\tAccuracy: 0.50 \tAccuracy (val): 0.50\n",
    "# Epoch 2 \tLoss: 0.693 \tLoss (val): 0.693\tAccuracy: 0.50 \tAccuracy (val): 0.50\n",
    "# Epoch 3 \tLoss: 0.690 \tLoss (val): 0.693\tAccuracy: 0.55 \tAccuracy (val): 0.50\n",
    "# Epoch 4 \tLoss: 0.691 \tLoss (val): 0.694\tAccuracy: 0.53 \tAccuracy (val): 0.53\n",
    "# Epoch 5 \tLoss: 0.686 \tLoss (val): 0.776\tAccuracy: 0.55 \tAccuracy (val): 0.54\n",
    "# Epoch 6 \tLoss: 0.686 \tLoss (val): 0.692\tAccuracy: 0.56 \tAccuracy (val): 0.51\n",
    "# Epoch 7 \tLoss: 0.685 \tLoss (val): 0.758\tAccuracy: 0.55 \tAccuracy (val): 0.53\n",
    "# Epoch 8 \tLoss: 0.679 \tLoss (val): 0.669\tAccuracy: 0.59 \tAccuracy (val): 0.59\n",
    "# Epoch 9 \tLoss: 0.639 \tLoss (val): 0.659\tAccuracy: 0.64 \tAccuracy (val): 0.60\n",
    "# Epoch 10 \tLoss: 0.630 \tLoss (val): 0.661\tAccuracy: 0.65 \tAccuracy (val): 0.61\n",
    "# Epoch 11 \tLoss: 0.603 \tLoss (val): 0.662\tAccuracy: 0.67 \tAccuracy (val): 0.64\n",
    "# Epoch 12 \tLoss: 0.584 \tLoss (val): 0.637\tAccuracy: 0.70 \tAccuracy (val): 0.65\n",
    "# Epoch 13 \tLoss: 0.572 \tLoss (val): 0.625\tAccuracy: 0.71 \tAccuracy (val): 0.67\n",
    "# Epoch 14 \tLoss: 0.558 \tLoss (val): 0.612\tAccuracy: 0.73 \tAccuracy (val): 0.66\n",
    "# Epoch 15 \tLoss: 0.528 \tLoss (val): 0.577\tAccuracy: 0.73 \tAccuracy (val): 0.72\n",
    "# Epoch 16 \tLoss: 0.541 \tLoss (val): 0.596\tAccuracy: 0.74 \tAccuracy (val): 0.68\n",
    "# Epoch 17 \tLoss: 0.501 \tLoss (val): 0.575\tAccuracy: 0.76 \tAccuracy (val): 0.72\n",
    "# Epoch 18 \tLoss: 0.467 \tLoss (val): 0.576\tAccuracy: 0.78 \tAccuracy (val): 0.71\n",
    "# Epoch 19 \tLoss: 0.468 \tLoss (val): 0.649\tAccuracy: 0.78 \tAccuracy (val): 0.71\n",
    "# Epoch 20 \tLoss: 0.431 \tLoss (val): 0.554\tAccuracy: 0.80 \tAccuracy (val): 0.73\n",
    "# Epoch 21 \tLoss: 0.425 \tLoss (val): 0.573\tAccuracy: 0.80 \tAccuracy (val): 0.70\n",
    "# Epoch 22 \tLoss: 0.373 \tLoss (val): 0.588\tAccuracy: 0.84 \tAccuracy (val): 0.72\n",
    "# Epoch 23 \tLoss: 0.323 \tLoss (val): 0.618\tAccuracy: 0.85 \tAccuracy (val): 0.75\n",
    "# Epoch 24 \tLoss: 0.288 \tLoss (val): 0.608\tAccuracy: 0.88 \tAccuracy (val): 0.73\n",
    "# Epoch 25 \tLoss: 0.260 \tLoss (val): 0.753\tAccuracy: 0.89 \tAccuracy (val): 0.74\n",
    "# Epoch 26 \tLoss: 0.211 \tLoss (val): 0.734\tAccuracy: 0.92 \tAccuracy (val): 0.73\n",
    "# Epoch 27 \tLoss: 0.184 \tLoss (val): 0.650\tAccuracy: 0.93 \tAccuracy (val): 0.75\n",
    "# Epoch 28 \tLoss: 0.164 \tLoss (val): 0.923\tAccuracy: 0.94 \tAccuracy (val): 0.75\n",
    "# Epoch 29 \tLoss: 0.136 \tLoss (val): 1.010\tAccuracy: 0.95 \tAccuracy (val): 0.73\n",
    "# Epoch 30 \tLoss: 0.149 \tLoss (val): 0.742\tAccuracy: 0.94 \tAccuracy (val): 0.75\n",
    "# Epoch 31 \tLoss: 0.122 \tLoss (val): 1.006\tAccuracy: 0.95 \tAccuracy (val): 0.74\n",
    "# Epoch 32 \tLoss: 0.068 \tLoss (val): 1.126\tAccuracy: 0.98 \tAccuracy (val): 0.75\n",
    "# Epoch 33 \tLoss: 0.057 \tLoss (val): 1.240\tAccuracy: 0.98 \tAccuracy (val): 0.74\n",
    "# Epoch 34 \tLoss: 0.074 \tLoss (val): 1.240\tAccuracy: 0.97 \tAccuracy (val): 0.74"
   ]
  },
  {
   "cell_type": "code",
   "execution_count": null,
   "metadata": {
    "deletable": false,
    "nbgrader": {
     "cell_type": "code",
     "checksum": "01447485bf51fbce22145e60e0fb8c93",
     "grade": true,
     "grade_id": "cell-6edb7d7e343ab14b",
     "locked": false,
     "points": 1,
     "schema_version": 3,
     "solution": true
    }
   },
   "outputs": [],
   "source": [
    "# YOUR CODE HERE\n",
    "class ImageClassifierNetwork(nn.Module):\n",
    "    def __init__(self):\n",
    "        super().__init__()\n",
    "        self.conv1 = nn.Conv2d(in_channels=3, out_channels=20, kernel_size=5)\n",
    "        self.conv2 = nn.Conv2d(in_channels=20, out_channels=50, kernel_size=5)\n",
    "        self.conv3 = nn.Conv2d(in_channels=50, out_channels=120, kernel_size=3)\n",
    "        self.conv4 = nn.Conv2d(in_channels=120, out_channels=120, kernel_size=3)\n",
    "        self.conv5 = nn.Conv2d(in_channels=120, out_channels=100, kernel_size=3)\n",
    "        self.fc1 = nn.Linear(4*4*100, 150)\n",
    "        self.fc2 = nn.Linear(150, 2)\n",
    "       # self.fc3 = nn.Linear(500, 2)\n",
    "        \n",
    "    def forward(self, x):\n",
    "        x = F.relu(self.conv1(x))\n",
    "        x = F.max_pool2d(x, kernel_size=2)\n",
    "        x = F.relu(self.conv2(x))\n",
    "        x = F.max_pool2d(x, kernel_size=2)\n",
    "        x = F.relu(self.conv3(x))\n",
    "        x = F.relu(self.conv4(x))\n",
    "        x = F.relu(self.conv5(x))\n",
    "        x = F.max_pool2d(x, kernel_size=2)\n",
    "        x = x.view(-1, 4*4*100)\n",
    "        x = F.relu(self.fc1(x))\n",
    "      #  x = F.relu(self.fc2(x))\n",
    "        x = self.fc2(x)\n",
    "        return F.softmax(x, dim=1)\n",
    "        #return x"
   ]
  },
  {
   "cell_type": "markdown",
   "metadata": {
    "deletable": false,
    "editable": false,
    "nbgrader": {
     "cell_type": "markdown",
     "checksum": "ba6a43ffd69fce436811d9311aedcede",
     "grade": false,
     "grade_id": "cell-d033937b5a8b9875",
     "locked": true,
     "schema_version": 3,
     "solution": false
    }
   },
   "source": [
    "Create two plots. In one of them, plot the loss in the training and the validation datasets. In the other one, plot the accuracy in the training and validation datasets."
   ]
  },
  {
   "cell_type": "code",
   "execution_count": null,
   "metadata": {
    "deletable": false,
    "nbgrader": {
     "cell_type": "code",
     "checksum": "88f944698dc9dc353e1933fe16b6de87",
     "grade": true,
     "grade_id": "cell-3df999674672de47",
     "locked": false,
     "points": 0,
     "schema_version": 3,
     "solution": true
    }
   },
   "outputs": [],
   "source": [
    "# YOUR CODE HERE"
   ]
  },
  {
   "cell_type": "markdown",
   "metadata": {
    "deletable": false,
    "editable": false,
    "nbgrader": {
     "cell_type": "markdown",
     "checksum": "79d9c109d0360f12011edaf01804bb44",
     "grade": false,
     "grade_id": "cell-a827c39d9e652e52",
     "locked": true,
     "schema_version": 3,
     "solution": false,
     "task": false
    }
   },
   "source": [
    "**(2 POE)** Did your results improve? What problems did your improvements fix? Explain why, or why not. "
   ]
  },
  {
   "cell_type": "markdown",
   "metadata": {
    "deletable": false,
    "nbgrader": {
     "cell_type": "markdown",
     "checksum": "951f6d4450c82df3800e38edd678a422",
     "grade": true,
     "grade_id": "cell-cbda4b585ad39ddc",
     "locked": false,
     "points": 2,
     "schema_version": 3,
     "solution": true,
     "task": false
    }
   },
   "source": [
    "**Your answer:** (fill in here)"
   ]
  },
  {
   "cell_type": "markdown",
   "metadata": {
    "deletable": false,
    "editable": false,
    "nbgrader": {
     "cell_type": "markdown",
     "checksum": "c06074522725240265e2182d83fda4e2",
     "grade": false,
     "grade_id": "cell-c67bcc4fbec1808e",
     "locked": true,
     "schema_version": 3,
     "solution": false
    }
   },
   "source": [
    "[Save your model](https://pytorch.org/tutorials/beginner/saving_loading_models.html) to disk (the architecture, weights and optimizer state). This is simply so you can use it again easily in the later parts of the notebook, without having to keep it in memory or re-training it. The actual file you create is not relevant to your submission. The code to save the model is given in the cell below. "
   ]
  },
  {
   "cell_type": "code",
   "execution_count": null,
   "metadata": {},
   "outputs": [],
   "source": [
    "# Assuming that you called your model \"my_model\"\n",
    "torch.save(model.state_dict(), \"my_model\")"
   ]
  },
  {
   "cell_type": "markdown",
   "metadata": {
    "deletable": false,
    "editable": false,
    "nbgrader": {
     "cell_type": "markdown",
     "checksum": "ceb570afa39d746b3b5f132ecb5bc72e",
     "grade": false,
     "grade_id": "cell-25f9cc8d17491d0d",
     "locked": true,
     "schema_version": 3,
     "solution": false
    }
   },
   "source": [
    "---\n",
    "## 4. Transfer Learning"
   ]
  },
  {
   "cell_type": "markdown",
   "metadata": {
    "deletable": false,
    "editable": false,
    "nbgrader": {
     "cell_type": "markdown",
     "checksum": "209c5d113dd1805f4e44dbebc1192473",
     "grade": false,
     "grade_id": "cell-cf9b347fc3ee9255",
     "locked": true,
     "schema_version": 3,
     "solution": false
    }
   },
   "source": [
    "**From now, training on CPU will not be feasible. If your computer has a GPU, try it out! Otherwise, now is the time to connect to your cloud instance**\n",
    "\n",
    "Now, instead of trying to come up with a good architecture for this task, we'll use the VGG16 architecture, but with the top layers removed (the fully connected layers + softmax). We'll substitute them with a single fully connected layer, and a classification layer that makes sense for our problem.\n",
    "\n",
    "However, this model has a very high capacity, and will probably suffer a lot from overfitting if we try to train it from scratch, using only our small subset of data. Instead, we'll start the optimization with the weights obtained after training VGG16 on the ImageNet dataset.\n",
    "\n",
    "Start by loading the *pretrained* VGG16 model, from the [torchvision.models](https://pytorch.org/docs/stable/torchvision/models.html)."
   ]
  },
  {
   "cell_type": "code",
   "execution_count": 21,
   "metadata": {
    "deletable": false,
    "nbgrader": {
     "cell_type": "code",
     "checksum": "984428d972274a469334141d07c8666a",
     "grade": true,
     "grade_id": "cell-01ebc4c9c306b985",
     "locked": false,
     "points": 0,
     "schema_version": 3,
     "solution": true
    }
   },
   "outputs": [
    {
     "name": "stderr",
     "output_type": "stream",
     "text": [
      "Downloading: \"https://download.pytorch.org/models/vgg16-397923af.pth\" to C:\\Users\\Mohammad/.cache\\torch\\checkpoints\\vgg16-397923af.pth\n",
      "100%|████████████████████████████████████████████████████████████████████████████████| 528M/528M [10:54<00:00, 845kB/s]\n"
     ]
    }
   ],
   "source": [
    "# YOUR CODE HERE\n",
    "import torchvision.models as models\n",
    "vgg_model = models.vgg16(pretrained=True)"
   ]
  },
  {
   "cell_type": "markdown",
   "metadata": {
    "deletable": false,
    "editable": false,
    "nbgrader": {
     "cell_type": "markdown",
     "checksum": "f04d97f938d6f944741d657a0350e9da",
     "grade": false,
     "grade_id": "cell-faed8047ef25a60d",
     "locked": true,
     "schema_version": 3,
     "solution": false
    }
   },
   "source": [
    "Create a new model with the layers you want to add on top of VGG.\n",
    "\n",
    "*Hint:*\n",
    "- You can access and modify the top layers of the VGG model with `vgg_model.classifier`, and the remaining layers with `vgg_model.features`.\n",
    "- You can get the number of output features of `vgg_model.features` with `vgg_model.classifier[0].in_features`"
   ]
  },
  {
   "cell_type": "code",
   "execution_count": 22,
   "metadata": {
    "deletable": false,
    "nbgrader": {
     "cell_type": "code",
     "checksum": "62829c2400b8ae993b346dd1a4ca68c0",
     "grade": true,
     "grade_id": "cell-56cb37360051a638",
     "locked": false,
     "points": 0,
     "schema_version": 3,
     "solution": true
    }
   },
   "outputs": [
    {
     "name": "stdout",
     "output_type": "stream",
     "text": [
      "Sequential(\n",
      "  (0): Linear(in_features=25088, out_features=4096, bias=True)\n",
      "  (1): ReLU(inplace=True)\n",
      "  (2): Dropout(p=0.5, inplace=False)\n",
      "  (3): Linear(in_features=4096, out_features=4096, bias=True)\n",
      "  (4): ReLU(inplace=True)\n",
      "  (5): Dropout(p=0.5, inplace=False)\n",
      "  (6): Linear(in_features=4096, out_features=1000, bias=True)\n",
      ")\n",
      "2\n",
      "Sequential(\n",
      "  (0): Conv2d(3, 64, kernel_size=(3, 3), stride=(1, 1), padding=(1, 1))\n",
      "  (1): ReLU(inplace=True)\n",
      "  (2): Conv2d(64, 64, kernel_size=(3, 3), stride=(1, 1), padding=(1, 1))\n",
      "  (3): ReLU(inplace=True)\n",
      "  (4): MaxPool2d(kernel_size=2, stride=2, padding=0, dilation=1, ceil_mode=False)\n",
      "  (5): Conv2d(64, 128, kernel_size=(3, 3), stride=(1, 1), padding=(1, 1))\n",
      "  (6): ReLU(inplace=True)\n",
      "  (7): Conv2d(128, 128, kernel_size=(3, 3), stride=(1, 1), padding=(1, 1))\n",
      "  (8): ReLU(inplace=True)\n",
      "  (9): MaxPool2d(kernel_size=2, stride=2, padding=0, dilation=1, ceil_mode=False)\n",
      "  (10): Conv2d(128, 256, kernel_size=(3, 3), stride=(1, 1), padding=(1, 1))\n",
      "  (11): ReLU(inplace=True)\n",
      "  (12): Conv2d(256, 256, kernel_size=(3, 3), stride=(1, 1), padding=(1, 1))\n",
      "  (13): ReLU(inplace=True)\n",
      "  (14): Conv2d(256, 256, kernel_size=(3, 3), stride=(1, 1), padding=(1, 1))\n",
      "  (15): ReLU(inplace=True)\n",
      "  (16): MaxPool2d(kernel_size=2, stride=2, padding=0, dilation=1, ceil_mode=False)\n",
      "  (17): Conv2d(256, 512, kernel_size=(3, 3), stride=(1, 1), padding=(1, 1))\n",
      "  (18): ReLU(inplace=True)\n",
      "  (19): Conv2d(512, 512, kernel_size=(3, 3), stride=(1, 1), padding=(1, 1))\n",
      "  (20): ReLU(inplace=True)\n",
      "  (21): Conv2d(512, 512, kernel_size=(3, 3), stride=(1, 1), padding=(1, 1))\n",
      "  (22): ReLU(inplace=True)\n",
      "  (23): MaxPool2d(kernel_size=2, stride=2, padding=0, dilation=1, ceil_mode=False)\n",
      "  (24): Conv2d(512, 512, kernel_size=(3, 3), stride=(1, 1), padding=(1, 1))\n",
      "  (25): ReLU(inplace=True)\n",
      "  (26): Conv2d(512, 512, kernel_size=(3, 3), stride=(1, 1), padding=(1, 1))\n",
      "  (27): ReLU(inplace=True)\n",
      "  (28): Conv2d(512, 512, kernel_size=(3, 3), stride=(1, 1), padding=(1, 1))\n",
      "  (29): ReLU(inplace=True)\n",
      "  (30): MaxPool2d(kernel_size=2, stride=2, padding=0, dilation=1, ceil_mode=False)\n",
      ")\n",
      "4096\n",
      "0.5\n"
     ]
    }
   ],
   "source": [
    "# YOUR CODE HERE\n",
    "print(vgg_model.classifier)\n",
    "print(vgg_model.features[23].kernel_size)\n",
    "print(vgg_model.features)\n",
    "print(vgg_model.classifier[6].in_features)\n",
    "print(vgg_model.classifier[5].p)"
   ]
  },
  {
   "cell_type": "markdown",
   "metadata": {
    "deletable": false,
    "editable": false,
    "nbgrader": {
     "cell_type": "markdown",
     "checksum": "4e10f4a98f6a80e4e74c0d5bf18dbc5f",
     "grade": false,
     "grade_id": "cell-d746f9eb61e3ea44",
     "locked": true,
     "schema_version": 3,
     "solution": false
    }
   },
   "source": [
    "Now add the new model on top of VGG."
   ]
  },
  {
   "cell_type": "code",
   "execution_count": 23,
   "metadata": {
    "deletable": false,
    "nbgrader": {
     "cell_type": "code",
     "checksum": "642f3cbea497868385adff16643091c4",
     "grade": true,
     "grade_id": "cell-76e4aad7fbcf5d05",
     "locked": false,
     "points": 0,
     "schema_version": 3,
     "solution": true
    }
   },
   "outputs": [
    {
     "name": "stdout",
     "output_type": "stream",
     "text": [
      "Sequential(\n",
      "  (0): Conv2d(3, 64, kernel_size=(3, 3), stride=(1, 1), padding=(1, 1))\n",
      "  (1): ReLU(inplace=True)\n",
      "  (2): Conv2d(64, 64, kernel_size=(3, 3), stride=(1, 1), padding=(1, 1))\n",
      "  (3): ReLU(inplace=True)\n",
      "  (4): MaxPool2d(kernel_size=2, stride=2, padding=0, dilation=1, ceil_mode=False)\n",
      "  (5): Conv2d(64, 128, kernel_size=(3, 3), stride=(1, 1), padding=(1, 1))\n",
      "  (6): ReLU(inplace=True)\n",
      "  (7): Conv2d(128, 128, kernel_size=(3, 3), stride=(1, 1), padding=(1, 1))\n",
      "  (8): ReLU(inplace=True)\n",
      "  (9): MaxPool2d(kernel_size=2, stride=2, padding=0, dilation=1, ceil_mode=False)\n",
      "  (10): Conv2d(128, 256, kernel_size=(3, 3), stride=(1, 1), padding=(1, 1))\n",
      "  (11): ReLU(inplace=True)\n",
      "  (12): Conv2d(256, 256, kernel_size=(3, 3), stride=(1, 1), padding=(1, 1))\n",
      "  (13): ReLU(inplace=True)\n",
      "  (14): Conv2d(256, 256, kernel_size=(3, 3), stride=(1, 1), padding=(1, 1))\n",
      "  (15): ReLU(inplace=True)\n",
      "  (16): MaxPool2d(kernel_size=2, stride=2, padding=0, dilation=1, ceil_mode=False)\n",
      "  (17): Conv2d(256, 512, kernel_size=(3, 3), stride=(1, 1), padding=(1, 1))\n",
      "  (18): ReLU(inplace=True)\n",
      "  (19): Conv2d(512, 512, kernel_size=(3, 3), stride=(1, 1), padding=(1, 1))\n",
      "  (20): ReLU(inplace=True)\n",
      "  (21): Conv2d(512, 512, kernel_size=(3, 3), stride=(1, 1), padding=(1, 1))\n",
      "  (22): ReLU(inplace=True)\n",
      "  (23): MaxPool2d(kernel_size=2, stride=2, padding=0, dilation=1, ceil_mode=False)\n",
      "  (24): Conv2d(512, 512, kernel_size=(3, 3), stride=(1, 1), padding=(1, 1))\n",
      "  (25): ReLU(inplace=True)\n",
      "  (26): Conv2d(512, 512, kernel_size=(3, 3), stride=(1, 1), padding=(1, 1))\n",
      "  (27): ReLU(inplace=True)\n",
      "  (28): Conv2d(512, 512, kernel_size=(3, 3), stride=(1, 1), padding=(1, 1))\n",
      "  (29): ReLU(inplace=True)\n",
      "  (30): MaxPool2d(kernel_size=2, stride=2, padding=0, dilation=1, ceil_mode=False)\n",
      ")\n"
     ]
    }
   ],
   "source": [
    "# YOUR CODE HERE\n",
    "vgg_model.classifier[6].out_features=2\n",
    "print(vgg_model.features)"
   ]
  },
  {
   "cell_type": "markdown",
   "metadata": {
    "deletable": false,
    "editable": false,
    "nbgrader": {
     "cell_type": "markdown",
     "checksum": "0ff2dfca08a9262327d0ee7d0c58b2bd",
     "grade": false,
     "grade_id": "cell-f76d1a7f6280af0d",
     "locked": true,
     "schema_version": 3,
     "solution": false
    }
   },
   "source": [
    "### 4.1 Using VGG features"
   ]
  },
  {
   "cell_type": "markdown",
   "metadata": {
    "deletable": false,
    "editable": false,
    "nbgrader": {
     "cell_type": "markdown",
     "checksum": "78c524d5ed4e56c277ae5812e83d797d",
     "grade": false,
     "grade_id": "cell-270f8ec140ddfba3",
     "locked": true,
     "schema_version": 3,
     "solution": false
    }
   },
   "source": [
    "Now we're almost ready to train the new model. However, since the top layers of this architecture are being initialized randomly, it's sometimes possible for them to generate large gradients that can wreck the pretraining of the bottom layers. To avoid this, freeze all the VGG layers in your architecture (i.e. signal to the optimizer that these should not be changed during optimization) by setting the attribute `requires_grad` for all parameters `vgg_model.features` to `False`."
   ]
  },
  {
   "cell_type": "code",
   "execution_count": 27,
   "metadata": {
    "deletable": false,
    "nbgrader": {
     "cell_type": "code",
     "checksum": "b460fd8c5e4c535489d896457d6b22e0",
     "grade": true,
     "grade_id": "cell-bfb58ea46c31df0a",
     "locked": false,
     "points": 0,
     "schema_version": 3,
     "solution": true
    }
   },
   "outputs": [],
   "source": [
    "# Freeze bottom\n",
    "# YOUR CODE HERE\n",
    "# Freeze training for all layers\n",
    "for param in vgg_model.features.parameters():\n",
    "    param.require_grad = False"
   ]
  },
  {
   "cell_type": "markdown",
   "metadata": {
    "deletable": false,
    "editable": false,
    "nbgrader": {
     "cell_type": "markdown",
     "checksum": "d306e1a138f63e8c8c5eb90707013c9e",
     "grade": false,
     "grade_id": "cell-b508ede3d760a86b",
     "locked": true,
     "schema_version": 3,
     "solution": false
    }
   },
   "source": [
    "Perform the transfer learning by training the top layers of your model."
   ]
  },
  {
   "cell_type": "code",
   "execution_count": 28,
   "metadata": {
    "deletable": false,
    "nbgrader": {
     "cell_type": "code",
     "checksum": "4f0d719703f2da49ac4b86f4480c5080",
     "grade": true,
     "grade_id": "cell-5a025e60545ca151",
     "locked": false,
     "points": 0,
     "schema_version": 3,
     "solution": true
    }
   },
   "outputs": [
    {
     "ename": "RuntimeError",
     "evalue": "CUDA out of memory. Tried to allocate 1.53 GiB (GPU 0; 4.00 GiB total capacity; 2.13 GiB already allocated; 560.29 MiB free; 250.90 MiB cached)",
     "output_type": "error",
     "traceback": [
      "\u001b[1;31m---------------------------------------------------------------------------\u001b[0m",
      "\u001b[1;31mRuntimeError\u001b[0m                              Traceback (most recent call last)",
      "\u001b[1;32m<ipython-input-28-939e3a6ab776>\u001b[0m in \u001b[0;36m<module>\u001b[1;34m\u001b[0m\n\u001b[0;32m     59\u001b[0m \u001b[1;33m\u001b[0m\u001b[0m\n\u001b[0;32m     60\u001b[0m         \u001b[1;31m# Compute predictions and losses\u001b[0m\u001b[1;33m\u001b[0m\u001b[1;33m\u001b[0m\u001b[1;33m\u001b[0m\u001b[0m\n\u001b[1;32m---> 61\u001b[1;33m         \u001b[0mpred\u001b[0m \u001b[1;33m=\u001b[0m \u001b[0mmodel\u001b[0m\u001b[1;33m(\u001b[0m\u001b[0mb_x\u001b[0m\u001b[1;33m)\u001b[0m\u001b[1;33m\u001b[0m\u001b[1;33m\u001b[0m\u001b[0m\n\u001b[0m\u001b[0;32m     62\u001b[0m         \u001b[0mloss\u001b[0m \u001b[1;33m=\u001b[0m \u001b[0mloss_fn\u001b[0m\u001b[1;33m(\u001b[0m\u001b[0mpred\u001b[0m\u001b[1;33m,\u001b[0m \u001b[0mb_y\u001b[0m\u001b[1;33m)\u001b[0m\u001b[1;33m\u001b[0m\u001b[1;33m\u001b[0m\u001b[0m\n\u001b[0;32m     63\u001b[0m \u001b[1;33m\u001b[0m\u001b[0m\n",
      "\u001b[1;32mf:\\ProgramData\\Anaconda3\\envs\\dml\\lib\\site-packages\\torch\\nn\\modules\\module.py\u001b[0m in \u001b[0;36m__call__\u001b[1;34m(self, *input, **kwargs)\u001b[0m\n\u001b[0;32m    545\u001b[0m             \u001b[0mresult\u001b[0m \u001b[1;33m=\u001b[0m \u001b[0mself\u001b[0m\u001b[1;33m.\u001b[0m\u001b[0m_slow_forward\u001b[0m\u001b[1;33m(\u001b[0m\u001b[1;33m*\u001b[0m\u001b[0minput\u001b[0m\u001b[1;33m,\u001b[0m \u001b[1;33m**\u001b[0m\u001b[0mkwargs\u001b[0m\u001b[1;33m)\u001b[0m\u001b[1;33m\u001b[0m\u001b[1;33m\u001b[0m\u001b[0m\n\u001b[0;32m    546\u001b[0m         \u001b[1;32melse\u001b[0m\u001b[1;33m:\u001b[0m\u001b[1;33m\u001b[0m\u001b[1;33m\u001b[0m\u001b[0m\n\u001b[1;32m--> 547\u001b[1;33m             \u001b[0mresult\u001b[0m \u001b[1;33m=\u001b[0m \u001b[0mself\u001b[0m\u001b[1;33m.\u001b[0m\u001b[0mforward\u001b[0m\u001b[1;33m(\u001b[0m\u001b[1;33m*\u001b[0m\u001b[0minput\u001b[0m\u001b[1;33m,\u001b[0m \u001b[1;33m**\u001b[0m\u001b[0mkwargs\u001b[0m\u001b[1;33m)\u001b[0m\u001b[1;33m\u001b[0m\u001b[1;33m\u001b[0m\u001b[0m\n\u001b[0m\u001b[0;32m    548\u001b[0m         \u001b[1;32mfor\u001b[0m \u001b[0mhook\u001b[0m \u001b[1;32min\u001b[0m \u001b[0mself\u001b[0m\u001b[1;33m.\u001b[0m\u001b[0m_forward_hooks\u001b[0m\u001b[1;33m.\u001b[0m\u001b[0mvalues\u001b[0m\u001b[1;33m(\u001b[0m\u001b[1;33m)\u001b[0m\u001b[1;33m:\u001b[0m\u001b[1;33m\u001b[0m\u001b[1;33m\u001b[0m\u001b[0m\n\u001b[0;32m    549\u001b[0m             \u001b[0mhook_result\u001b[0m \u001b[1;33m=\u001b[0m \u001b[0mhook\u001b[0m\u001b[1;33m(\u001b[0m\u001b[0mself\u001b[0m\u001b[1;33m,\u001b[0m \u001b[0minput\u001b[0m\u001b[1;33m,\u001b[0m \u001b[0mresult\u001b[0m\u001b[1;33m)\u001b[0m\u001b[1;33m\u001b[0m\u001b[1;33m\u001b[0m\u001b[0m\n",
      "\u001b[1;32mf:\\ProgramData\\Anaconda3\\envs\\dml\\lib\\site-packages\\torchvision\\models\\vgg.py\u001b[0m in \u001b[0;36mforward\u001b[1;34m(self, x)\u001b[0m\n\u001b[0;32m     41\u001b[0m \u001b[1;33m\u001b[0m\u001b[0m\n\u001b[0;32m     42\u001b[0m     \u001b[1;32mdef\u001b[0m \u001b[0mforward\u001b[0m\u001b[1;33m(\u001b[0m\u001b[0mself\u001b[0m\u001b[1;33m,\u001b[0m \u001b[0mx\u001b[0m\u001b[1;33m)\u001b[0m\u001b[1;33m:\u001b[0m\u001b[1;33m\u001b[0m\u001b[1;33m\u001b[0m\u001b[0m\n\u001b[1;32m---> 43\u001b[1;33m         \u001b[0mx\u001b[0m \u001b[1;33m=\u001b[0m \u001b[0mself\u001b[0m\u001b[1;33m.\u001b[0m\u001b[0mfeatures\u001b[0m\u001b[1;33m(\u001b[0m\u001b[0mx\u001b[0m\u001b[1;33m)\u001b[0m\u001b[1;33m\u001b[0m\u001b[1;33m\u001b[0m\u001b[0m\n\u001b[0m\u001b[0;32m     44\u001b[0m         \u001b[0mx\u001b[0m \u001b[1;33m=\u001b[0m \u001b[0mself\u001b[0m\u001b[1;33m.\u001b[0m\u001b[0mavgpool\u001b[0m\u001b[1;33m(\u001b[0m\u001b[0mx\u001b[0m\u001b[1;33m)\u001b[0m\u001b[1;33m\u001b[0m\u001b[1;33m\u001b[0m\u001b[0m\n\u001b[0;32m     45\u001b[0m         \u001b[0mx\u001b[0m \u001b[1;33m=\u001b[0m \u001b[0mtorch\u001b[0m\u001b[1;33m.\u001b[0m\u001b[0mflatten\u001b[0m\u001b[1;33m(\u001b[0m\u001b[0mx\u001b[0m\u001b[1;33m,\u001b[0m \u001b[1;36m1\u001b[0m\u001b[1;33m)\u001b[0m\u001b[1;33m\u001b[0m\u001b[1;33m\u001b[0m\u001b[0m\n",
      "\u001b[1;32mf:\\ProgramData\\Anaconda3\\envs\\dml\\lib\\site-packages\\torch\\nn\\modules\\module.py\u001b[0m in \u001b[0;36m__call__\u001b[1;34m(self, *input, **kwargs)\u001b[0m\n\u001b[0;32m    545\u001b[0m             \u001b[0mresult\u001b[0m \u001b[1;33m=\u001b[0m \u001b[0mself\u001b[0m\u001b[1;33m.\u001b[0m\u001b[0m_slow_forward\u001b[0m\u001b[1;33m(\u001b[0m\u001b[1;33m*\u001b[0m\u001b[0minput\u001b[0m\u001b[1;33m,\u001b[0m \u001b[1;33m**\u001b[0m\u001b[0mkwargs\u001b[0m\u001b[1;33m)\u001b[0m\u001b[1;33m\u001b[0m\u001b[1;33m\u001b[0m\u001b[0m\n\u001b[0;32m    546\u001b[0m         \u001b[1;32melse\u001b[0m\u001b[1;33m:\u001b[0m\u001b[1;33m\u001b[0m\u001b[1;33m\u001b[0m\u001b[0m\n\u001b[1;32m--> 547\u001b[1;33m             \u001b[0mresult\u001b[0m \u001b[1;33m=\u001b[0m \u001b[0mself\u001b[0m\u001b[1;33m.\u001b[0m\u001b[0mforward\u001b[0m\u001b[1;33m(\u001b[0m\u001b[1;33m*\u001b[0m\u001b[0minput\u001b[0m\u001b[1;33m,\u001b[0m \u001b[1;33m**\u001b[0m\u001b[0mkwargs\u001b[0m\u001b[1;33m)\u001b[0m\u001b[1;33m\u001b[0m\u001b[1;33m\u001b[0m\u001b[0m\n\u001b[0m\u001b[0;32m    548\u001b[0m         \u001b[1;32mfor\u001b[0m \u001b[0mhook\u001b[0m \u001b[1;32min\u001b[0m \u001b[0mself\u001b[0m\u001b[1;33m.\u001b[0m\u001b[0m_forward_hooks\u001b[0m\u001b[1;33m.\u001b[0m\u001b[0mvalues\u001b[0m\u001b[1;33m(\u001b[0m\u001b[1;33m)\u001b[0m\u001b[1;33m:\u001b[0m\u001b[1;33m\u001b[0m\u001b[1;33m\u001b[0m\u001b[0m\n\u001b[0;32m    549\u001b[0m             \u001b[0mhook_result\u001b[0m \u001b[1;33m=\u001b[0m \u001b[0mhook\u001b[0m\u001b[1;33m(\u001b[0m\u001b[0mself\u001b[0m\u001b[1;33m,\u001b[0m \u001b[0minput\u001b[0m\u001b[1;33m,\u001b[0m \u001b[0mresult\u001b[0m\u001b[1;33m)\u001b[0m\u001b[1;33m\u001b[0m\u001b[1;33m\u001b[0m\u001b[0m\n",
      "\u001b[1;32mf:\\ProgramData\\Anaconda3\\envs\\dml\\lib\\site-packages\\torch\\nn\\modules\\container.py\u001b[0m in \u001b[0;36mforward\u001b[1;34m(self, input)\u001b[0m\n\u001b[0;32m     90\u001b[0m     \u001b[1;32mdef\u001b[0m \u001b[0mforward\u001b[0m\u001b[1;33m(\u001b[0m\u001b[0mself\u001b[0m\u001b[1;33m,\u001b[0m \u001b[0minput\u001b[0m\u001b[1;33m)\u001b[0m\u001b[1;33m:\u001b[0m\u001b[1;33m\u001b[0m\u001b[1;33m\u001b[0m\u001b[0m\n\u001b[0;32m     91\u001b[0m         \u001b[1;32mfor\u001b[0m \u001b[0mmodule\u001b[0m \u001b[1;32min\u001b[0m \u001b[0mself\u001b[0m\u001b[1;33m.\u001b[0m\u001b[0m_modules\u001b[0m\u001b[1;33m.\u001b[0m\u001b[0mvalues\u001b[0m\u001b[1;33m(\u001b[0m\u001b[1;33m)\u001b[0m\u001b[1;33m:\u001b[0m\u001b[1;33m\u001b[0m\u001b[1;33m\u001b[0m\u001b[0m\n\u001b[1;32m---> 92\u001b[1;33m             \u001b[0minput\u001b[0m \u001b[1;33m=\u001b[0m \u001b[0mmodule\u001b[0m\u001b[1;33m(\u001b[0m\u001b[0minput\u001b[0m\u001b[1;33m)\u001b[0m\u001b[1;33m\u001b[0m\u001b[1;33m\u001b[0m\u001b[0m\n\u001b[0m\u001b[0;32m     93\u001b[0m         \u001b[1;32mreturn\u001b[0m \u001b[0minput\u001b[0m\u001b[1;33m\u001b[0m\u001b[1;33m\u001b[0m\u001b[0m\n\u001b[0;32m     94\u001b[0m \u001b[1;33m\u001b[0m\u001b[0m\n",
      "\u001b[1;32mf:\\ProgramData\\Anaconda3\\envs\\dml\\lib\\site-packages\\torch\\nn\\modules\\module.py\u001b[0m in \u001b[0;36m__call__\u001b[1;34m(self, *input, **kwargs)\u001b[0m\n\u001b[0;32m    545\u001b[0m             \u001b[0mresult\u001b[0m \u001b[1;33m=\u001b[0m \u001b[0mself\u001b[0m\u001b[1;33m.\u001b[0m\u001b[0m_slow_forward\u001b[0m\u001b[1;33m(\u001b[0m\u001b[1;33m*\u001b[0m\u001b[0minput\u001b[0m\u001b[1;33m,\u001b[0m \u001b[1;33m**\u001b[0m\u001b[0mkwargs\u001b[0m\u001b[1;33m)\u001b[0m\u001b[1;33m\u001b[0m\u001b[1;33m\u001b[0m\u001b[0m\n\u001b[0;32m    546\u001b[0m         \u001b[1;32melse\u001b[0m\u001b[1;33m:\u001b[0m\u001b[1;33m\u001b[0m\u001b[1;33m\u001b[0m\u001b[0m\n\u001b[1;32m--> 547\u001b[1;33m             \u001b[0mresult\u001b[0m \u001b[1;33m=\u001b[0m \u001b[0mself\u001b[0m\u001b[1;33m.\u001b[0m\u001b[0mforward\u001b[0m\u001b[1;33m(\u001b[0m\u001b[1;33m*\u001b[0m\u001b[0minput\u001b[0m\u001b[1;33m,\u001b[0m \u001b[1;33m**\u001b[0m\u001b[0mkwargs\u001b[0m\u001b[1;33m)\u001b[0m\u001b[1;33m\u001b[0m\u001b[1;33m\u001b[0m\u001b[0m\n\u001b[0m\u001b[0;32m    548\u001b[0m         \u001b[1;32mfor\u001b[0m \u001b[0mhook\u001b[0m \u001b[1;32min\u001b[0m \u001b[0mself\u001b[0m\u001b[1;33m.\u001b[0m\u001b[0m_forward_hooks\u001b[0m\u001b[1;33m.\u001b[0m\u001b[0mvalues\u001b[0m\u001b[1;33m(\u001b[0m\u001b[1;33m)\u001b[0m\u001b[1;33m:\u001b[0m\u001b[1;33m\u001b[0m\u001b[1;33m\u001b[0m\u001b[0m\n\u001b[0;32m    549\u001b[0m             \u001b[0mhook_result\u001b[0m \u001b[1;33m=\u001b[0m \u001b[0mhook\u001b[0m\u001b[1;33m(\u001b[0m\u001b[0mself\u001b[0m\u001b[1;33m,\u001b[0m \u001b[0minput\u001b[0m\u001b[1;33m,\u001b[0m \u001b[0mresult\u001b[0m\u001b[1;33m)\u001b[0m\u001b[1;33m\u001b[0m\u001b[1;33m\u001b[0m\u001b[0m\n",
      "\u001b[1;32mf:\\ProgramData\\Anaconda3\\envs\\dml\\lib\\site-packages\\torch\\nn\\modules\\conv.py\u001b[0m in \u001b[0;36mforward\u001b[1;34m(self, input)\u001b[0m\n\u001b[0;32m    341\u001b[0m \u001b[1;33m\u001b[0m\u001b[0m\n\u001b[0;32m    342\u001b[0m     \u001b[1;32mdef\u001b[0m \u001b[0mforward\u001b[0m\u001b[1;33m(\u001b[0m\u001b[0mself\u001b[0m\u001b[1;33m,\u001b[0m \u001b[0minput\u001b[0m\u001b[1;33m)\u001b[0m\u001b[1;33m:\u001b[0m\u001b[1;33m\u001b[0m\u001b[1;33m\u001b[0m\u001b[0m\n\u001b[1;32m--> 343\u001b[1;33m         \u001b[1;32mreturn\u001b[0m \u001b[0mself\u001b[0m\u001b[1;33m.\u001b[0m\u001b[0mconv2d_forward\u001b[0m\u001b[1;33m(\u001b[0m\u001b[0minput\u001b[0m\u001b[1;33m,\u001b[0m \u001b[0mself\u001b[0m\u001b[1;33m.\u001b[0m\u001b[0mweight\u001b[0m\u001b[1;33m)\u001b[0m\u001b[1;33m\u001b[0m\u001b[1;33m\u001b[0m\u001b[0m\n\u001b[0m\u001b[0;32m    344\u001b[0m \u001b[1;33m\u001b[0m\u001b[0m\n\u001b[0;32m    345\u001b[0m \u001b[1;32mclass\u001b[0m \u001b[0mConv3d\u001b[0m\u001b[1;33m(\u001b[0m\u001b[0m_ConvNd\u001b[0m\u001b[1;33m)\u001b[0m\u001b[1;33m:\u001b[0m\u001b[1;33m\u001b[0m\u001b[1;33m\u001b[0m\u001b[0m\n",
      "\u001b[1;32mf:\\ProgramData\\Anaconda3\\envs\\dml\\lib\\site-packages\\torch\\nn\\modules\\conv.py\u001b[0m in \u001b[0;36mconv2d_forward\u001b[1;34m(self, input, weight)\u001b[0m\n\u001b[0;32m    338\u001b[0m                             _pair(0), self.dilation, self.groups)\n\u001b[0;32m    339\u001b[0m         return F.conv2d(input, weight, self.bias, self.stride,\n\u001b[1;32m--> 340\u001b[1;33m                         self.padding, self.dilation, self.groups)\n\u001b[0m\u001b[0;32m    341\u001b[0m \u001b[1;33m\u001b[0m\u001b[0m\n\u001b[0;32m    342\u001b[0m     \u001b[1;32mdef\u001b[0m \u001b[0mforward\u001b[0m\u001b[1;33m(\u001b[0m\u001b[0mself\u001b[0m\u001b[1;33m,\u001b[0m \u001b[0minput\u001b[0m\u001b[1;33m)\u001b[0m\u001b[1;33m:\u001b[0m\u001b[1;33m\u001b[0m\u001b[1;33m\u001b[0m\u001b[0m\n",
      "\u001b[1;31mRuntimeError\u001b[0m: CUDA out of memory. Tried to allocate 1.53 GiB (GPU 0; 4.00 GiB total capacity; 2.13 GiB already allocated; 560.29 MiB free; 250.90 MiB cached)"
     ]
    }
   ],
   "source": [
    "# YOUR CODE HERE\n",
    "model = vgg_model\n",
    "model.to(device);\n",
    "#loss_fn = nn.NLLLoss()\n",
    "loss_fn = nn.CrossEntropyLoss()\n",
    "\n",
    "optimizer = optim.Adam(model.parameters(), lr=0.001)\n",
    "#optimizer = optim.SGD(model.parameters(), lr=0.0001,momentum=0.5)\n",
    "\n",
    "\n",
    "def evaluate_model(val_data_loader, model, loss_fn):\n",
    "    losses = []\n",
    "    n_correct = 0\n",
    "    with torch.no_grad():\n",
    "        for b_x, b_y in val_data_loader:\n",
    "            b_x=b_x.to(device)\n",
    "            b_y=b_y.to(device)\n",
    "            pred = model(b_x)\n",
    "            loss = loss_fn(pred, b_y)\n",
    "            losses.append(loss.item())\n",
    "            \n",
    "            hard_preds = pred.argmax(dim=1)\n",
    "            n_correct += torch.sum(pred.argmax(dim=1) == b_y).item()\n",
    "        val_accuracy = n_correct/len(val_dataset)\n",
    "        val_avg_loss = sum(losses)/len(losses)    \n",
    "    \n",
    "    return val_accuracy, val_avg_loss\n",
    "\n",
    "\n",
    "TRANSFORM_TRAINIMG = transforms.Compose([\n",
    "    transforms.Resize(224),    \n",
    "    transforms.CenterCrop(224), \n",
    "    transforms.ToTensor(),\n",
    "    transforms.Normalize(mean=small_train_mean,\n",
    "                         std =small_train_std )\n",
    "    ])\n",
    "TRANSFORM_VALIMG = transforms.Compose([\n",
    "    transforms.Resize(224),  \n",
    "    transforms.CenterCrop(224),   \n",
    "    transforms.ToTensor(),\n",
    "    transforms.Normalize(mean=small_val_std,\n",
    "                         std =small_val_std )\n",
    "    ])\n",
    "\n",
    "train_dataset= ImageFolder( root=\"train\", transform=TRANSFORM_TRAINIMG )\n",
    "train_data_loader = DataLoader(train_dataset, batch_size=128, shuffle=True, drop_last=False, num_workers=4)\n",
    "\n",
    "val_dataset= ImageFolder( root=\"val\", transform=TRANSFORM_VALIMG ) \n",
    "val_data_loader = DataLoader(val_dataset, batch_size=256, num_workers=4)\n",
    "\n",
    "\n",
    "\n",
    "for epoch in range(35):\n",
    "    losses = []\n",
    "    n_correct = 0\n",
    "    for b_x, b_y in train_data_loader:\n",
    "        b_x=b_x.to(device)\n",
    "        b_y=b_y.to(device)\n",
    "        \n",
    "        # Compute predictions and losses\n",
    "        pred = model(b_x)\n",
    "        loss = loss_fn(pred, b_y)\n",
    "        \n",
    "        losses.append(loss.item())\n",
    "        \n",
    "        # Count number of correct predictions\n",
    "        hard_preds = pred.argmax(dim=1)\n",
    "        n_correct += torch.sum(pred.argmax(dim=1) == b_y).item()\n",
    "\n",
    "        # Backpropagate\n",
    "        loss.backward()\n",
    "        optimizer.step()\n",
    "        optimizer.zero_grad()    \n",
    "        \n",
    "    # Compute accuracy and loss in the entire training set\n",
    "    train_accuracy = n_correct/len(train_dataset)\n",
    "    train_avg_loss = sum(losses)/len(losses)    \n",
    "    \n",
    "\n",
    "    # Compute accuracy and loss in the entire validation set\n",
    "   \n",
    "    val_accuracy, val_avg_loss = evaluate_model(val_data_loader, model, loss_fn)\n",
    "  \n",
    "    \n",
    "    \n",
    "    # Display metrics\n",
    "    display_str = 'Epoch {} '\n",
    "    display_str += '\\tLoss: {:.3f} '\n",
    "    display_str += '\\tLoss (val): {:.3f}'\n",
    "    display_str += '\\tAccuracy: {:.2f} '\n",
    "    display_str += '\\tAccuracy (val): {:.2f}'\n",
    "    print(display_str.format(epoch, train_avg_loss, val_avg_loss, train_accuracy, val_accuracy))\n",
    "\n",
    "\n",
    "\n"
   ]
  },
  {
   "cell_type": "markdown",
   "metadata": {
    "deletable": false,
    "editable": false,
    "nbgrader": {
     "cell_type": "markdown",
     "checksum": "34bf11c4a55f184ccc7d589c841b0be2",
     "grade": false,
     "grade_id": "cell-ad79e1aa5c4a6185",
     "locked": true,
     "schema_version": 3,
     "solution": false
    }
   },
   "source": [
    "Create two plots. In one of them, plot the loss in the training and the validation datasets. In the other one, plot the accuracy in the training and validation datasets."
   ]
  },
  {
   "cell_type": "code",
   "execution_count": null,
   "metadata": {
    "deletable": false,
    "nbgrader": {
     "cell_type": "code",
     "checksum": "99986b7bbdfb6b78c25112751969d11f",
     "grade": true,
     "grade_id": "cell-f17c882b2a09dee7",
     "locked": false,
     "points": 0,
     "schema_version": 3,
     "solution": true
    }
   },
   "outputs": [],
   "source": [
    "# YOUR CODE HERE"
   ]
  },
  {
   "cell_type": "markdown",
   "metadata": {
    "deletable": false,
    "editable": false,
    "nbgrader": {
     "cell_type": "markdown",
     "checksum": "8c4634579a40b62a3db715b027fbd80a",
     "grade": false,
     "grade_id": "cell-779d477ffe1ebbf6",
     "locked": true,
     "schema_version": 3,
     "solution": false
    }
   },
   "source": [
    "How does the model perform, compared to the model obtained in step 3? Create one plot with the training accuracy and another with the validation accuracy of the two scenarios."
   ]
  },
  {
   "cell_type": "code",
   "execution_count": null,
   "metadata": {
    "deletable": false,
    "nbgrader": {
     "cell_type": "code",
     "checksum": "873c045fa2e6f22815a90194ed2785f3",
     "grade": true,
     "grade_id": "cell-e3e3990ba39bea67",
     "locked": false,
     "points": 0,
     "schema_version": 3,
     "solution": true
    }
   },
   "outputs": [],
   "source": [
    "# YOUR CODE HERE"
   ]
  },
  {
   "cell_type": "markdown",
   "metadata": {
    "deletable": false,
    "editable": false,
    "nbgrader": {
     "cell_type": "markdown",
     "checksum": "9eb35f2f008149a41dee4dd98bb8007c",
     "grade": false,
     "grade_id": "cell-b84dd461d5ddcc8d",
     "locked": true,
     "schema_version": 3,
     "solution": false
    }
   },
   "source": [
    "**(2 POE)** Compare these results. Which approach worked best, starting from scratch or doing transfer learning? Reflect on whether your comparison is fair or not:"
   ]
  },
  {
   "cell_type": "markdown",
   "metadata": {
    "deletable": false,
    "nbgrader": {
     "cell_type": "markdown",
     "checksum": "dce3df56e420472eafb032186728064f",
     "grade": true,
     "grade_id": "cell-f9e1a6a643946cd2",
     "locked": false,
     "points": 2,
     "schema_version": 3,
     "solution": true
    }
   },
   "source": [
    "**Your answer:** (fill in here)"
   ]
  },
  {
   "cell_type": "markdown",
   "metadata": {
    "deletable": false,
    "editable": false,
    "nbgrader": {
     "cell_type": "markdown",
     "checksum": "746937de51331942cb10b63d8892f29e",
     "grade": false,
     "grade_id": "cell-c8afb448c67da5f8",
     "locked": true,
     "schema_version": 3,
     "solution": false
    }
   },
   "source": [
    "**(1 POE)** What are the main differences between the ImageNet dataset and the Dogs vs Cats dataset we used?"
   ]
  },
  {
   "cell_type": "markdown",
   "metadata": {
    "deletable": false,
    "nbgrader": {
     "cell_type": "markdown",
     "checksum": "4e1152bb9b59ad5cb8016d3ebe648e97",
     "grade": true,
     "grade_id": "cell-2be321b63232ae01",
     "locked": false,
     "points": 1,
     "schema_version": 3,
     "solution": true
    }
   },
   "source": [
    "**Your answer:** (fill in here)"
   ]
  },
  {
   "cell_type": "markdown",
   "metadata": {
    "deletable": false,
    "editable": false,
    "nbgrader": {
     "cell_type": "markdown",
     "checksum": "4abd95aa268f813d682dd372f5f46839",
     "grade": false,
     "grade_id": "cell-71a8b8de004f6e57",
     "locked": true,
     "schema_version": 3,
     "solution": false
    }
   },
   "source": [
    "**Optional (2 POE)** Even though there are considerable differences between these datasets, why is it that transfer learning is still a good idea?"
   ]
  },
  {
   "cell_type": "markdown",
   "metadata": {
    "deletable": false,
    "nbgrader": {
     "cell_type": "markdown",
     "checksum": "9605a949f6c6b94fac8feb5a6bcbbcad",
     "grade": true,
     "grade_id": "cell-655d00face15a862",
     "locked": false,
     "points": 2,
     "schema_version": 3,
     "solution": true
    }
   },
   "source": [
    "**Your answer:** (fill in here)"
   ]
  },
  {
   "cell_type": "markdown",
   "metadata": {
    "deletable": false,
    "editable": false,
    "nbgrader": {
     "cell_type": "markdown",
     "checksum": "988d32c37c7135943f9775a37a511973",
     "grade": false,
     "grade_id": "cell-19785940b9624d2c",
     "locked": true,
     "schema_version": 3,
     "solution": false
    }
   },
   "source": [
    "**Optional (1 POE)** In which scenario would transfer learning be unsuitable?"
   ]
  },
  {
   "cell_type": "markdown",
   "metadata": {
    "deletable": false,
    "nbgrader": {
     "cell_type": "markdown",
     "checksum": "ce818a8e86ceb511348597d975b34016",
     "grade": true,
     "grade_id": "cell-e79df7472ff5506a",
     "locked": false,
     "points": 1,
     "schema_version": 3,
     "solution": true
    }
   },
   "source": [
    "**Your answer:** (fill in here)"
   ]
  },
  {
   "cell_type": "markdown",
   "metadata": {
    "deletable": false,
    "editable": false,
    "nbgrader": {
     "cell_type": "markdown",
     "checksum": "b24258079f4e71e1842b78e479095117",
     "grade": false,
     "grade_id": "cell-111f2b1d28919293",
     "locked": true,
     "schema_version": 3,
     "solution": false
    }
   },
   "source": [
    "Save the model to a file."
   ]
  },
  {
   "cell_type": "code",
   "execution_count": null,
   "metadata": {},
   "outputs": [],
   "source": [
    "torch.save(VGG_model.state_dict(), \"trans_learning_top_only\")"
   ]
  },
  {
   "cell_type": "markdown",
   "metadata": {
    "deletable": false,
    "editable": false,
    "nbgrader": {
     "cell_type": "markdown",
     "checksum": "ab5bf17534c2ac6852d79e32793fdbf7",
     "grade": false,
     "grade_id": "cell-544a73726bebe121",
     "locked": true,
     "schema_version": 3,
     "solution": false
    }
   },
   "source": [
    "### 4.2 Fine-tuning"
   ]
  },
  {
   "cell_type": "markdown",
   "metadata": {
    "deletable": false,
    "editable": false,
    "nbgrader": {
     "cell_type": "markdown",
     "checksum": "54080ee12529dc9ec0d2a887cc564243",
     "grade": false,
     "grade_id": "cell-1ee9ebc87fd3358e",
     "locked": true,
     "schema_version": 3,
     "solution": false
    }
   },
   "source": [
    "Now that we have a better starting point for the top layers, we can train the entire network. Unfreeze the bottom layers by resetting the `requires_grad` attribute to `True`."
   ]
  },
  {
   "cell_type": "code",
   "execution_count": null,
   "metadata": {
    "deletable": false,
    "nbgrader": {
     "cell_type": "code",
     "checksum": "5fa86d1e45984112d3d27953e63d312e",
     "grade": true,
     "grade_id": "cell-3918c2cdd9817f7e",
     "locked": false,
     "points": 0,
     "schema_version": 3,
     "solution": true
    }
   },
   "outputs": [],
   "source": [
    "# UnFreeze bottom\n",
    "# YOUR CODE HERE"
   ]
  },
  {
   "cell_type": "markdown",
   "metadata": {
    "deletable": false,
    "editable": false,
    "nbgrader": {
     "cell_type": "markdown",
     "checksum": "c7437f0a564e0430e81490cf7c2dc9a5",
     "grade": false,
     "grade_id": "cell-80fa8c89f1b262f1",
     "locked": true,
     "schema_version": 3,
     "solution": false
    }
   },
   "source": [
    "Fine tune the model by training all the layers.\n",
    "\n",
    "Hint:\n",
    "- Even though we do have a decent starting point for the optimization, it's still possible that a bad hyper-parameter choice wrecks the preinitialization. Make sure to use a small learning rate for this step."
   ]
  },
  {
   "cell_type": "code",
   "execution_count": null,
   "metadata": {
    "deletable": false,
    "nbgrader": {
     "cell_type": "code",
     "checksum": "71ce705f916d83ecec507903ac4a4c64",
     "grade": true,
     "grade_id": "cell-594c6039216461e5",
     "locked": false,
     "points": 0,
     "schema_version": 3,
     "solution": true
    }
   },
   "outputs": [],
   "source": [
    "# YOUR CODE HERE"
   ]
  },
  {
   "cell_type": "markdown",
   "metadata": {
    "deletable": false,
    "editable": false,
    "nbgrader": {
     "cell_type": "markdown",
     "checksum": "de73952e2230136bd52c1c3b2c590896",
     "grade": false,
     "grade_id": "cell-5dc3e388a41da3ed",
     "locked": true,
     "schema_version": 3,
     "solution": false
    }
   },
   "source": [
    "How does the model perform, compared to the model trained with frozen layers? Create one plot with the training accuracy and another with the validation accuracy of the two scenarios."
   ]
  },
  {
   "cell_type": "code",
   "execution_count": null,
   "metadata": {
    "deletable": false,
    "nbgrader": {
     "cell_type": "code",
     "checksum": "b7b2e69e2ffc7f5bff07ba62225b4cee",
     "grade": true,
     "grade_id": "cell-7edb12ee397ec817",
     "locked": false,
     "points": 0,
     "schema_version": 3,
     "solution": true
    }
   },
   "outputs": [],
   "source": [
    "# YOUR CODE HERE"
   ]
  },
  {
   "cell_type": "markdown",
   "metadata": {
    "deletable": false,
    "editable": false,
    "nbgrader": {
     "cell_type": "markdown",
     "checksum": "23eacf2e2de74dba9a8baf7f4c1c0877",
     "grade": false,
     "grade_id": "cell-5dae528a81d5ff24",
     "locked": true,
     "schema_version": 3,
     "solution": false
    }
   },
   "source": [
    "**(1 POE)** Did the model's performance improve? Why (why not)?"
   ]
  },
  {
   "cell_type": "markdown",
   "metadata": {
    "deletable": false,
    "nbgrader": {
     "cell_type": "markdown",
     "checksum": "69dfca588131944b0e9825a1532de432",
     "grade": true,
     "grade_id": "cell-0f4a5edca490320e",
     "locked": false,
     "points": 1,
     "schema_version": 3,
     "solution": true
    }
   },
   "source": [
    "**Your answer:** (fill in here)"
   ]
  },
  {
   "cell_type": "markdown",
   "metadata": {
    "deletable": false,
    "editable": false,
    "nbgrader": {
     "cell_type": "markdown",
     "checksum": "4971aa0a2e159c1780dedfc5e78b7c15",
     "grade": false,
     "grade_id": "cell-4ed3967e4f6c5f7f",
     "locked": true,
     "schema_version": 3,
     "solution": false
    }
   },
   "source": [
    "Save the model to file."
   ]
  },
  {
   "cell_type": "code",
   "execution_count": null,
   "metadata": {},
   "outputs": [],
   "source": [
    "torch.save(model.state_dict(), \"trans_learning_full\")"
   ]
  },
  {
   "cell_type": "markdown",
   "metadata": {
    "deletable": false,
    "editable": false,
    "nbgrader": {
     "cell_type": "markdown",
     "checksum": "42d6362e7a0f25fc579ad6e33f1b401b",
     "grade": false,
     "grade_id": "cell-56908ee1e60aa411",
     "locked": true,
     "schema_version": 3,
     "solution": false
    }
   },
   "source": [
    "### 4.3 Improving the top model (optional)"
   ]
  },
  {
   "cell_type": "markdown",
   "metadata": {
    "deletable": false,
    "editable": false,
    "nbgrader": {
     "cell_type": "markdown",
     "checksum": "4f74ac0be60b7253bfe604c521647a07",
     "grade": false,
     "grade_id": "cell-3c8d8e5ab949ee35",
     "locked": true,
     "schema_version": 3,
     "solution": false
    }
   },
   "source": [
    "Improve the architecture for the layers you add on top of VGG16. Try different ideas! When you're happy with one architecture, copy it in the cell below and train it here."
   ]
  },
  {
   "cell_type": "code",
   "execution_count": null,
   "metadata": {
    "deletable": false,
    "nbgrader": {
     "cell_type": "code",
     "checksum": "4c69b20551001d0e612f3b9221dc7dbc",
     "grade": true,
     "grade_id": "cell-22d09c8401d84b61",
     "locked": false,
     "points": 0,
     "schema_version": 3,
     "solution": true
    }
   },
   "outputs": [],
   "source": [
    "# YOUR CODE HERE"
   ]
  },
  {
   "cell_type": "markdown",
   "metadata": {
    "deletable": false,
    "editable": false,
    "nbgrader": {
     "cell_type": "markdown",
     "checksum": "8fc346783e0e1a80bd856ca85bf5e744",
     "grade": false,
     "grade_id": "cell-48933baad6c5afeb",
     "locked": true,
     "schema_version": 3,
     "solution": false
    }
   },
   "source": [
    "**(1 POE)** How does the model perform, compared to the model trained in step 4.2? Create one plot with the training accuracy and another with the validation accuracy of the two scenarios."
   ]
  },
  {
   "cell_type": "code",
   "execution_count": null,
   "metadata": {
    "deletable": false,
    "nbgrader": {
     "cell_type": "code",
     "checksum": "b520759c1ceb8218d203dc9655d25361",
     "grade": true,
     "grade_id": "cell-7cb62a04916a848e",
     "locked": false,
     "points": 1,
     "schema_version": 3,
     "solution": true
    }
   },
   "outputs": [],
   "source": [
    "# YOUR CODE HERE"
   ]
  },
  {
   "cell_type": "markdown",
   "metadata": {
    "deletable": false,
    "editable": false,
    "nbgrader": {
     "cell_type": "markdown",
     "checksum": "84662189498e2454093c4a54a53716d6",
     "grade": false,
     "grade_id": "cell-8bbfa3e11e2dfff9",
     "locked": true,
     "schema_version": 3,
     "solution": false
    }
   },
   "source": [
    "Save the model to a file."
   ]
  },
  {
   "cell_type": "code",
   "execution_count": null,
   "metadata": {},
   "outputs": [],
   "source": [
    "torch.save(model.state_dict(), \"best_trans_learning\")"
   ]
  },
  {
   "cell_type": "markdown",
   "metadata": {
    "deletable": false,
    "editable": false,
    "nbgrader": {
     "cell_type": "markdown",
     "checksum": "49c722f31cfd70e995b6226c86584565",
     "grade": false,
     "grade_id": "cell-ad0efbac33de5a65",
     "locked": true,
     "schema_version": 3,
     "solution": false
    }
   },
   "source": [
    "## 5. Final training"
   ]
  },
  {
   "cell_type": "markdown",
   "metadata": {
    "deletable": false,
    "editable": false,
    "nbgrader": {
     "cell_type": "markdown",
     "checksum": "6e460754d2c0f05f0e79ae982a3fe3d3",
     "grade": false,
     "grade_id": "cell-cf811afdac96843b",
     "locked": true,
     "schema_version": 3,
     "solution": false
    }
   },
   "source": [
    "Now we'll train the model that achieved the best performance so far using the entire dataset.\n",
    "\n",
    "**Note**: start the optimization with the weights you obtained training in the smaller subset, i.e. *not* from scratch."
   ]
  },
  {
   "cell_type": "markdown",
   "metadata": {
    "deletable": false,
    "editable": false,
    "nbgrader": {
     "cell_type": "markdown",
     "checksum": "4ad8b2d67a68a5afcf4c8645d3070550",
     "grade": false,
     "grade_id": "cell-3ae2a65188e4ac74",
     "locked": true,
     "schema_version": 3,
     "solution": false
    }
   },
   "source": [
    "First, create two new data loaders, one for training samples and one for validation samples. This time, they'll load data from the folders for the entire dataset."
   ]
  },
  {
   "cell_type": "code",
   "execution_count": null,
   "metadata": {
    "deletable": false,
    "nbgrader": {
     "cell_type": "code",
     "checksum": "94d6c3dc3c25680c53c2f2d4aef85b9d",
     "grade": true,
     "grade_id": "cell-64eaa83780f5eac9",
     "locked": false,
     "points": 0,
     "schema_version": 3,
     "solution": true
    }
   },
   "outputs": [],
   "source": [
    "# YOUR CODE HERE"
   ]
  },
  {
   "cell_type": "markdown",
   "metadata": {
    "deletable": false,
    "editable": false,
    "nbgrader": {
     "cell_type": "markdown",
     "checksum": "122af97053f34fc41312863aab715317",
     "grade": false,
     "grade_id": "cell-f3f79586de42561b",
     "locked": true,
     "schema_version": 3,
     "solution": false
    }
   },
   "source": [
    "Train your model using the full data. This optimization might take a long time, so live plotting of some metrics is recommended."
   ]
  },
  {
   "cell_type": "code",
   "execution_count": null,
   "metadata": {
    "deletable": false,
    "nbgrader": {
     "cell_type": "code",
     "checksum": "27996ba3be6dddb4dfe2da1d0964f5ff",
     "grade": true,
     "grade_id": "cell-c7dd71a632b5f152",
     "locked": false,
     "points": 0,
     "schema_version": 3,
     "solution": true
    }
   },
   "outputs": [],
   "source": [
    "# YOUR CODE HERE"
   ]
  },
  {
   "cell_type": "markdown",
   "metadata": {
    "deletable": false,
    "editable": false,
    "nbgrader": {
     "cell_type": "markdown",
     "checksum": "d0ab46f558fb4b49f877ca0bae45376b",
     "grade": false,
     "grade_id": "cell-b1861d3a543c6386",
     "locked": true,
     "schema_version": 3,
     "solution": false
    }
   },
   "source": [
    "How does the model perform now when trained on the entire dataset, compared to when only trained on the smaller subset of data? Create one plot with the training accuracy and another with the validation accuracy of the two scenarios."
   ]
  },
  {
   "cell_type": "code",
   "execution_count": null,
   "metadata": {
    "deletable": false,
    "nbgrader": {
     "cell_type": "code",
     "checksum": "52bacfa672fbc7eca004c87d041e3411",
     "grade": true,
     "grade_id": "cell-ceaac6be60ce36a9",
     "locked": false,
     "points": 0,
     "schema_version": 3,
     "solution": true
    }
   },
   "outputs": [],
   "source": [
    "# YOUR CODE HERE"
   ]
  },
  {
   "cell_type": "markdown",
   "metadata": {
    "deletable": false,
    "editable": false,
    "nbgrader": {
     "cell_type": "markdown",
     "checksum": "c6d931b0ea2198e83794788a4582de55",
     "grade": false,
     "grade_id": "cell-b38092b08c150e7d",
     "locked": true,
     "schema_version": 3,
     "solution": false
    }
   },
   "source": [
    "**(2 POE)** What can you conclude from these plots? Did you expect what you observe in the plots, explain!"
   ]
  },
  {
   "cell_type": "markdown",
   "metadata": {
    "deletable": false,
    "nbgrader": {
     "cell_type": "markdown",
     "checksum": "22d5b2529d702c64919bef4e02ca308c",
     "grade": true,
     "grade_id": "cell-694a3fbb7f081da8",
     "locked": false,
     "points": 2,
     "schema_version": 3,
     "solution": true
    }
   },
   "source": [
    "**Your answer:** (fill in here)"
   ]
  },
  {
   "cell_type": "markdown",
   "metadata": {
    "deletable": false,
    "editable": false,
    "nbgrader": {
     "cell_type": "markdown",
     "checksum": "616d9047ba0c30d8343e48ecc58bd4d0",
     "grade": false,
     "grade_id": "cell-5e1ddfbfceb4d194",
     "locked": true,
     "schema_version": 3,
     "solution": false
    }
   },
   "source": [
    "## 6. Evaluation on test set (optional)"
   ]
  },
  {
   "cell_type": "markdown",
   "metadata": {
    "deletable": false,
    "editable": false,
    "nbgrader": {
     "cell_type": "markdown",
     "checksum": "2ba9f068757111d07c7e537904e333cf",
     "grade": false,
     "grade_id": "cell-a97630bf5d85363f",
     "locked": true,
     "schema_version": 3,
     "solution": false
    }
   },
   "source": [
    "Now we'll evaluate your final model, obtained in step 6, on the test set. As mentioned before, the samples in the test set are not labeled, so we can't compute any performance metrics ourselves. \n",
    "\n",
    "As a bit of fun and to inspire some friendly competition you may instead submit it to Kaggle for evaluation."
   ]
  },
  {
   "cell_type": "markdown",
   "metadata": {
    "deletable": false,
    "editable": false,
    "nbgrader": {
     "cell_type": "markdown",
     "checksum": "2117c8c8e04d212a24f96d72d047526c",
     "grade": false,
     "grade_id": "cell-96a8fded54ed7011",
     "locked": true,
     "schema_version": 3,
     "solution": false
    }
   },
   "source": [
    "Compute the predictions for all samples in the test set according to your best model, and save it in a .csv file with the format expected by the competition.\n",
    "\n",
    "Hints:\n",
    "- There is a `sampleSubmission.csv` file included in the zip data. Take a look at it to better understand what is the expected format here.\n",
    "- `pathlib`'s `Path` class has a `glob` function, which returns the filenames of all files in a given path.\n",
    "- If you don't know how to create and write to files with Python, Google can help."
   ]
  },
  {
   "cell_type": "code",
   "execution_count": null,
   "metadata": {
    "deletable": false,
    "nbgrader": {
     "cell_type": "code",
     "checksum": "e235a9ab5690a066143575414247f751",
     "grade": true,
     "grade_id": "cell-cc77ac7849f856e1",
     "locked": false,
     "points": 0,
     "schema_version": 3,
     "solution": true
    }
   },
   "outputs": [],
   "source": [
    "# YOUR CODE HERE"
   ]
  },
  {
   "cell_type": "markdown",
   "metadata": {
    "deletable": false,
    "editable": false,
    "nbgrader": {
     "cell_type": "markdown",
     "checksum": "97877f48922ebbd0c50829231a227ce5",
     "grade": false,
     "grade_id": "cell-faf8664f26ff7f4e",
     "locked": true,
     "schema_version": 3,
     "solution": false
    }
   },
   "source": [
    "Now that you created your submission file, submit it to Kaggle for evaluation. The [old competition](https://www.kaggle.com/c/dogs-vs-cats) does not allow submissions any more, but you can submit your file to the [new one](https://www.kaggle.com/c/dogs-vs-cats-redux-kernels-edition) via the \"Late submission\" button (they use the same data). The Kaggle CLI can be used as well. Kaggle evaluates your submission according to your log-loss score. Which score did you obtain?"
   ]
  },
  {
   "cell_type": "markdown",
   "metadata": {
    "deletable": false,
    "nbgrader": {
     "cell_type": "markdown",
     "checksum": "b8507722245d56a20dd6809091664f78",
     "grade": true,
     "grade_id": "cell-e951dcec64dec85d",
     "locked": false,
     "points": 0,
     "schema_version": 3,
     "solution": true
    }
   },
   "source": [
    "**Your answer:** (fill in here)"
   ]
  },
  {
   "cell_type": "markdown",
   "metadata": {
    "deletable": false,
    "editable": false,
    "nbgrader": {
     "cell_type": "markdown",
     "checksum": "e8a7f3a8236f43994efe29067d7237c2",
     "grade": false,
     "grade_id": "cell-dc362abcfef32eae",
     "locked": true,
     "schema_version": 3,
     "solution": false
    }
   },
   "source": [
    "What was the username you used for this submission?"
   ]
  },
  {
   "cell_type": "markdown",
   "metadata": {
    "deletable": false,
    "nbgrader": {
     "cell_type": "markdown",
     "checksum": "8cc61665c676edcd9192df3c15714aa3",
     "grade": true,
     "grade_id": "cell-d519532bb1f957c3",
     "locked": false,
     "points": 0,
     "schema_version": 3,
     "solution": true
    }
   },
   "source": [
    "**Your answer:** (fill in here)"
   ]
  }
 ],
 "metadata": {
  "kernelspec": {
   "display_name": "Python 3",
   "language": "python",
   "name": "python3"
  },
  "language_info": {
   "codemirror_mode": {
    "name": "ipython",
    "version": 3
   },
   "file_extension": ".py",
   "mimetype": "text/x-python",
   "name": "python",
   "nbconvert_exporter": "python",
   "pygments_lexer": "ipython3",
   "version": "3.7.9"
  }
 },
 "nbformat": 4,
 "nbformat_minor": 2
}
